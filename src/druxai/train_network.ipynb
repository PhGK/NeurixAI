{
 "cells": [
  {
   "cell_type": "code",
   "execution_count": 1,
   "metadata": {},
   "outputs": [],
   "source": [
    "from utils.data import MyDataSet\n",
    "import torch"
   ]
  },
  {
   "cell_type": "code",
   "execution_count": 2,
   "metadata": {},
   "outputs": [],
   "source": [
    "ds = MyDataSet(file_path='../../data/preprocessed', results_dir=\"../../results\", n_splits = 5)"
   ]
  },
  {
   "cell_type": "code",
   "execution_count": 3,
   "metadata": {},
   "outputs": [],
   "source": [
    "from models.NN import Interaction_Model\n",
    "model_interaction = Interaction_Model(ds)"
   ]
  },
  {
   "cell_type": "code",
   "execution_count": 4,
   "metadata": {},
   "outputs": [
    {
     "name": "stdout",
     "output_type": "stream",
     "text": [
      "fold:  1\n"
     ]
    },
    {
     "name": "stderr",
     "output_type": "stream",
     "text": [
      "100%|██████████| 3508/3508 [09:29<00:00,  6.16it/s]\n",
      "100%|██████████| 3508/3508 [09:31<00:00,  6.14it/s]\n",
      "100%|██████████| 3508/3508 [09:22<00:00,  6.24it/s]\n",
      "100%|██████████| 3508/3508 [09:34<00:00,  6.11it/s]\n",
      "100%|██████████| 3508/3508 [09:26<00:00,  6.19it/s]\n"
     ]
    },
    {
     "name": "stdout",
     "output_type": "stream",
     "text": [
      "batch size:  128 0.06561000000000002\n"
     ]
    },
    {
     "name": "stderr",
     "output_type": "stream",
     "text": [
      "100%|██████████| 108/108 [00:41<00:00,  2.60it/s]\n"
     ]
    },
    {
     "name": "stdout",
     "output_type": "stream",
     "text": [
      "5 testloss: tensor(0.3902)\n"
     ]
    },
    {
     "name": "stderr",
     "output_type": "stream",
     "text": [
      "100%|██████████| 3508/3508 [09:25<00:00,  6.20it/s]\n",
      "100%|██████████| 3508/3508 [09:31<00:00,  6.14it/s]\n",
      "100%|██████████| 3508/3508 [09:27<00:00,  6.19it/s]\n",
      "100%|██████████| 3508/3508 [09:21<00:00,  6.25it/s]\n",
      "100%|██████████| 3508/3508 [09:26<00:00,  6.19it/s]\n",
      "100%|██████████| 3508/3508 [09:26<00:00,  6.19it/s]\n",
      "100%|██████████| 3508/3508 [09:48<00:00,  5.96it/s]\n",
      "100%|██████████| 3508/3508 [10:00<00:00,  5.84it/s]\n",
      "100%|██████████| 3508/3508 [09:51<00:00,  5.93it/s]\n",
      "100%|██████████| 3508/3508 [09:56<00:00,  5.88it/s]\n",
      "100%|██████████| 3508/3508 [09:39<00:00,  6.05it/s]\n",
      "  7%|▋         | 238/3508 [00:50<11:30,  4.73it/s] \n"
     ]
    },
    {
     "ename": "KeyboardInterrupt",
     "evalue": "",
     "output_type": "error",
     "traceback": [
      "\u001b[0;31m---------------------------------------------------------------------------\u001b[0m",
      "\u001b[0;31mKeyboardInterrupt\u001b[0m                         Traceback (most recent call last)",
      "Cell \u001b[0;32mIn[4], line 4\u001b[0m\n\u001b[1;32m      1\u001b[0m \u001b[38;5;28;01mfrom\u001b[39;00m \u001b[38;5;21;01mtrain\u001b[39;00m \u001b[38;5;28;01mimport\u001b[39;00m train_test\n\u001b[1;32m      2\u001b[0m mps_device \u001b[38;5;241m=\u001b[39m torch\u001b[38;5;241m.\u001b[39mdevice(\u001b[38;5;124m\"\u001b[39m\u001b[38;5;124mmps\u001b[39m\u001b[38;5;124m\"\u001b[39m)\n\u001b[0;32m----> 4\u001b[0m \u001b[43mtrain_test\u001b[49m\u001b[43m(\u001b[49m\u001b[43mmodel_interaction\u001b[49m\u001b[43m,\u001b[49m\u001b[43m \u001b[49m\u001b[43mds\u001b[49m\u001b[43m,\u001b[49m\u001b[43m \u001b[49m\u001b[43mlr\u001b[49m\u001b[38;5;241;43m=\u001b[39;49m\u001b[38;5;241;43m0.1\u001b[39;49m\u001b[43m,\u001b[49m\u001b[43m \u001b[49m\u001b[43mnepochs\u001b[49m\u001b[38;5;241;43m=\u001b[39;49m\u001b[38;5;241;43m20\u001b[39;49m\u001b[43m,\u001b[49m\u001b[43m \u001b[49m\u001b[43mfold\u001b[49m\u001b[38;5;241;43m=\u001b[39;49m\u001b[38;5;241;43m1\u001b[39;49m\u001b[43m,\u001b[49m\u001b[43m \u001b[49m\u001b[43mdevice\u001b[49m\u001b[38;5;241;43m=\u001b[39;49m\u001b[43mmps_device\u001b[49m\u001b[43m,\u001b[49m\u001b[43m \u001b[49m\u001b[43mPATH\u001b[49m\u001b[43m \u001b[49m\u001b[38;5;241;43m=\u001b[39;49m\u001b[43m \u001b[49m\u001b[38;5;124;43m'\u001b[39;49m\u001b[38;5;124;43m../../results/training\u001b[39;49m\u001b[38;5;124;43m'\u001b[39;49m\u001b[43m)\u001b[49m\n",
      "File \u001b[0;32m~/Desktop/codespace/DruxAI/src/druxai/train.py:45\u001b[0m, in \u001b[0;36mtrain_test\u001b[0;34m(model, ds, lr, nepochs, fold, device, PATH)\u001b[0m\n\u001b[1;32m     43\u001b[0m it \u001b[38;5;241m+\u001b[39m\u001b[38;5;241m=\u001b[39m \u001b[38;5;241m1\u001b[39m\n\u001b[1;32m     44\u001b[0m \u001b[38;5;28;01mif\u001b[39;00m it \u001b[38;5;241m>\u001b[39m \u001b[38;5;241m50\u001b[39m:\n\u001b[0;32m---> 45\u001b[0m     \u001b[38;5;28;01mpass\u001b[39;00m\n\u001b[1;32m     47\u001b[0m drug, molecular, outcome \u001b[38;5;241m=\u001b[39m (\n\u001b[1;32m     48\u001b[0m     drug\u001b[38;5;241m.\u001b[39mto(device),\n\u001b[1;32m     49\u001b[0m     molecular\u001b[38;5;241m.\u001b[39mto(device),\n\u001b[1;32m     50\u001b[0m     outcome\u001b[38;5;241m.\u001b[39mto(device),\n\u001b[1;32m     51\u001b[0m )\n\u001b[1;32m     53\u001b[0m optimizer1\u001b[38;5;241m.\u001b[39mzero_grad()\n",
      "\u001b[0;31mKeyboardInterrupt\u001b[0m: "
     ]
    }
   ],
   "source": [
    "from train import train_test\n",
    "mps_device = torch.device(\"mps\")\n",
    "\n",
    "train_test(model_interaction, ds, lr=0.1, nepochs=20, fold=1, device=mps_device, PATH = '../../results/training')"
   ]
  },
  {
   "cell_type": "code",
   "execution_count": null,
   "metadata": {},
   "outputs": [],
   "source": []
  }
 ],
 "metadata": {
  "kernelspec": {
   "display_name": "DruxAI",
   "language": "python",
   "name": "python3"
  },
  "language_info": {
   "codemirror_mode": {
    "name": "ipython",
    "version": 3
   },
   "file_extension": ".py",
   "mimetype": "text/x-python",
   "name": "python",
   "nbconvert_exporter": "python",
   "pygments_lexer": "ipython3",
   "version": "3.9.18"
  }
 },
 "nbformat": 4,
 "nbformat_minor": 2
}

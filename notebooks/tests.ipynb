{
 "cells": [
  {
   "cell_type": "code",
   "execution_count": 1,
   "metadata": {},
   "outputs": [
    {
     "data": {
      "text/plain": [
       "'This is a notebook for quick tests, which are stashed later on.'"
      ]
     },
     "execution_count": 1,
     "metadata": {},
     "output_type": "execute_result"
    }
   ],
   "source": [
    "\"\"\"This is a notebook for quick tests, which are stashed later on.\"\"\""
   ]
  },
  {
   "cell_type": "code",
   "execution_count": 2,
   "metadata": {},
   "outputs": [],
   "source": [
    "%load_ext autoreload\n",
    "%autoreload 2"
   ]
  },
  {
   "cell_type": "code",
   "execution_count": 3,
   "metadata": {},
   "outputs": [
    {
     "name": "stdout",
     "output_type": "stream",
     "text": [
      "\u001b[34mINFO    \u001b[0m --------------------------------------------------                                                        \n",
      "\u001b[34mINFO    \u001b[0m --------------------------------------------------                                                        \n",
      "\u001b[34mINFO    \u001b[0m WARNING! NO GPU DETECTED!                                                                                 \n",
      "\u001b[34mINFO    \u001b[0m WARNING! NO GPU DETECTED!                                                                                 \n",
      "\u001b[34mINFO    \u001b[0m --------------------------------------------------                                                        \n",
      "\u001b[34mINFO    \u001b[0m --------------------------------------------------                                                        \n"
     ]
    },
    {
     "name": "stderr",
     "output_type": "stream",
     "text": [
      "Failed to detect the name of this notebook, you can set it manually with the WANDB_NOTEBOOK_NAME environment variable to enable code saving.\n"
     ]
    },
    {
     "name": "stdout",
     "output_type": "stream",
     "text": [
      "Create sweep with ID: pejhvqgx\n",
      "Sweep URL: https://wandb.ai/niklaskiermeyer/DruxAI%20Hyperparameter%20Sweep/sweeps/pejhvqgx\n"
     ]
    },
    {
     "name": "stderr",
     "output_type": "stream",
     "text": [
      "\u001b[34m\u001b[1mwandb\u001b[0m: Agent Starting Run: 2bshvtil with config:\n",
      "\u001b[34m\u001b[1mwandb\u001b[0m: \tbatch_size: 128\n",
      "\u001b[34m\u001b[1mwandb\u001b[0m: \tepochs: 1\n",
      "\u001b[34m\u001b[1mwandb\u001b[0m: \tlearning_rate: 0.01\n",
      "\u001b[34m\u001b[1mwandb\u001b[0m: \tloss: huber\n",
      "\u001b[34m\u001b[1mwandb\u001b[0m: \toptimizer: sgd\n",
      "\u001b[34m\u001b[1mwandb\u001b[0m: \tscheduler: exponential\n",
      "Failed to detect the name of this notebook, you can set it manually with the WANDB_NOTEBOOK_NAME environment variable to enable code saving.\n",
      "\u001b[34m\u001b[1mwandb\u001b[0m: Currently logged in as: \u001b[33mniklaskiermeyer\u001b[0m. Use \u001b[1m`wandb login --relogin`\u001b[0m to force relogin\n"
     ]
    },
    {
     "data": {
      "text/html": [
       "wandb version 0.16.5 is available!  To upgrade, please run:\n",
       " $ pip install wandb --upgrade"
      ],
      "text/plain": [
       "<IPython.core.display.HTML object>"
      ]
     },
     "metadata": {},
     "output_type": "display_data"
    },
    {
     "data": {
      "text/html": [
       "Tracking run with wandb version 0.16.4"
      ],
      "text/plain": [
       "<IPython.core.display.HTML object>"
      ]
     },
     "metadata": {},
     "output_type": "display_data"
    },
    {
     "data": {
      "text/html": [
       "Run data is saved locally in <code>/Users/niklaskiermeyer/Desktop/Codespace/DruxAI/results/training/wandb/run-20240328_150242-2bshvtil</code>"
      ],
      "text/plain": [
       "<IPython.core.display.HTML object>"
      ]
     },
     "metadata": {},
     "output_type": "display_data"
    },
    {
     "data": {
      "text/html": [
       "Syncing run <strong><a href='https://wandb.ai/niklaskiermeyer/DruxAI%20Hyperparameter%20Sweep/runs/2bshvtil' target=\"_blank\">worthy-sweep-1</a></strong> to <a href='https://wandb.ai/niklaskiermeyer/DruxAI%20Hyperparameter%20Sweep' target=\"_blank\">Weights & Biases</a> (<a href='https://wandb.me/run' target=\"_blank\">docs</a>)<br/>Sweep page: <a href='https://wandb.ai/niklaskiermeyer/DruxAI%20Hyperparameter%20Sweep/sweeps/pejhvqgx' target=\"_blank\">https://wandb.ai/niklaskiermeyer/DruxAI%20Hyperparameter%20Sweep/sweeps/pejhvqgx</a>"
      ],
      "text/plain": [
       "<IPython.core.display.HTML object>"
      ]
     },
     "metadata": {},
     "output_type": "display_data"
    },
    {
     "data": {
      "text/html": [
       " View project at <a href='https://wandb.ai/niklaskiermeyer/DruxAI%20Hyperparameter%20Sweep' target=\"_blank\">https://wandb.ai/niklaskiermeyer/DruxAI%20Hyperparameter%20Sweep</a>"
      ],
      "text/plain": [
       "<IPython.core.display.HTML object>"
      ]
     },
     "metadata": {},
     "output_type": "display_data"
    },
    {
     "data": {
      "text/html": [
       " View sweep at <a href='https://wandb.ai/niklaskiermeyer/DruxAI%20Hyperparameter%20Sweep/sweeps/pejhvqgx' target=\"_blank\">https://wandb.ai/niklaskiermeyer/DruxAI%20Hyperparameter%20Sweep/sweeps/pejhvqgx</a>"
      ],
      "text/plain": [
       "<IPython.core.display.HTML object>"
      ]
     },
     "metadata": {},
     "output_type": "display_data"
    },
    {
     "data": {
      "text/html": [
       " View run at <a href='https://wandb.ai/niklaskiermeyer/DruxAI%20Hyperparameter%20Sweep/runs/2bshvtil' target=\"_blank\">https://wandb.ai/niklaskiermeyer/DruxAI%20Hyperparameter%20Sweep/runs/2bshvtil</a>"
      ],
      "text/plain": [
       "<IPython.core.display.HTML object>"
      ]
     },
     "metadata": {},
     "output_type": "display_data"
    },
    {
     "name": "stdout",
     "output_type": "stream",
     "text": [
      "\u001b[34mINFO    \u001b[0m Loaded targets with shape: \u001b[1m(\u001b[0m\u001b[1;36m556840\u001b[0m, \u001b[1;36m8\u001b[0m\u001b[1m)\u001b[0m                                                                    \n",
      "\u001b[34mINFO    \u001b[0m Loaded targets with shape: \u001b[1m(\u001b[0m\u001b[1;36m556840\u001b[0m, \u001b[1;36m8\u001b[0m\u001b[1m)\u001b[0m                                                                    \n",
      "\u001b[34mINFO    \u001b[0m Loaded molecular data with shape: \u001b[1m(\u001b[0m\u001b[1;36m1479\u001b[0m, \u001b[1;36m19193\u001b[0m\u001b[1m)\u001b[0m                                                           \n",
      "\u001b[34mINFO    \u001b[0m Loaded molecular data with shape: \u001b[1m(\u001b[0m\u001b[1;36m1479\u001b[0m, \u001b[1;36m19193\u001b[0m\u001b[1m)\u001b[0m                                                           \n",
      "\u001b[34mINFO    \u001b[0m Finished Loading Data                                                                                     \n",
      "\u001b[34mINFO    \u001b[0m Finished Loading Data                                                                                     \n"
     ]
    },
    {
     "name": "stderr",
     "output_type": "stream",
     "text": [
      "/Users/niklaskiermeyer/anaconda3/envs/DruxAI/lib/python3.9/site-packages/torchmetrics/utilities/prints.py:43: UserWarning: Metric `SpearmanCorrcoef` will save all targets and predictions in the buffer. For large datasets, this may lead to large memory footprint.\n",
      "  warnings.warn(*args, **kwargs)  # noqa: B028\n",
      "                                                   \r"
     ]
    },
    {
     "data": {
      "application/vnd.jupyter.widget-view+json": {
       "model_id": "0f11af7f7ff148e7935493433d38b128",
       "version_major": 2,
       "version_minor": 0
      },
      "text/plain": [
       "VBox(children=(Label(value='0.001 MB of 0.001 MB uploaded\\r'), FloatProgress(value=1.0, max=1.0)))"
      ]
     },
     "metadata": {},
     "output_type": "display_data"
    },
    {
     "data": {
      "text/html": [
       "<style>\n",
       "    table.wandb td:nth-child(1) { padding: 0 10px; text-align: left ; width: auto;} td:nth-child(2) {text-align: left ; width: 100%}\n",
       "    .wandb-row { display: flex; flex-direction: row; flex-wrap: wrap; justify-content: flex-start; width: 100% }\n",
       "    .wandb-col { display: flex; flex-direction: column; flex-basis: 100%; flex: 1; padding: 10px; }\n",
       "    </style>\n",
       "<div class=\"wandb-row\"><div class=\"wandb-col\"><h3>Run history:</h3><br/><table class=\"wandb\"><tr><td>epoch</td><td>▁</td></tr><tr><td>lr_opt1</td><td>▁</td></tr><tr><td>lr_opt2</td><td>▁</td></tr><tr><td>r2_train</td><td>▁</td></tr><tr><td>r2_val</td><td>▁</td></tr><tr><td>train loss</td><td>▁</td></tr><tr><td>val_loss</td><td>▁</td></tr></table><br/></div><div class=\"wandb-col\"><h3>Run summary:</h3><br/><table class=\"wandb\"><tr><td>epoch</td><td>0</td></tr><tr><td>lr_opt1</td><td>0.01</td></tr><tr><td>lr_opt2</td><td>0.01</td></tr><tr><td>r2_train</td><td>0.00867</td></tr><tr><td>r2_val</td><td>-0.01953</td></tr><tr><td>train loss</td><td>0.05635</td></tr><tr><td>val_loss</td><td>0.0529</td></tr></table><br/></div></div>"
      ],
      "text/plain": [
       "<IPython.core.display.HTML object>"
      ]
     },
     "metadata": {},
     "output_type": "display_data"
    },
    {
     "data": {
      "text/html": [
       " View run <strong style=\"color:#cdcd00\">worthy-sweep-1</strong> at: <a href='https://wandb.ai/niklaskiermeyer/DruxAI%20Hyperparameter%20Sweep/runs/2bshvtil' target=\"_blank\">https://wandb.ai/niklaskiermeyer/DruxAI%20Hyperparameter%20Sweep/runs/2bshvtil</a><br/>Synced 6 W&B file(s), 0 media file(s), 0 artifact file(s) and 0 other file(s)"
      ],
      "text/plain": [
       "<IPython.core.display.HTML object>"
      ]
     },
     "metadata": {},
     "output_type": "display_data"
    },
    {
     "data": {
      "text/html": [
       "Find logs at: <code>/Users/niklaskiermeyer/Desktop/Codespace/DruxAI/results/training/wandb/run-20240328_150242-2bshvtil/logs</code>"
      ],
      "text/plain": [
       "<IPython.core.display.HTML object>"
      ]
     },
     "metadata": {},
     "output_type": "display_data"
    },
    {
     "name": "stderr",
     "output_type": "stream",
     "text": [
      "\u001b[34m\u001b[1mwandb\u001b[0m: Sweep Agent: Waiting for job.\n",
      "\u001b[34m\u001b[1mwandb\u001b[0m: Job received.\n",
      "\u001b[34m\u001b[1mwandb\u001b[0m: Agent Starting Run: xx4o8joq with config:\n",
      "\u001b[34m\u001b[1mwandb\u001b[0m: \tbatch_size: 128\n",
      "\u001b[34m\u001b[1mwandb\u001b[0m: \tepochs: 1\n",
      "\u001b[34m\u001b[1mwandb\u001b[0m: \tlearning_rate: 0.01\n",
      "\u001b[34m\u001b[1mwandb\u001b[0m: \tloss: huber\n",
      "\u001b[34m\u001b[1mwandb\u001b[0m: \toptimizer: sgd\n",
      "\u001b[34m\u001b[1mwandb\u001b[0m: \tscheduler: exponential\n",
      "Failed to detect the name of this notebook, you can set it manually with the WANDB_NOTEBOOK_NAME environment variable to enable code saving.\n"
     ]
    },
    {
     "data": {
      "text/html": [
       "wandb version 0.16.5 is available!  To upgrade, please run:\n",
       " $ pip install wandb --upgrade"
      ],
      "text/plain": [
       "<IPython.core.display.HTML object>"
      ]
     },
     "metadata": {},
     "output_type": "display_data"
    },
    {
     "data": {
      "text/html": [
       "Tracking run with wandb version 0.16.4"
      ],
      "text/plain": [
       "<IPython.core.display.HTML object>"
      ]
     },
     "metadata": {},
     "output_type": "display_data"
    },
    {
     "data": {
      "text/html": [
       "Run data is saved locally in <code>/Users/niklaskiermeyer/Desktop/Codespace/DruxAI/results/training/wandb/run-20240328_151325-xx4o8joq</code>"
      ],
      "text/plain": [
       "<IPython.core.display.HTML object>"
      ]
     },
     "metadata": {},
     "output_type": "display_data"
    },
    {
     "data": {
      "text/html": [
       "Syncing run <strong><a href='https://wandb.ai/niklaskiermeyer/DruxAI%20Hyperparameter%20Sweep/runs/xx4o8joq' target=\"_blank\">charmed-sweep-2</a></strong> to <a href='https://wandb.ai/niklaskiermeyer/DruxAI%20Hyperparameter%20Sweep' target=\"_blank\">Weights & Biases</a> (<a href='https://wandb.me/run' target=\"_blank\">docs</a>)<br/>Sweep page: <a href='https://wandb.ai/niklaskiermeyer/DruxAI%20Hyperparameter%20Sweep/sweeps/pejhvqgx' target=\"_blank\">https://wandb.ai/niklaskiermeyer/DruxAI%20Hyperparameter%20Sweep/sweeps/pejhvqgx</a>"
      ],
      "text/plain": [
       "<IPython.core.display.HTML object>"
      ]
     },
     "metadata": {},
     "output_type": "display_data"
    },
    {
     "data": {
      "text/html": [
       " View project at <a href='https://wandb.ai/niklaskiermeyer/DruxAI%20Hyperparameter%20Sweep' target=\"_blank\">https://wandb.ai/niklaskiermeyer/DruxAI%20Hyperparameter%20Sweep</a>"
      ],
      "text/plain": [
       "<IPython.core.display.HTML object>"
      ]
     },
     "metadata": {},
     "output_type": "display_data"
    },
    {
     "data": {
      "text/html": [
       " View sweep at <a href='https://wandb.ai/niklaskiermeyer/DruxAI%20Hyperparameter%20Sweep/sweeps/pejhvqgx' target=\"_blank\">https://wandb.ai/niklaskiermeyer/DruxAI%20Hyperparameter%20Sweep/sweeps/pejhvqgx</a>"
      ],
      "text/plain": [
       "<IPython.core.display.HTML object>"
      ]
     },
     "metadata": {},
     "output_type": "display_data"
    },
    {
     "data": {
      "text/html": [
       " View run at <a href='https://wandb.ai/niklaskiermeyer/DruxAI%20Hyperparameter%20Sweep/runs/xx4o8joq' target=\"_blank\">https://wandb.ai/niklaskiermeyer/DruxAI%20Hyperparameter%20Sweep/runs/xx4o8joq</a>"
      ],
      "text/plain": [
       "<IPython.core.display.HTML object>"
      ]
     },
     "metadata": {},
     "output_type": "display_data"
    },
    {
     "name": "stdout",
     "output_type": "stream",
     "text": [
      "\u001b[34mINFO    \u001b[0m Loaded targets with shape: \u001b[1m(\u001b[0m\u001b[1;36m556840\u001b[0m, \u001b[1;36m8\u001b[0m\u001b[1m)\u001b[0m                                                                    \n",
      "\u001b[34mINFO    \u001b[0m Loaded targets with shape: \u001b[1m(\u001b[0m\u001b[1;36m556840\u001b[0m, \u001b[1;36m8\u001b[0m\u001b[1m)\u001b[0m                                                                    \n",
      "\u001b[34mINFO    \u001b[0m Loaded molecular data with shape: \u001b[1m(\u001b[0m\u001b[1;36m1479\u001b[0m, \u001b[1;36m19193\u001b[0m\u001b[1m)\u001b[0m                                                           \n",
      "\u001b[34mINFO    \u001b[0m Loaded molecular data with shape: \u001b[1m(\u001b[0m\u001b[1;36m1479\u001b[0m, \u001b[1;36m19193\u001b[0m\u001b[1m)\u001b[0m                                                           \n",
      "\u001b[34mINFO    \u001b[0m Finished Loading Data                                                                                     \n",
      "\u001b[34mINFO    \u001b[0m Finished Loading Data                                                                                     \n"
     ]
    },
    {
     "name": "stderr",
     "output_type": "stream",
     "text": [
      "/Users/niklaskiermeyer/anaconda3/envs/DruxAI/lib/python3.9/site-packages/torchmetrics/utilities/prints.py:43: UserWarning: Metric `SpearmanCorrcoef` will save all targets and predictions in the buffer. For large datasets, this may lead to large memory footprint.\n",
      "  warnings.warn(*args, **kwargs)  # noqa: B028\n",
      " 38%|███▊      | 1190/3093 [03:42<04:53,  6.48it/s]\u001b[34m\u001b[1mwandb\u001b[0m: Ctrl + C detected. Stopping sweep.\n",
      " 39%|███▊      | 1193/3093 [03:43<04:46,  6.63it/s]"
     ]
    },
    {
     "name": "stderr",
     "output_type": "stream",
     "text": [
      " 39%|███▊      | 1198/3093 [03:44<06:15,  5.04it/s]"
     ]
    }
   ],
   "source": [
    "%run /Users/niklaskiermeyer/Desktop/Codespace/DruxAI/src/druxai/train.py"
   ]
  },
  {
   "cell_type": "code",
   "execution_count": null,
   "metadata": {},
   "outputs": [],
   "source": []
  },
  {
   "cell_type": "code",
   "execution_count": null,
   "metadata": {},
   "outputs": [],
   "source": []
  }
 ],
 "metadata": {
  "kernelspec": {
   "display_name": "DruxAI",
   "language": "python",
   "name": "python3"
  },
  "language_info": {
   "codemirror_mode": {
    "name": "ipython",
    "version": 3
   },
   "file_extension": ".py",
   "mimetype": "text/x-python",
   "name": "python",
   "nbconvert_exporter": "python",
   "pygments_lexer": "ipython3",
   "version": "3.9.18"
  }
 },
 "nbformat": 4,
 "nbformat_minor": 2
}

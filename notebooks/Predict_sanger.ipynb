{
 "cells": [
  {
   "cell_type": "code",
   "execution_count": 1,
   "id": "4e7e98f4",
   "metadata": {},
   "outputs": [
    {
     "name": "stderr",
     "output_type": "stream",
     "text": [
      "/usr/lib/python3/dist-packages/scipy/__init__.py:146: UserWarning: A NumPy version >=1.17.3 and <1.25.0 is required for this version of SciPy (detected version 1.25.1\n",
      "  warnings.warn(f\"A NumPy version >={np_minversion} and <{np_maxversion}\"\n"
     ]
    }
   ],
   "source": [
    "import torch as tc \n",
    "import pandas as pd\n",
    "import numpy as np\n",
    "from NN import Interaction_Model\n",
    "from data import MyDataSet\n",
    "from sklearn.metrics import auc\n",
    "from sklearn import metrics\n",
    "from torch.utils.data import Dataset, DataLoader\n",
    "from torch.optim import Adam\n",
    "import torch.nn as nn\n",
    "from tqdm import tqdm\n",
    "from scipy.stats import spearmanr\n",
    "from sklearn.preprocessing import StandardScaler\n"
   ]
  },
  {
   "cell_type": "code",
   "execution_count": 2,
   "id": "073c41f4",
   "metadata": {},
   "outputs": [
    {
     "name": "stdout",
     "output_type": "stream",
     "text": [
      "19193 molecular features, 476 celltypes, 2659 drug_features\n",
      "1135drugs and 476cell lines\n"
     ]
    }
   ],
   "source": [
    "fold=3\n",
    "ds = MyDataSet(nsplits = 5)\n",
    "ds.change_fold(fold, 'train')"
   ]
  },
  {
   "cell_type": "code",
   "execution_count": 3,
   "id": "34ae04a8",
   "metadata": {},
   "outputs": [
    {
     "data": {
      "text/plain": [
       "(476,)"
      ]
     },
     "execution_count": 3,
     "metadata": {},
     "output_type": "execute_result"
    }
   ],
   "source": [
    "ds.cell_line.shape"
   ]
  },
  {
   "cell_type": "code",
   "execution_count": 4,
   "id": "ec9e8529",
   "metadata": {},
   "outputs": [
    {
     "data": {
      "text/html": [
       "<div>\n",
       "<style scoped>\n",
       "    .dataframe tbody tr th:only-of-type {\n",
       "        vertical-align: middle;\n",
       "    }\n",
       "\n",
       "    .dataframe tbody tr th {\n",
       "        vertical-align: top;\n",
       "    }\n",
       "\n",
       "    .dataframe thead th {\n",
       "        text-align: right;\n",
       "    }\n",
       "</style>\n",
       "<table border=\"1\" class=\"dataframe\">\n",
       "  <thead>\n",
       "    <tr style=\"text-align: right;\">\n",
       "      <th></th>\n",
       "      <th>cell_line</th>\n",
       "      <th>drug</th>\n",
       "      <th>auc</th>\n",
       "    </tr>\n",
       "  </thead>\n",
       "  <tbody>\n",
       "    <tr>\n",
       "      <th>0</th>\n",
       "      <td>ACH-000001</td>\n",
       "      <td>CAMPTOTHECIN</td>\n",
       "      <td>0.967187</td>\n",
       "    </tr>\n",
       "    <tr>\n",
       "      <th>1</th>\n",
       "      <td>ACH-000002</td>\n",
       "      <td>CAMPTOTHECIN</td>\n",
       "      <td>0.711866</td>\n",
       "    </tr>\n",
       "    <tr>\n",
       "      <th>2</th>\n",
       "      <td>ACH-000004</td>\n",
       "      <td>CAMPTOTHECIN</td>\n",
       "      <td>0.742350</td>\n",
       "    </tr>\n",
       "    <tr>\n",
       "      <th>3</th>\n",
       "      <td>ACH-000006</td>\n",
       "      <td>CAMPTOTHECIN</td>\n",
       "      <td>0.752250</td>\n",
       "    </tr>\n",
       "    <tr>\n",
       "      <th>4</th>\n",
       "      <td>ACH-000007</td>\n",
       "      <td>CAMPTOTHECIN</td>\n",
       "      <td>0.845466</td>\n",
       "    </tr>\n",
       "    <tr>\n",
       "      <th>...</th>\n",
       "      <td>...</td>\n",
       "      <td>...</td>\n",
       "      <td>...</td>\n",
       "    </tr>\n",
       "    <tr>\n",
       "      <th>137958</th>\n",
       "      <td>ACH-000930</td>\n",
       "      <td>JQ1-(+)</td>\n",
       "      <td>0.830671</td>\n",
       "    </tr>\n",
       "    <tr>\n",
       "      <th>137960</th>\n",
       "      <td>ACH-000934</td>\n",
       "      <td>JQ1-(+)</td>\n",
       "      <td>0.736601</td>\n",
       "    </tr>\n",
       "    <tr>\n",
       "      <th>138016</th>\n",
       "      <td>ACH-001065</td>\n",
       "      <td>JQ1-(+)</td>\n",
       "      <td>0.585800</td>\n",
       "    </tr>\n",
       "    <tr>\n",
       "      <th>138152</th>\n",
       "      <td>ACH-002163</td>\n",
       "      <td>JQ1-(+)</td>\n",
       "      <td>0.878883</td>\n",
       "    </tr>\n",
       "    <tr>\n",
       "      <th>138160</th>\n",
       "      <td>ACH-002179</td>\n",
       "      <td>JQ1-(+)</td>\n",
       "      <td>0.826176</td>\n",
       "    </tr>\n",
       "  </tbody>\n",
       "</table>\n",
       "<p>98287 rows × 3 columns</p>\n",
       "</div>"
      ],
      "text/plain": [
       "         cell_line          drug       auc\n",
       "0       ACH-000001  CAMPTOTHECIN  0.967187\n",
       "1       ACH-000002  CAMPTOTHECIN  0.711866\n",
       "2       ACH-000004  CAMPTOTHECIN  0.742350\n",
       "3       ACH-000006  CAMPTOTHECIN  0.752250\n",
       "4       ACH-000007  CAMPTOTHECIN  0.845466\n",
       "...            ...           ...       ...\n",
       "137958  ACH-000930       JQ1-(+)  0.830671\n",
       "137960  ACH-000934       JQ1-(+)  0.736601\n",
       "138016  ACH-001065       JQ1-(+)  0.585800\n",
       "138152  ACH-002163       JQ1-(+)  0.878883\n",
       "138160  ACH-002179       JQ1-(+)  0.826176\n",
       "\n",
       "[98287 rows x 3 columns]"
      ]
     },
     "execution_count": 4,
     "metadata": {},
     "output_type": "execute_result"
    }
   ],
   "source": [
    "sanger_results = pd.read_csv('./data/Drug_sensitivity_AUC_(Sanger_GDSC2).csv').melt(id_vars = 'Unnamed: 0', var_name= 'drug', value_name = 'auc')\n",
    "sanger_results = sanger_results.rename(columns={'Unnamed: 0': 'cell_line'}).dropna()\n",
    "sanger_results['drug'] = sanger_results['drug'].str.split(' \\(').str[0]#.astype('double')\n",
    "\n",
    "sanger_results"
   ]
  },
  {
   "cell_type": "code",
   "execution_count": 5,
   "id": "bc0d2b7f",
   "metadata": {},
   "outputs": [],
   "source": [
    "sanger_results_filtered = sanger_results[np.isin(sanger_results['drug'], ds.drug_embeddings.columns)]\n",
    "sanger_results_filtered = sanger_results_filtered[~np.isin(sanger_results_filtered['cell_line'], ds.cell_line)]\n",
    "sanger_results_filtered"
   ]
  },
  {
   "cell_type": "code",
   "execution_count": null,
   "id": "87a2a690",
   "metadata": {},
   "outputs": [],
   "source": []
  },
  {
   "cell_type": "code",
   "execution_count": 6,
   "id": "2e9de075",
   "metadata": {},
   "outputs": [],
   "source": [
    "rna_data = pd.read_csv('./data/OmicsExpressionProteinCodingGenesTPMLogp1.csv', index_col = 0)\n",
    "rna_data.columns = rna_data.columns.str.split(' \\(').str[0]#.astype('double')\n",
    "sanger_cell_lines = np.array(sanger_results_filtered['cell_line'].drop_duplicates())\n",
    "#sanger_cell_lines\n",
    "rna_data"
   ]
  },
  {
   "cell_type": "code",
   "execution_count": 7,
   "id": "9bfc8fd6",
   "metadata": {},
   "outputs": [],
   "source": [
    "rna_data_filtered = sanger_results_filtered[['cell_line']].drop_duplicates().merge(rna_data, left_on= 'cell_line', right_index=True, how='inner')\n",
    "rna_data_filtered.index = rna_data_filtered['cell_line']\n",
    "rna_data_filtered = rna_data_filtered.drop('cell_line', axis=1)\n",
    "names = ds.molecular_names\n",
    "#print(names)\n",
    "selected_RNA = rna_data_filtered.loc[:,np.array(names)]\n",
    "\n",
    "#meanv, stdv = selected_RNA.mean(axis=0),selected_RNA.std(axis=0)\n",
    "selected_RNA.to_csv('./results/data/sanger_RNA.csv')\n",
    "\n",
    "meanv, stdv = ds.scaler.mean_, np.sqrt(ds.scaler.var_)\n",
    "selected_RNA = (selected_RNA-meanv) / (stdv+0.1)\n",
    "\n",
    "selected_RNA\n",
    "\n"
   ]
  },
  {
   "cell_type": "code",
   "execution_count": 8,
   "id": "1730aa8a",
   "metadata": {},
   "outputs": [],
   "source": [
    "sanger_results_filtered = sanger_results_filtered[np.isin(sanger_results_filtered['cell_line'], selected_RNA.index)]\n",
    "sanger_results_filtered['auc_per_drug'] = sanger_results_filtered.groupby('drug')['auc'].transform(lambda x: (x - x.mean()) / x.std())\n",
    "\n"
   ]
  },
  {
   "cell_type": "code",
   "execution_count": 9,
   "id": "92d4ff19",
   "metadata": {},
   "outputs": [],
   "source": [
    "sanger_results_filtered.to_csv('./results/data/sanger_results.csv')\n",
    "sanger_results_filtered"
   ]
  },
  {
   "cell_type": "code",
   "execution_count": 10,
   "id": "28390eed",
   "metadata": {},
   "outputs": [],
   "source": [
    "drugs = sanger_results_filtered['drug'].drop_duplicates().to_numpy()\n",
    "drugs"
   ]
  },
  {
   "cell_type": "code",
   "execution_count": 11,
   "id": "fbab793b",
   "metadata": {},
   "outputs": [],
   "source": [
    "def load_model(fold):\n",
    "    model = Interaction_Model(ds).eval()\n",
    "    model.load_state_dict(tc.load('./results/model_params/model_params_fold'+str(fold)+'.pt'))\n",
    "    return model\n",
    "\n",
    "    \n",
    "model = load_model(fold) #[load_model(fold).eval() for fold in [0,1,2,3,4]]"
   ]
  },
  {
   "cell_type": "code",
   "execution_count": 12,
   "id": "0198b8ac",
   "metadata": {},
   "outputs": [],
   "source": [
    "sanger_RNA_tensor = tc.tensor(selected_RNA.to_numpy()).float()\n",
    "drug_tensor = tc.stack([ds.get_drug_vector(drug) for drug in drugs],axis=0)"
   ]
  },
  {
   "cell_type": "code",
   "execution_count": 13,
   "id": "67aa83e5",
   "metadata": {},
   "outputs": [],
   "source": [
    "latent_tumor = model.nn2.forward(sanger_RNA_tensor)\n",
    "latent_drug = model.nn1.forward(drug_tensor)"
   ]
  },
  {
   "cell_type": "code",
   "execution_count": 14,
   "id": "4c8d0891",
   "metadata": {},
   "outputs": [],
   "source": [
    "res = latent_tumor @ latent_drug.t()\n",
    "res_frame = pd.DataFrame(res.detach().numpy(), index = selected_RNA.index, columns = drugs)\n",
    "res_frame['cell_line'] = res_frame.index\n",
    "res_frame_long = res_frame.melt(id_vars = 'cell_line', var_name= 'drug', value_name = 'prediction')"
   ]
  },
  {
   "cell_type": "code",
   "execution_count": 15,
   "id": "9007209d",
   "metadata": {},
   "outputs": [],
   "source": [
    "diesdas = sanger_results_filtered.merge(res_frame_long)\n",
    "diesdas['fold'] = fold\n",
    "diesdas.to_csv('./results/data/sanger_results'+str(fold)+'.csv')"
   ]
  },
  {
   "cell_type": "code",
   "execution_count": 16,
   "id": "aaf3dace",
   "metadata": {},
   "outputs": [],
   "source": [
    "res_frame.shape"
   ]
  },
  {
   "cell_type": "code",
   "execution_count": null,
   "id": "502a0e19",
   "metadata": {},
   "outputs": [],
   "source": []
  },
  {
   "cell_type": "code",
   "execution_count": 17,
   "id": "7e95b1b3",
   "metadata": {},
   "outputs": [],
   "source": [
    "##############\n",
    "#\n",
    "##############"
   ]
  },
  {
   "cell_type": "code",
   "execution_count": null,
   "id": "b177cdf3",
   "metadata": {},
   "outputs": [],
   "source": []
  },
  {
   "cell_type": "code",
   "execution_count": null,
   "id": "b5956d5d",
   "metadata": {},
   "outputs": [],
   "source": []
  },
  {
   "cell_type": "code",
   "execution_count": null,
   "id": "6627996d",
   "metadata": {},
   "outputs": [],
   "source": []
  },
  {
   "cell_type": "code",
   "execution_count": null,
   "id": "6ad204fc",
   "metadata": {},
   "outputs": [],
   "source": []
  },
  {
   "cell_type": "code",
   "execution_count": null,
   "id": "cb955789",
   "metadata": {},
   "outputs": [],
   "source": []
  },
  {
   "cell_type": "code",
   "execution_count": null,
   "id": "3b2da638",
   "metadata": {},
   "outputs": [],
   "source": []
  },
  {
   "cell_type": "code",
   "execution_count": null,
   "id": "ece47ff7",
   "metadata": {},
   "outputs": [],
   "source": []
  },
  {
   "cell_type": "code",
   "execution_count": null,
   "id": "c49db44a",
   "metadata": {},
   "outputs": [],
   "source": []
  },
  {
   "cell_type": "code",
   "execution_count": null,
   "id": "87ddf13d",
   "metadata": {},
   "outputs": [],
   "source": []
  },
  {
   "cell_type": "code",
   "execution_count": null,
   "id": "e7c9e915",
   "metadata": {},
   "outputs": [],
   "source": []
  },
  {
   "cell_type": "code",
   "execution_count": null,
   "id": "67a2ae3a",
   "metadata": {},
   "outputs": [],
   "source": []
  },
  {
   "cell_type": "code",
   "execution_count": null,
   "id": "2a7bb5ff",
   "metadata": {},
   "outputs": [],
   "source": []
  }
 ],
 "metadata": {
  "kernelspec": {
   "display_name": "Python 3 (ipykernel)",
   "language": "python",
   "name": "python3"
  },
  "language_info": {
   "codemirror_mode": {
    "name": "ipython",
    "version": 3
   },
   "file_extension": ".py",
   "mimetype": "text/x-python",
   "name": "python",
   "nbconvert_exporter": "python",
   "pygments_lexer": "ipython3",
   "version": "3.10.12"
  }
 },
 "nbformat": 4,
 "nbformat_minor": 5
}

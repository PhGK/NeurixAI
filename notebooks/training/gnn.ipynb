{
 "cells": [
  {
   "cell_type": "code",
   "execution_count": 1,
   "metadata": {},
   "outputs": [],
   "source": [
    "%load_ext autoreload\n",
    "%autoreload 2"
   ]
  },
  {
   "cell_type": "markdown",
   "metadata": {},
   "source": [
    "# Fused Training"
   ]
  },
  {
   "cell_type": "code",
   "execution_count": 2,
   "metadata": {},
   "outputs": [],
   "source": [
    "import torch\n",
    "\n",
    "import torch.nn as nn\n",
    "from torch.nn.utils import clip_grad_norm_\n",
    "from torch.optim import SGD\n",
    "from torch.utils.data import DataLoader\n",
    "from tqdm import tqdm\n",
    "\n",
    "from druxai.models.NN_flexible import GNN_Interaction_Model\n",
    "from druxai.utils.data_gnn import DrugResponseDataset, DataloaderSampler\n",
    "from druxai.utils.dataframe_utils import split_data_by_cell_line_ids\n",
    "from druxai.utils.dataframe_utils import standardize_molecular_data_inplace\n",
    "from torch_geometric.data import Batch\n",
    "file_path = \"/Users/niklaskiermeyer/Desktop/Codespace/DruxAI/data/preprocessed\""
   ]
  },
  {
   "cell_type": "code",
   "execution_count": 3,
   "metadata": {},
   "outputs": [
    {
     "name": "stdout",
     "output_type": "stream",
     "text": [
      "\u001b[34mINFO    \u001b[0m Loaded targets with shape: \u001b[1m(\u001b[0m\u001b[1;36m556840\u001b[0m, \u001b[1;36m9\u001b[0m\u001b[1m)\u001b[0m                                                                    \n",
      "\u001b[34mINFO    \u001b[0m Loaded molecular data with shape: \u001b[1m(\u001b[0m\u001b[1;36m1479\u001b[0m, \u001b[1;36m19193\u001b[0m\u001b[1m)\u001b[0m                                                           \n"
     ]
    }
   ],
   "source": [
    "# Load Data\n",
    "data = DrugResponseDataset(file_path)\n",
    "train_id, val_id, test_id = split_data_by_cell_line_ids(data.targets)\n",
    "standardize_molecular_data_inplace(data, train_id=train_id, val_id=val_id, test_id=test_id)"
   ]
  },
  {
   "cell_type": "code",
   "execution_count": 4,
   "metadata": {},
   "outputs": [
    {
     "data": {
      "text/plain": [
       "(tensor([ 0.6155, -0.2172, -0.4931,  ...,  0.1874,  0.1539, -0.3254]),\n",
       " Data(x=[17, 79], edge_index=[2, 36], edge_attr=[36, 10]),\n",
       " tensor([2.3674]),\n",
       " 0)"
      ]
     },
     "execution_count": 4,
     "metadata": {},
     "output_type": "execute_result"
    }
   ],
   "source": [
    "data[0]"
   ]
  },
  {
   "cell_type": "code",
   "execution_count": 5,
   "metadata": {},
   "outputs": [],
   "source": [
    "def custom_collate(batch):\n",
    "    gene_expression_values_batch = torch.stack([sample[0] for sample in batch])\n",
    "\n",
    "    # Add more attributes as needed\n",
    "    drug_x_batch = Batch.from_data_list([sample[1] for sample in batch])\n",
    "    target_batch = torch.stack([sample[2] for sample in batch])\n",
    "    idx_batch = torch.tensor([sample[3] for sample in batch])  # Convert idx to tensor\n",
    "\n",
    "    return {\n",
    "        \"gene_expression_values\": gene_expression_values_batch,\n",
    "        \"smile_graph\": drug_x_batch,\n",
    "        \"target\": target_batch,\n",
    "        \"idx\": idx_batch\n",
    "    }"
   ]
  },
  {
   "cell_type": "code",
   "execution_count": 6,
   "metadata": {},
   "outputs": [],
   "source": [
    "# Dataloader Sampler\n",
    "train_sampler = DataloaderSampler(train_id)\n",
    "\n",
    "# Dataloader\n",
    "train_loader = DataLoader(data, sampler=train_sampler, batch_size=256, shuffle=False, collate_fn=custom_collate)\n",
    "\n",
    "val_sampler = DataloaderSampler(val_id)\n",
    "val_loader = DataLoader(data, sampler=val_sampler, batch_size=256, shuffle=False, collate_fn=custom_collate)"
   ]
  },
  {
   "cell_type": "code",
   "execution_count": 9,
   "metadata": {},
   "outputs": [
    {
     "data": {
      "text/plain": [
       "GNN_Interaction_Model(\n",
       "  (drug_gnn): Drug_GAT(\n",
       "    (conv1): GATConv(79, 128, heads=8)\n",
       "    (fc): Linear(in_features=1024, out_features=10, bias=True)\n",
       "  )\n",
       "  (gene_expression_nn): Model(\n",
       "    (model): Sequential(\n",
       "      (0): Linear(in_features=19193, out_features=32, bias=True)\n",
       "      (1): ReLU()\n",
       "      (2): Dropout(p=0.2, inplace=False)\n",
       "      (3): Linear(in_features=32, out_features=10, bias=True)\n",
       "    )\n",
       "  )\n",
       ")"
      ]
     },
     "execution_count": 9,
     "metadata": {},
     "output_type": "execute_result"
    }
   ],
   "source": [
    "# Train Loop\n",
    "model = GNN_Interaction_Model(data, nfeatures_product=10,\n",
    "                              hidden_dims_gene_expression_nn=[32],\n",
    "                              dropout_gene_expression_nn=0.2)\n",
    "model.train().to(torch.device(\"cpu\"))"
   ]
  },
  {
   "cell_type": "code",
   "execution_count": 10,
   "metadata": {},
   "outputs": [],
   "source": [
    "optimizer1 = SGD(model.drug_gnn.parameters(), momentum=0.9, lr=0.01, weight_decay=1e-5)\n",
    "optimizer2 = SGD(model.gene_expression_nn.parameters(), momentum=0.9, lr=0.01, weight_decay=1e-5)"
   ]
  },
  {
   "cell_type": "code",
   "execution_count": 11,
   "metadata": {},
   "outputs": [
    {
     "name": "stderr",
     "output_type": "stream",
     "text": [
      "Epoch 1: 100%|██████████| 1520/1520 [03:35<00:00,  7.06it/s, loss=0.324]\n",
      "Epoch 2: 100%|██████████| 1520/1520 [04:07<00:00,  6.14it/s, loss=0.391]\n",
      "Epoch 3: 100%|██████████| 1520/1520 [04:48<00:00,  5.27it/s, loss=0.326]\n",
      "Epoch 4: 100%|██████████| 1520/1520 [04:15<00:00,  5.94it/s, loss=0.328]\n",
      "Epoch 5: 100%|██████████| 1520/1520 [04:33<00:00,  5.55it/s, loss=0.404]\n",
      "Epoch 6: 100%|██████████| 1520/1520 [04:14<00:00,  5.97it/s, loss=0.431]\n",
      "Epoch 7:   8%|▊         | 126/1520 [00:24<04:12,  5.52it/s, loss=0.334]"
     ]
    },
    {
     "ename": "",
     "evalue": "",
     "output_type": "error",
     "traceback": [
      "\u001b[1;31mThe Kernel crashed while executing code in the current cell or a previous cell. \n",
      "\u001b[1;31mPlease review the code in the cell(s) to identify a possible cause of the failure. \n",
      "\u001b[1;31mClick <a href='https://aka.ms/vscodeJupyterKernelCrash'>here</a> for more info. \n",
      "\u001b[1;31mView Jupyter <a href='command:jupyter.viewOutput'>log</a> for further details."
     ]
    }
   ],
   "source": [
    "# Setup optimizers\n",
    "\n",
    "epoch = 0\n",
    "while epoch < 15:\n",
    "    model.train()\n",
    "\n",
    "    with tqdm(train_loader, desc=f\"Epoch {epoch+1}\") as t:\n",
    "        for X in t:\n",
    "            molecular = X[\"gene_expression_values\"].to(torch.device(\"cpu\"))\n",
    "            smile_graphs = X[\"smile_graph\"].to(torch.device(\"cpu\"))\n",
    "            outcome = X[\"target\"].to(torch.device(\"cpu\"))\n",
    "            optimizer1.zero_grad()\n",
    "            optimizer2.zero_grad()\n",
    "            prediction = model.forward(smile_graphs, molecular)\n",
    "            loss = nn.HuberLoss()(prediction, outcome)\n",
    "\n",
    "            loss.backward()\n",
    "\n",
    "            clip_grad_norm_(model.parameters(), 1.0)\n",
    "\n",
    "            optimizer1.step()\n",
    "            optimizer2.step()\n",
    "\n",
    "            t.set_postfix(loss=loss.item())\n",
    "\n",
    "    epoch += 1"
   ]
  },
  {
   "cell_type": "code",
   "execution_count": null,
   "metadata": {},
   "outputs": [],
   "source": [
    "import scipy.stats\n",
    "\n",
    "with torch.no_grad():\n",
    "    model.eval()\n",
    "    predictions = []\n",
    "    outcomes = []\n",
    "    losses = []\n",
    "    for X in val_loader:\n",
    "        molecular = X[\"gene_expression_values\"].to(torch.device(\"cpu\"))\n",
    "        smile_graphs = X[\"smile_graph\"].to(torch.device(\"cpu\"))\n",
    "        outcome = X[\"target\"].to(torch.device(\"cpu\"))\n",
    "        prediction = model.forward(smile_graphs, molecular)\n",
    "        loss = nn.HuberLoss()(prediction, outcome)\n",
    "\n",
    "        # Convert tensors to NumPy arrays and flatten them\n",
    "        prediction_np = prediction.detach().numpy().flatten()\n",
    "        outcome_np = outcome.detach().numpy().flatten()\n",
    "\n",
    "        losses.append(loss.item())\n",
    "        predictions.append(prediction_np)\n",
    "        outcomes.append(outcome_np)\n",
    "\n",
    "# Calculate and print Spearman's rank correlation coefficient\n",
    "spearman_r = scipy.stats.spearmanr(prediction_np, outcome_np)\n",
    "print(f\"Spearman's rank correlation coefficient: {spearman_r}\")\n",
    "print(f\"Mean loss: {sum(losses) / len(losses)}\")"
   ]
  },
  {
   "cell_type": "code",
   "execution_count": null,
   "metadata": {},
   "outputs": [],
   "source": []
  }
 ],
 "metadata": {
  "kernelspec": {
   "display_name": "DruxAI",
   "language": "python",
   "name": "python3"
  },
  "language_info": {
   "codemirror_mode": {
    "name": "ipython",
    "version": 3
   },
   "file_extension": ".py",
   "mimetype": "text/x-python",
   "name": "python",
   "nbconvert_exporter": "python",
   "pygments_lexer": "ipython3",
   "version": "3.9.18"
  }
 },
 "nbformat": 4,
 "nbformat_minor": 2
}

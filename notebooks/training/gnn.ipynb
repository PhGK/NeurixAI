{
 "cells": [
  {
   "cell_type": "code",
   "execution_count": 2,
   "metadata": {},
   "outputs": [],
   "source": [
    "%load_ext autoreload\n",
    "%autoreload 2"
   ]
  },
  {
   "cell_type": "markdown",
   "metadata": {},
   "source": [
    "# Fused Training"
   ]
  },
  {
   "cell_type": "code",
   "execution_count": 3,
   "metadata": {},
   "outputs": [],
   "source": [
    "import torch\n",
    "\n",
    "import torch.nn as nn\n",
    "from torch.nn.utils import clip_grad_norm_\n",
    "from torch.optim import Adam\n",
    "from torch.utils.data import DataLoader\n",
    "from tqdm import tqdm\n",
    "\n",
    "from druxai.models.NN_flexible import GNN_Interaction_Model\n",
    "from druxai.utils.data_gnn import DrugResponseDataset, DataloaderSampler\n",
    "from druxai.utils.dataframe_utils import split_data_by_cell_line_ids\n",
    "from druxai.utils.dataframe_utils import standardize_molecular_data_inplace\n",
    "from torch_geometric.data import Batch\n",
    "file_path = \"/Users/niklaskiermeyer/Desktop/Codespace/DruxAI/data/preprocessed\""
   ]
  },
  {
   "cell_type": "code",
   "execution_count": 4,
   "metadata": {},
   "outputs": [
    {
     "name": "stdout",
     "output_type": "stream",
     "text": [
      "\u001b[34mINFO    \u001b[0m Loaded targets with shape: \u001b[1m(\u001b[0m\u001b[1;36m556840\u001b[0m, \u001b[1;36m9\u001b[0m\u001b[1m)\u001b[0m                                                                    \n",
      "\u001b[34mINFO    \u001b[0m Loaded molecular data with shape: \u001b[1m(\u001b[0m\u001b[1;36m1479\u001b[0m, \u001b[1;36m19193\u001b[0m\u001b[1m)\u001b[0m                                                           \n"
     ]
    }
   ],
   "source": [
    "# Load Data\n",
    "data = DrugResponseDataset(file_path)\n",
    "train_id, val_id, test_id = split_data_by_cell_line_ids(data.targets)\n",
    "standardize_molecular_data_inplace(data, train_id=train_id, val_id=val_id, test_id=test_id)"
   ]
  },
  {
   "cell_type": "code",
   "execution_count": 5,
   "metadata": {},
   "outputs": [
    {
     "data": {
      "text/plain": [
       "(tensor([ 0.6155, -0.2172, -0.4931,  ...,  0.1874,  0.1539, -0.3254]),\n",
       " Data(x=[17, 79], edge_index=[2, 36], edge_attr=[36, 10]),\n",
       " tensor([2.3674]),\n",
       " 0)"
      ]
     },
     "execution_count": 5,
     "metadata": {},
     "output_type": "execute_result"
    }
   ],
   "source": [
    "data[0]"
   ]
  },
  {
   "cell_type": "code",
   "execution_count": 6,
   "metadata": {},
   "outputs": [],
   "source": [
    "def custom_collate(batch):\n",
    "    gene_expression_values_batch = torch.stack([sample[0] for sample in batch])\n",
    "\n",
    "    # Add more attributes as needed\n",
    "    drug_x_batch = Batch.from_data_list([sample[1] for sample in batch])\n",
    "    target_batch = torch.stack([sample[2] for sample in batch])\n",
    "    idx_batch = torch.tensor([sample[3] for sample in batch])  # Convert idx to tensor\n",
    "\n",
    "    return {\n",
    "        \"gene_expression_values\": gene_expression_values_batch,\n",
    "        \"smile_graph\": drug_x_batch,\n",
    "        \"target\": target_batch,\n",
    "        \"idx\": idx_batch\n",
    "    }"
   ]
  },
  {
   "cell_type": "code",
   "execution_count": 7,
   "metadata": {},
   "outputs": [],
   "source": [
    "# Dataloader Sampler\n",
    "train_sampler = DataloaderSampler(train_id)\n",
    "\n",
    "# Dataloader\n",
    "train_loader = DataLoader(data, sampler=train_sampler, batch_size=256, shuffle=False, collate_fn=custom_collate)\n",
    "\n",
    "val_sampler = DataloaderSampler(val_id)\n",
    "val_loader = DataLoader(data, sampler=val_sampler, batch_size=256, shuffle=False, collate_fn=custom_collate)"
   ]
  },
  {
   "cell_type": "code",
   "execution_count": 8,
   "metadata": {},
   "outputs": [
    {
     "data": {
      "text/plain": [
       "GNN_Interaction_Model(\n",
       "  (drug_gnn): Drug_GAT(\n",
       "    (conv1): GATConv(79, 128, heads=8)\n",
       "    (fc): Linear(in_features=1024, out_features=10, bias=True)\n",
       "  )\n",
       "  (gene_expression_nn): Model(\n",
       "    (model): Sequential(\n",
       "      (0): Linear(in_features=19193, out_features=32, bias=True)\n",
       "      (1): ReLU()\n",
       "      (2): Dropout(p=0.2, inplace=False)\n",
       "      (3): Linear(in_features=32, out_features=10, bias=True)\n",
       "    )\n",
       "  )\n",
       ")"
      ]
     },
     "execution_count": 8,
     "metadata": {},
     "output_type": "execute_result"
    }
   ],
   "source": [
    "# Model Creation\n",
    "model = GNN_Interaction_Model(data, nfeatures_product=10,\n",
    "                              hidden_dims_gene_expression_nn=[32],\n",
    "                              dropout_gene_expression_nn=0.2)\n",
    "model.train().to(torch.device(\"cpu\"))"
   ]
  },
  {
   "cell_type": "code",
   "execution_count": 9,
   "metadata": {},
   "outputs": [],
   "source": [
    "optimizer1 = Adam(model.drug_gnn.parameters(), lr=0.08, weight_decay=1e-5)\n",
    "optimizer2 = Adam(model.gene_expression_nn.parameters(), lr=0.08, weight_decay=1e-5)"
   ]
  },
  {
   "cell_type": "code",
   "execution_count": 10,
   "metadata": {},
   "outputs": [
    {
     "name": "stderr",
     "output_type": "stream",
     "text": [
      "Epoch 1: 100%|██████████| 1520/1520 [03:47<00:00,  6.69it/s, loss=0.749]\n",
      "Epoch 2: 100%|██████████| 1520/1520 [04:14<00:00,  5.97it/s, loss=0.72]   \n",
      "Epoch 3: 100%|██████████| 1520/1520 [04:13<00:00,  5.99it/s, loss=0.447] \n",
      "Epoch 4:  25%|██▌       | 382/1520 [01:06<03:25,  5.54it/s, loss=0.507]Exception ignored in: <bound method IPythonKernel._clean_thread_parent_frames of <ipykernel.ipkernel.IPythonKernel object at 0x106dc2160>>\n",
      "Traceback (most recent call last):\n",
      "  File \"/Users/niklaskiermeyer/anaconda3/envs/DruxAI/lib/python3.9/site-packages/ipykernel/ipkernel.py\", line 770, in _clean_thread_parent_frames\n",
      "    def _clean_thread_parent_frames(\n",
      "KeyboardInterrupt: \n",
      "Epoch 4:  31%|███       | 468/1520 [01:19<02:29,  7.03it/s, loss=24.6] "
     ]
    }
   ],
   "source": [
    "# Setup optimizers\n",
    "\n",
    "epoch = 0\n",
    "while epoch < 15:\n",
    "    model.train()\n",
    "\n",
    "    with tqdm(train_loader, desc=f\"Epoch {epoch+1}\") as t:\n",
    "        for X in t:\n",
    "            molecular = X[\"gene_expression_values\"].to(torch.device(\"cpu\"))\n",
    "            smile_graphs = X[\"smile_graph\"].to(torch.device(\"cpu\"))\n",
    "            outcome = X[\"target\"].to(torch.device(\"cpu\"))\n",
    "            optimizer1.zero_grad()\n",
    "            optimizer2.zero_grad()\n",
    "            prediction = model.forward(smile_graphs, molecular)\n",
    "            loss = nn.HuberLoss()(prediction, outcome)\n",
    "\n",
    "            loss.backward()\n",
    "\n",
    "            clip_grad_norm_(model.parameters(), 1.0)\n",
    "\n",
    "            optimizer1.step()\n",
    "            optimizer2.step()\n",
    "\n",
    "            t.set_postfix(loss=loss.item())\n",
    "\n",
    "    epoch += 1"
   ]
  },
  {
   "cell_type": "code",
   "execution_count": 1,
   "metadata": {},
   "outputs": [
    {
     "ename": "NameError",
     "evalue": "name 'torch' is not defined",
     "output_type": "error",
     "traceback": [
      "\u001b[0;31m---------------------------------------------------------------------------\u001b[0m",
      "\u001b[0;31mNameError\u001b[0m                                 Traceback (most recent call last)",
      "Cell \u001b[0;32mIn[1], line 3\u001b[0m\n\u001b[1;32m      1\u001b[0m \u001b[38;5;28;01mimport\u001b[39;00m \u001b[38;5;21;01mscipy\u001b[39;00m\u001b[38;5;21;01m.\u001b[39;00m\u001b[38;5;21;01mstats\u001b[39;00m\n\u001b[0;32m----> 3\u001b[0m \u001b[38;5;28;01mwith\u001b[39;00m \u001b[43mtorch\u001b[49m\u001b[38;5;241m.\u001b[39mno_grad():\n\u001b[1;32m      4\u001b[0m     model\u001b[38;5;241m.\u001b[39meval()\n\u001b[1;32m      5\u001b[0m     predictions \u001b[38;5;241m=\u001b[39m []\n",
      "\u001b[0;31mNameError\u001b[0m: name 'torch' is not defined"
     ]
    }
   ],
   "source": [
    "import scipy.stats\n",
    "\n",
    "with torch.no_grad():\n",
    "    model.eval()\n",
    "    predictions = []\n",
    "    outcomes = []\n",
    "    losses = []\n",
    "    for X in val_loader:\n",
    "        molecular = X[\"gene_expression_values\"].to(torch.device(\"cpu\"))\n",
    "        smile_graphs = X[\"smile_graph\"].to(torch.device(\"cpu\"))\n",
    "        outcome = X[\"target\"].to(torch.device(\"cpu\"))\n",
    "        prediction = model.forward(smile_graphs, molecular)\n",
    "        loss = nn.HuberLoss()(prediction, outcome)\n",
    "\n",
    "        # Convert tensors to NumPy arrays and flatten them\n",
    "        prediction_np = prediction.detach().numpy().flatten()\n",
    "        outcome_np = outcome.detach().numpy().flatten()\n",
    "\n",
    "        losses.append(loss.item())\n",
    "        predictions.append(prediction_np)\n",
    "        outcomes.append(outcome_np)\n",
    "\n",
    "# Calculate and print Spearman's rank correlation coefficient\n",
    "spearman_r = scipy.stats.spearmanr(prediction_np, outcome_np)\n",
    "print(f\"Spearman's rank correlation coefficient: {spearman_r}\")\n",
    "print(f\"Mean loss: {sum(losses) / len(losses)}\")"
   ]
  },
  {
   "cell_type": "code",
   "execution_count": null,
   "metadata": {},
   "outputs": [],
   "source": []
  }
 ],
 "metadata": {
  "kernelspec": {
   "display_name": "DruxAI",
   "language": "python",
   "name": "python3"
  },
  "language_info": {
   "codemirror_mode": {
    "name": "ipython",
    "version": 3
   },
   "file_extension": ".py",
   "mimetype": "text/x-python",
   "name": "python",
   "nbconvert_exporter": "python",
   "pygments_lexer": "ipython3",
   "version": "3.9.18"
  }
 },
 "nbformat": 4,
 "nbformat_minor": 2
}

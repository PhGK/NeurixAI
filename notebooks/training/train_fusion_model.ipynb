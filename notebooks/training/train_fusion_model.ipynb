{
 "cells": [
  {
   "cell_type": "code",
   "execution_count": 1,
   "metadata": {},
   "outputs": [],
   "source": [
    "%load_ext autoreload\n",
    "%autoreload 2"
   ]
  },
  {
   "cell_type": "code",
   "execution_count": 2,
   "metadata": {},
   "outputs": [],
   "source": [
    "import torch\n",
    "\n",
    "from torch.optim import SGD\n",
    "from torch.utils.data import DataLoader\n",
    "from tqdm import tqdm\n",
    "\n",
    "from druxai.models.fusion_model import FusionModel\n",
    "\n",
    "from druxai.utils.data import DrugResponseDataset\n",
    "from druxai.utils.dataframe_utils import split_data_by_cell_line_ids\n",
    "from druxai.utils.dataframe_utils import standardize_molecular_data_inplace\n",
    "from druxai.utils.data import DataloaderSampler\n",
    "\n",
    "file_path = \"/Users/niklaskiermeyer/Desktop/Codespace/DruxAI/data/preprocessed\""
   ]
  },
  {
   "cell_type": "code",
   "execution_count": 3,
   "metadata": {},
   "outputs": [
    {
     "name": "stdout",
     "output_type": "stream",
     "text": [
      "\u001b[34mINFO    \u001b[0m Loaded targets with shape: \u001b[1m(\u001b[0m\u001b[1;36m556840\u001b[0m, \u001b[1;36m8\u001b[0m\u001b[1m)\u001b[0m                                                                    \n",
      "\u001b[34mINFO    \u001b[0m Loaded molecular data with shape: \u001b[1m(\u001b[0m\u001b[1;36m1479\u001b[0m, \u001b[1;36m19193\u001b[0m\u001b[1m)\u001b[0m                                                           \n"
     ]
    }
   ],
   "source": [
    "# Load Data\n",
    "data = DrugResponseDataset(file_path)\n",
    "\n",
    "# Create splits for cell lines\n",
    "train_id, val_id, test_id = split_data_by_cell_line_ids(data.targets)\n",
    "\n",
    "# Standardize molecular data\n",
    "standardize_molecular_data_inplace(data, train_id=train_id, val_id=val_id, test_id=test_id)\n",
    "\n",
    "# Create dataloader sampler\n",
    "train_sampler, _ = DataloaderSampler(train_id), DataloaderSampler(val_id)\n",
    "\n",
    "# Create a train Dataloader\n",
    "train_loader = DataLoader(data, sampler=train_id, batch_size=32, shuffle=False, pin_memory=True, num_workers=6)\n",
    "val_loader = DataLoader(data, sampler=val_id, batch_size=32, shuffle=False, pin_memory=True, num_workers=6)"
   ]
  },
  {
   "cell_type": "code",
   "execution_count": 4,
   "metadata": {},
   "outputs": [],
   "source": [
    "model = FusionModel(data, 64, 10, 0.2, 0.2)"
   ]
  },
  {
   "cell_type": "code",
   "execution_count": 5,
   "metadata": {},
   "outputs": [
    {
     "name": "stderr",
     "output_type": "stream",
     "text": [
      "100%|██████████| 12159/12159 [01:01<00:00, 198.42it/s]\n"
     ]
    },
    {
     "name": "stdout",
     "output_type": "stream",
     "text": [
      "Epoch 1 Loss: 0.33440861105918884\n"
     ]
    },
    {
     "name": "stderr",
     "output_type": "stream",
     "text": [
      "100%|██████████| 12159/12159 [00:54<00:00, 222.51it/s]\n"
     ]
    },
    {
     "name": "stdout",
     "output_type": "stream",
     "text": [
      "Epoch 2 Loss: 0.3225771188735962\n"
     ]
    },
    {
     "name": "stderr",
     "output_type": "stream",
     "text": [
      "100%|██████████| 12159/12159 [00:55<00:00, 217.73it/s]"
     ]
    },
    {
     "name": "stdout",
     "output_type": "stream",
     "text": [
      "Epoch 3 Loss: 0.32297563552856445\n"
     ]
    },
    {
     "name": "stderr",
     "output_type": "stream",
     "text": [
      "\n"
     ]
    }
   ],
   "source": [
    "optimizer = SGD(model.parameters(), lr=0.01)\n",
    "epoch = 0\n",
    "\n",
    "model.train()\n",
    "model.to(torch.device(\"mps\"))\n",
    "while epoch < 3:\n",
    "    for X, y, _ in tqdm(train_loader):\n",
    "        drug_data, molecular_data, outcome = (X[\"drug_encoding\"].to(torch.device(\"mps\")),\n",
    "        X[\"gene_expression\"].to(torch.device(\"mps\")),\n",
    "        y.to(torch.device(\"mps\")))\n",
    "\n",
    "        optimizer.zero_grad()\n",
    "\n",
    "        outputs = model(drug_data, molecular_data)\n",
    "        loss = torch.nn.functional.huber_loss(outputs, outcome)\n",
    "\n",
    "        loss.backward()\n",
    "        optimizer.step()\n",
    "\n",
    "    epoch += 1\n",
    "    print(f\"Epoch {epoch} Loss: {loss.item()}\")"
   ]
  },
  {
   "cell_type": "code",
   "execution_count": 7,
   "metadata": {},
   "outputs": [
    {
     "name": "stderr",
     "output_type": "stream",
     "text": [
      "100%|██████████| 2399/2399 [00:12<00:00, 186.58it/s]"
     ]
    },
    {
     "name": "stdout",
     "output_type": "stream",
     "text": [
      "Spearman correlation: 0.1150701892489979\n"
     ]
    },
    {
     "name": "stderr",
     "output_type": "stream",
     "text": [
      "\n"
     ]
    }
   ],
   "source": [
    "from scipy.stats import spearmanr\n",
    "\n",
    "model.eval()\n",
    "predictions = []\n",
    "outcomes = []\n",
    "\n",
    "for X, y, _ in tqdm(val_loader):\n",
    "    drug_data, molecular_data, outcome = (X[\"drug_encoding\"].to(torch.device(\"mps\")),\n",
    "        X[\"gene_expression\"].to(torch.device(\"mps\")),\n",
    "        y.to(torch.device(\"mps\")))\n",
    "    with torch.no_grad():\n",
    "        output = model(drug_data, molecular_data)\n",
    "    predictions.extend(output.squeeze(1).cpu().tolist())\n",
    "    outcomes.extend(outcome.squeeze(1).cpu().tolist())\n",
    "\n",
    "spearman_corr, _ = spearmanr(predictions, outcomes)\n",
    "print(f\"Spearman correlation: {spearman_corr}\")"
   ]
  },
  {
   "cell_type": "code",
   "execution_count": null,
   "metadata": {},
   "outputs": [],
   "source": []
  }
 ],
 "metadata": {
  "kernelspec": {
   "display_name": "DruxAI",
   "language": "python",
   "name": "python3"
  },
  "language_info": {
   "codemirror_mode": {
    "name": "ipython",
    "version": 3
   },
   "file_extension": ".py",
   "mimetype": "text/x-python",
   "name": "python",
   "nbconvert_exporter": "python",
   "pygments_lexer": "ipython3",
   "version": "3.9.18"
  }
 },
 "nbformat": 4,
 "nbformat_minor": 2
}

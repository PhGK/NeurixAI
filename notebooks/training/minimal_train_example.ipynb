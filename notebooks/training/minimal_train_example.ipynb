{
 "cells": [
  {
   "cell_type": "code",
   "execution_count": null,
   "metadata": {},
   "outputs": [],
   "source": [
    "%load_ext autoreload\n",
    "%autoreload 2"
   ]
  },
  {
   "cell_type": "code",
   "execution_count": null,
   "metadata": {},
   "outputs": [],
   "source": [
    "import torch\n",
    "\n",
    "import torch.nn as nn\n",
    "from torch.nn.utils import clip_grad_norm_\n",
    "from torch.optim import SGD\n",
    "from torch.utils.data import DataLoader\n",
    "from tqdm import tqdm\n",
    "\n",
    "from druxai.models.NN import Interaction_Model\n",
    "from druxai.utils.data import DrugResponseDataset\n",
    "from druxai.utils.dataframe_utils import split_data_by_cell_line_ids\n",
    "from druxai.utils.dataframe_utils import standardize_molecular_data_inplace\n",
    "\n",
    "\n",
    "file_path = \"/Users/niklaskiermeyer/Desktop/Codespace/DruxAI/data/preprocessed\""
   ]
  },
  {
   "cell_type": "code",
   "execution_count": null,
   "metadata": {},
   "outputs": [],
   "source": [
    "# Load Data\n",
    "data = DrugResponseDataset(file_path)"
   ]
  },
  {
   "cell_type": "code",
   "execution_count": null,
   "metadata": {},
   "outputs": [],
   "source": [
    "# Create splits\n",
    "# Get split ids\n",
    "train_id, val_id, test_id = split_data_by_cell_line_ids(data.targets)"
   ]
  },
  {
   "cell_type": "code",
   "execution_count": null,
   "metadata": {},
   "outputs": [],
   "source": [
    "# Important molecular data > cell_line data. since we do it over getitem\n",
    "# only our train, val, and test cell lines we actually use are standardized\n",
    "standardize_molecular_data_inplace(data, train_id, val_id, test_id)"
   ]
  },
  {
   "cell_type": "code",
   "execution_count": null,
   "metadata": {},
   "outputs": [],
   "source": [
    "# Dataloader\n",
    "train_loader = DataLoader(data, sampler=train_id, batch_size=8, shuffle=False, pin_memory=True, num_workers=6)\n",
    "val_loader = DataLoader(data, sampler=val_id, batch_size=8, shuffle=False, pin_memory=True, num_workers=6)"
   ]
  },
  {
   "cell_type": "code",
   "execution_count": null,
   "metadata": {},
   "outputs": [],
   "source": [
    "# Train Loop\n",
    "model = Interaction_Model(data)\n",
    "model.train().to(torch.device(\"mps\"))\n",
    "# Setup optimizers\n",
    "optimizer1 = SGD(model.nn1.parameters(), momentum=0.9, lr=0.01, weight_decay=1e-5)\n",
    "optimizer2 = SGD(model.nn2.parameters(), momentum=0.9, lr=0.01, weight_decay=1e-5)\n",
    "\n",
    "epoch = 0\n",
    "while epoch<1:\n",
    "        model.train()\n",
    "        total_loss = 0.0\n",
    "\n",
    "        for X, y, _ in tqdm(train_loader):\n",
    "            drug, molecular = X[\"drug_encoding\"].to(torch.device(\"mps\")), X[\"gene_expression\"].to(torch.device(\"mps\"))\n",
    "            outcome = y.to(torch.device(\"mps\"))\n",
    "            optimizer1.zero_grad()\n",
    "            optimizer2.zero_grad()\n",
    "\n",
    "            prediction = model.forward(drug, molecular)\n",
    "            loss = nn.HuberLoss()(outcome, prediction)\n",
    "            total_loss += loss.item()\n",
    "\n",
    "            loss.backward()\n",
    "\n",
    "            clip_grad_norm_(model.parameters(), 1.0)\n",
    "\n",
    "            # Randomly select optimizer\n",
    "            selected_optimizer = optimizer1 if torch.rand(1) < 0.5 else optimizer2\n",
    "            selected_optimizer.step()\n",
    "            break\n",
    "\n",
    "        epoch+=1\n"
   ]
  }
 ],
 "metadata": {
  "kernelspec": {
   "display_name": "DruxAI",
   "language": "python",
   "name": "python3"
  },
  "language_info": {
   "codemirror_mode": {
    "name": "ipython",
    "version": 3
   },
   "file_extension": ".py",
   "mimetype": "text/x-python",
   "name": "python",
   "nbconvert_exporter": "python",
   "pygments_lexer": "ipython3",
   "version": "3.9.18"
  }
 },
 "nbformat": 4,
 "nbformat_minor": 2
}

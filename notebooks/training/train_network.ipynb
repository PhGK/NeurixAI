{
 "cells": [
  {
   "cell_type": "code",
   "execution_count": 1,
   "metadata": {},
   "outputs": [],
   "source": [
    "%load_ext autoreload\n",
    "%autoreload 2"
   ]
  },
  {
   "cell_type": "code",
   "execution_count": 2,
   "metadata": {},
   "outputs": [
    {
     "name": "stdout",
     "output_type": "stream",
     "text": [
      "\u001b[34mINFO    \u001b[0m --------------------------------------------------                                                        \n",
      "\u001b[34mINFO    \u001b[0m --------------------------------------------------                                                        \n",
      "\u001b[34mINFO    \u001b[0m WARNING! NO GPU DETECTED!                                                                                 \n",
      "\u001b[34mINFO    \u001b[0m WARNING! NO GPU DETECTED!                                                                                 \n",
      "\u001b[34mINFO    \u001b[0m --------------------------------------------------                                                        \n",
      "\u001b[34mINFO    \u001b[0m --------------------------------------------------                                                        \n"
     ]
    },
    {
     "name": "stderr",
     "output_type": "stream",
     "text": [
      "Failed to detect the name of this notebook, you can set it manually with the WANDB_NOTEBOOK_NAME environment variable to enable code saving.\n",
      "\u001b[34m\u001b[1mwandb\u001b[0m: Currently logged in as: \u001b[33mniklaskiermeyer\u001b[0m. Use \u001b[1m`wandb login --relogin`\u001b[0m to force relogin\n"
     ]
    },
    {
     "data": {
      "text/html": [
       "wandb version 0.16.5 is available!  To upgrade, please run:\n",
       " $ pip install wandb --upgrade"
      ],
      "text/plain": [
       "<IPython.core.display.HTML object>"
      ]
     },
     "metadata": {},
     "output_type": "display_data"
    },
    {
     "data": {
      "text/html": [
       "Tracking run with wandb version 0.16.4"
      ],
      "text/plain": [
       "<IPython.core.display.HTML object>"
      ]
     },
     "metadata": {},
     "output_type": "display_data"
    },
    {
     "data": {
      "text/html": [
       "Run data is saved locally in <code>/Users/niklaskiermeyer/Desktop/Codespace/DruxAI/results/training/wandb/run-20240326_175804-jatq0i80</code>"
      ],
      "text/plain": [
       "<IPython.core.display.HTML object>"
      ]
     },
     "metadata": {},
     "output_type": "display_data"
    },
    {
     "data": {
      "text/html": [
       "Syncing run <strong><a href='https://wandb.ai/niklaskiermeyer/druxai/runs/jatq0i80' target=\"_blank\">druxai-run-sgd</a></strong> to <a href='https://wandb.ai/niklaskiermeyer/druxai' target=\"_blank\">Weights & Biases</a> (<a href='https://wandb.me/run' target=\"_blank\">docs</a>)<br/>"
      ],
      "text/plain": [
       "<IPython.core.display.HTML object>"
      ]
     },
     "metadata": {},
     "output_type": "display_data"
    },
    {
     "data": {
      "text/html": [
       " View project at <a href='https://wandb.ai/niklaskiermeyer/druxai' target=\"_blank\">https://wandb.ai/niklaskiermeyer/druxai</a>"
      ],
      "text/plain": [
       "<IPython.core.display.HTML object>"
      ]
     },
     "metadata": {},
     "output_type": "display_data"
    },
    {
     "data": {
      "text/html": [
       " View run at <a href='https://wandb.ai/niklaskiermeyer/druxai/runs/jatq0i80' target=\"_blank\">https://wandb.ai/niklaskiermeyer/druxai/runs/jatq0i80</a>"
      ],
      "text/plain": [
       "<IPython.core.display.HTML object>"
      ]
     },
     "metadata": {},
     "output_type": "display_data"
    },
    {
     "name": "stdout",
     "output_type": "stream",
     "text": [
      "\u001b[34mINFO    \u001b[0m Loaded targets with shape: \u001b[1m(\u001b[0m\u001b[1;36m556840\u001b[0m, \u001b[1;36m8\u001b[0m\u001b[1m)\u001b[0m                                                                    \n",
      "\u001b[34mINFO    \u001b[0m Loaded targets with shape: \u001b[1m(\u001b[0m\u001b[1;36m556840\u001b[0m, \u001b[1;36m8\u001b[0m\u001b[1m)\u001b[0m                                                                    \n",
      "\u001b[34mINFO    \u001b[0m Loaded molecular data with shape: \u001b[1m(\u001b[0m\u001b[1;36m1479\u001b[0m, \u001b[1;36m19193\u001b[0m\u001b[1m)\u001b[0m                                                           \n",
      "\u001b[34mINFO    \u001b[0m Loaded molecular data with shape: \u001b[1m(\u001b[0m\u001b[1;36m1479\u001b[0m, \u001b[1;36m19193\u001b[0m\u001b[1m)\u001b[0m                                                           \n",
      "\u001b[34mINFO    \u001b[0m Training model from scratch.                                                                              \n",
      "\u001b[34mINFO    \u001b[0m Training model from scratch.                                                                              \n"
     ]
    },
    {
     "name": "stderr",
     "output_type": "stream",
     "text": [
      "/Users/niklaskiermeyer/anaconda3/envs/DruxAI/lib/python3.9/site-packages/torchmetrics/utilities/prints.py:43: UserWarning: Metric `SpearmanCorrcoef` will save all targets and predictions in the buffer. For large datasets, this may lead to large memory footprint.\n",
      "  warnings.warn(*args, **kwargs)  # noqa: B028\n",
      " 32%|███▏      | 1000/3093 [03:06<07:01,  4.96it/s]"
     ]
    },
    {
     "name": "stdout",
     "output_type": "stream",
     "text": [
      "\u001b[34mINFO    \u001b[0m New best val_loss achieved!                                                                               \n",
      "         Epoch: \u001b[1;36m0\u001b[0m Train Loss: \u001b[1;36m0.0556\u001b[0m; Train R2: \u001b[1;36m0.0126\u001b[0m Val Loss: \u001b[1;36m0.0528\u001b[0m; Val R2: \u001b[1;36m0.0034\u001b[0m                            \n",
      "         Saving checkpoint to \u001b[35m/Users/niklaskiermeyer/Desktop/Codespace/DruxAI/results/training/\u001b[0m\u001b[95mckpt.pt\u001b[0m             \n",
      "\u001b[34mINFO    \u001b[0m New best val_loss achieved!                                                                               \n",
      "         Epoch: \u001b[1;36m0\u001b[0m Train Loss: \u001b[1;36m0.0556\u001b[0m; Train R2: \u001b[1;36m0.0126\u001b[0m Val Loss: \u001b[1;36m0.0528\u001b[0m; Val R2: \u001b[1;36m0.0034\u001b[0m                            \n",
      "         Saving checkpoint to \u001b[35m/Users/niklaskiermeyer/Desktop/Codespace/DruxAI/results/training/\u001b[0m\u001b[95mckpt.pt\u001b[0m             \n"
     ]
    },
    {
     "name": "stderr",
     "output_type": "stream",
     "text": [
      " 65%|██████▍   | 2000/3093 [07:03<02:56,  6.19it/s]  "
     ]
    },
    {
     "name": "stdout",
     "output_type": "stream",
     "text": [
      "\u001b[34mINFO    \u001b[0m New best val_loss achieved!                                                                               \n",
      "         Epoch: \u001b[1;36m0\u001b[0m Train Loss: \u001b[1;36m0.0540\u001b[0m; Train R2: \u001b[1;36m0.1414\u001b[0m Val Loss: \u001b[1;36m0.0525\u001b[0m; Val R2: \u001b[1;36m0.0598\u001b[0m                            \n",
      "         Saving checkpoint to \u001b[35m/Users/niklaskiermeyer/Desktop/Codespace/DruxAI/results/training/\u001b[0m\u001b[95mckpt.pt\u001b[0m             \n",
      "\u001b[34mINFO    \u001b[0m New best val_loss achieved!                                                                               \n",
      "         Epoch: \u001b[1;36m0\u001b[0m Train Loss: \u001b[1;36m0.0540\u001b[0m; Train R2: \u001b[1;36m0.1414\u001b[0m Val Loss: \u001b[1;36m0.0525\u001b[0m; Val R2: \u001b[1;36m0.0598\u001b[0m                            \n",
      "         Saving checkpoint to \u001b[35m/Users/niklaskiermeyer/Desktop/Codespace/DruxAI/results/training/\u001b[0m\u001b[95mckpt.pt\u001b[0m             \n"
     ]
    },
    {
     "name": "stderr",
     "output_type": "stream",
     "text": [
      " 97%|█████████▋| 3000/3093 [10:43<00:17,  5.33it/s]  "
     ]
    },
    {
     "name": "stdout",
     "output_type": "stream",
     "text": [
      "\u001b[34mINFO    \u001b[0m New best val_loss achieved!                                                                               \n",
      "         Epoch: \u001b[1;36m0\u001b[0m Train Loss: \u001b[1;36m0.0537\u001b[0m; Train R2: \u001b[1;36m0.2153\u001b[0m Val Loss: \u001b[1;36m0.0522\u001b[0m; Val R2: \u001b[1;36m0.1306\u001b[0m                            \n",
      "         Saving checkpoint to \u001b[35m/Users/niklaskiermeyer/Desktop/Codespace/DruxAI/results/training/\u001b[0m\u001b[95mckpt.pt\u001b[0m             \n",
      "\u001b[34mINFO    \u001b[0m New best val_loss achieved!                                                                               \n",
      "         Epoch: \u001b[1;36m0\u001b[0m Train Loss: \u001b[1;36m0.0537\u001b[0m; Train R2: \u001b[1;36m0.2153\u001b[0m Val Loss: \u001b[1;36m0.0522\u001b[0m; Val R2: \u001b[1;36m0.1306\u001b[0m                            \n",
      "         Saving checkpoint to \u001b[35m/Users/niklaskiermeyer/Desktop/Codespace/DruxAI/results/training/\u001b[0m\u001b[95mckpt.pt\u001b[0m             \n"
     ]
    },
    {
     "name": "stderr",
     "output_type": "stream",
     "text": [
      " 29%|██▉       | 907/3093 [02:40<05:07,  7.12it/s] "
     ]
    },
    {
     "name": "stdout",
     "output_type": "stream",
     "text": [
      "\u001b[34mINFO    \u001b[0m New best val_loss achieved!                                                                               \n",
      "         Epoch: \u001b[1;36m1\u001b[0m Train Loss: \u001b[1;36m0.0530\u001b[0m; Train R2: \u001b[1;36m0.2634\u001b[0m Val Loss: \u001b[1;36m0.0517\u001b[0m; Val R2: \u001b[1;36m0.1901\u001b[0m                            \n",
      "         Saving checkpoint to \u001b[35m/Users/niklaskiermeyer/Desktop/Codespace/DruxAI/results/training/\u001b[0m\u001b[95mckpt.pt\u001b[0m             \n",
      "\u001b[34mINFO    \u001b[0m New best val_loss achieved!                                                                               \n",
      "         Epoch: \u001b[1;36m1\u001b[0m Train Loss: \u001b[1;36m0.0530\u001b[0m; Train R2: \u001b[1;36m0.2634\u001b[0m Val Loss: \u001b[1;36m0.0517\u001b[0m; Val R2: \u001b[1;36m0.1901\u001b[0m                            \n",
      "         Saving checkpoint to \u001b[35m/Users/niklaskiermeyer/Desktop/Codespace/DruxAI/results/training/\u001b[0m\u001b[95mckpt.pt\u001b[0m             \n"
     ]
    },
    {
     "name": "stderr",
     "output_type": "stream",
     "text": [
      " 62%|██████▏   | 1907/3093 [06:22<04:05,  4.84it/s] "
     ]
    },
    {
     "name": "stdout",
     "output_type": "stream",
     "text": [
      "\u001b[34mINFO    \u001b[0m New best val_loss achieved!                                                                               \n",
      "         Epoch: \u001b[1;36m1\u001b[0m Train Loss: \u001b[1;36m0.0527\u001b[0m; Train R2: \u001b[1;36m0.3030\u001b[0m Val Loss: \u001b[1;36m0.0512\u001b[0m; Val R2: \u001b[1;36m0.2542\u001b[0m                            \n",
      "         Saving checkpoint to \u001b[35m/Users/niklaskiermeyer/Desktop/Codespace/DruxAI/results/training/\u001b[0m\u001b[95mckpt.pt\u001b[0m             \n",
      "\u001b[34mINFO    \u001b[0m New best val_loss achieved!                                                                               \n",
      "         Epoch: \u001b[1;36m1\u001b[0m Train Loss: \u001b[1;36m0.0527\u001b[0m; Train R2: \u001b[1;36m0.3030\u001b[0m Val Loss: \u001b[1;36m0.0512\u001b[0m; Val R2: \u001b[1;36m0.2542\u001b[0m                            \n",
      "         Saving checkpoint to \u001b[35m/Users/niklaskiermeyer/Desktop/Codespace/DruxAI/results/training/\u001b[0m\u001b[95mckpt.pt\u001b[0m             \n"
     ]
    },
    {
     "name": "stderr",
     "output_type": "stream",
     "text": [
      " 94%|█████████▍| 2907/3093 [10:07<00:39,  4.72it/s]  "
     ]
    },
    {
     "name": "stdout",
     "output_type": "stream",
     "text": [
      "\u001b[34mINFO    \u001b[0m New best val_loss achieved!                                                                               \n",
      "         Epoch: \u001b[1;36m1\u001b[0m Train Loss: \u001b[1;36m0.0511\u001b[0m; Train R2: \u001b[1;36m0.3570\u001b[0m Val Loss: \u001b[1;36m0.0500\u001b[0m; Val R2: \u001b[1;36m0.3446\u001b[0m                            \n",
      "         Saving checkpoint to \u001b[35m/Users/niklaskiermeyer/Desktop/Codespace/DruxAI/results/training/\u001b[0m\u001b[95mckpt.pt\u001b[0m             \n",
      "\u001b[34mINFO    \u001b[0m New best val_loss achieved!                                                                               \n",
      "         Epoch: \u001b[1;36m1\u001b[0m Train Loss: \u001b[1;36m0.0511\u001b[0m; Train R2: \u001b[1;36m0.3570\u001b[0m Val Loss: \u001b[1;36m0.0500\u001b[0m; Val R2: \u001b[1;36m0.3446\u001b[0m                            \n",
      "         Saving checkpoint to \u001b[35m/Users/niklaskiermeyer/Desktop/Codespace/DruxAI/results/training/\u001b[0m\u001b[95mckpt.pt\u001b[0m             \n"
     ]
    },
    {
     "name": "stderr",
     "output_type": "stream",
     "text": [
      " 26%|██▋       | 814/3093 [02:26<08:28,  4.48it/s] "
     ]
    },
    {
     "name": "stdout",
     "output_type": "stream",
     "text": [
      "\u001b[34mINFO    \u001b[0m New best val_loss achieved!                                                                               \n",
      "         Epoch: \u001b[1;36m2\u001b[0m Train Loss: \u001b[1;36m0.0498\u001b[0m; Train R2: \u001b[1;36m0.4344\u001b[0m Val Loss: \u001b[1;36m0.0484\u001b[0m; Val R2: \u001b[1;36m0.4403\u001b[0m                            \n",
      "         Saving checkpoint to \u001b[35m/Users/niklaskiermeyer/Desktop/Codespace/DruxAI/results/training/\u001b[0m\u001b[95mckpt.pt\u001b[0m             \n",
      "\u001b[34mINFO    \u001b[0m New best val_loss achieved!                                                                               \n",
      "         Epoch: \u001b[1;36m2\u001b[0m Train Loss: \u001b[1;36m0.0498\u001b[0m; Train R2: \u001b[1;36m0.4344\u001b[0m Val Loss: \u001b[1;36m0.0484\u001b[0m; Val R2: \u001b[1;36m0.4403\u001b[0m                            \n",
      "         Saving checkpoint to \u001b[35m/Users/niklaskiermeyer/Desktop/Codespace/DruxAI/results/training/\u001b[0m\u001b[95mckpt.pt\u001b[0m             \n"
     ]
    },
    {
     "name": "stderr",
     "output_type": "stream",
     "text": [
      " 59%|█████▊    | 1814/3093 [06:12<03:04,  6.93it/s] "
     ]
    },
    {
     "name": "stdout",
     "output_type": "stream",
     "text": [
      "\u001b[34mINFO    \u001b[0m New best val_loss achieved!                                                                               \n",
      "         Epoch: \u001b[1;36m2\u001b[0m Train Loss: \u001b[1;36m0.0477\u001b[0m; Train R2: \u001b[1;36m0.5328\u001b[0m Val Loss: \u001b[1;36m0.0448\u001b[0m; Val R2: \u001b[1;36m0.5747\u001b[0m                            \n",
      "         Saving checkpoint to \u001b[35m/Users/niklaskiermeyer/Desktop/Codespace/DruxAI/results/training/\u001b[0m\u001b[95mckpt.pt\u001b[0m             \n",
      "\u001b[34mINFO    \u001b[0m New best val_loss achieved!                                                                               \n",
      "         Epoch: \u001b[1;36m2\u001b[0m Train Loss: \u001b[1;36m0.0477\u001b[0m; Train R2: \u001b[1;36m0.5328\u001b[0m Val Loss: \u001b[1;36m0.0448\u001b[0m; Val R2: \u001b[1;36m0.5747\u001b[0m                            \n",
      "         Saving checkpoint to \u001b[35m/Users/niklaskiermeyer/Desktop/Codespace/DruxAI/results/training/\u001b[0m\u001b[95mckpt.pt\u001b[0m             \n"
     ]
    },
    {
     "name": "stderr",
     "output_type": "stream",
     "text": [
      " 91%|█████████ | 2814/3093 [09:30<00:48,  5.79it/s]  "
     ]
    },
    {
     "name": "stdout",
     "output_type": "stream",
     "text": [
      "\u001b[34mINFO    \u001b[0m New best val_loss achieved!                                                                               \n",
      "         Epoch: \u001b[1;36m2\u001b[0m Train Loss: \u001b[1;36m0.0429\u001b[0m; Train R2: \u001b[1;36m0.6345\u001b[0m Val Loss: \u001b[1;36m0.0392\u001b[0m; Val R2: \u001b[1;36m0.6599\u001b[0m                            \n",
      "         Saving checkpoint to \u001b[35m/Users/niklaskiermeyer/Desktop/Codespace/DruxAI/results/training/\u001b[0m\u001b[95mckpt.pt\u001b[0m             \n",
      "\u001b[34mINFO    \u001b[0m New best val_loss achieved!                                                                               \n",
      "         Epoch: \u001b[1;36m2\u001b[0m Train Loss: \u001b[1;36m0.0429\u001b[0m; Train R2: \u001b[1;36m0.6345\u001b[0m Val Loss: \u001b[1;36m0.0392\u001b[0m; Val R2: \u001b[1;36m0.6599\u001b[0m                            \n",
      "         Saving checkpoint to \u001b[35m/Users/niklaskiermeyer/Desktop/Codespace/DruxAI/results/training/\u001b[0m\u001b[95mckpt.pt\u001b[0m             \n"
     ]
    },
    {
     "name": "stderr",
     "output_type": "stream",
     "text": [
      " 23%|██▎       | 721/3093 [01:55<06:33,  6.03it/s] "
     ]
    },
    {
     "name": "stdout",
     "output_type": "stream",
     "text": [
      "\u001b[34mINFO    \u001b[0m New best val_loss achieved!                                                                               \n",
      "         Epoch: \u001b[1;36m3\u001b[0m Train Loss: \u001b[1;36m0.0363\u001b[0m; Train R2: \u001b[1;36m0.7081\u001b[0m Val Loss: \u001b[1;36m0.0312\u001b[0m; Val R2: \u001b[1;36m0.7163\u001b[0m                            \n",
      "         Saving checkpoint to \u001b[35m/Users/niklaskiermeyer/Desktop/Codespace/DruxAI/results/training/\u001b[0m\u001b[95mckpt.pt\u001b[0m             \n",
      "\u001b[34mINFO    \u001b[0m New best val_loss achieved!                                                                               \n",
      "         Epoch: \u001b[1;36m3\u001b[0m Train Loss: \u001b[1;36m0.0363\u001b[0m; Train R2: \u001b[1;36m0.7081\u001b[0m Val Loss: \u001b[1;36m0.0312\u001b[0m; Val R2: \u001b[1;36m0.7163\u001b[0m                            \n",
      "         Saving checkpoint to \u001b[35m/Users/niklaskiermeyer/Desktop/Codespace/DruxAI/results/training/\u001b[0m\u001b[95mckpt.pt\u001b[0m             \n"
     ]
    },
    {
     "name": "stderr",
     "output_type": "stream",
     "text": [
      " 56%|█████▌    | 1720/3093 [05:16<03:43,  6.15it/s] "
     ]
    },
    {
     "name": "stdout",
     "output_type": "stream",
     "text": [
      "\u001b[34mINFO    \u001b[0m New best val_loss achieved!                                                                               \n",
      "         Epoch: \u001b[1;36m3\u001b[0m Train Loss: \u001b[1;36m0.0278\u001b[0m; Train R2: \u001b[1;36m0.7481\u001b[0m Val Loss: \u001b[1;36m0.0250\u001b[0m; Val R2: \u001b[1;36m0.7435\u001b[0m                            \n",
      "         Saving checkpoint to \u001b[35m/Users/niklaskiermeyer/Desktop/Codespace/DruxAI/results/training/\u001b[0m\u001b[95mckpt.pt\u001b[0m             \n",
      "\u001b[34mINFO    \u001b[0m New best val_loss achieved!                                                                               \n",
      "         Epoch: \u001b[1;36m3\u001b[0m Train Loss: \u001b[1;36m0.0278\u001b[0m; Train R2: \u001b[1;36m0.7481\u001b[0m Val Loss: \u001b[1;36m0.0250\u001b[0m; Val R2: \u001b[1;36m0.7435\u001b[0m                            \n",
      "         Saving checkpoint to \u001b[35m/Users/niklaskiermeyer/Desktop/Codespace/DruxAI/results/training/\u001b[0m\u001b[95mckpt.pt\u001b[0m             \n"
     ]
    },
    {
     "name": "stderr",
     "output_type": "stream",
     "text": [
      " 88%|████████▊ | 2721/3093 [08:31<01:02,  5.92it/s]  "
     ]
    },
    {
     "name": "stdout",
     "output_type": "stream",
     "text": [
      "\u001b[34mINFO    \u001b[0m New best val_loss achieved!                                                                               \n",
      "         Epoch: \u001b[1;36m3\u001b[0m Train Loss: \u001b[1;36m0.0228\u001b[0m; Train R2: \u001b[1;36m0.7737\u001b[0m Val Loss: \u001b[1;36m0.0223\u001b[0m; Val R2: \u001b[1;36m0.7588\u001b[0m                            \n",
      "         Saving checkpoint to \u001b[35m/Users/niklaskiermeyer/Desktop/Codespace/DruxAI/results/training/\u001b[0m\u001b[95mckpt.pt\u001b[0m             \n",
      "\u001b[34mINFO    \u001b[0m New best val_loss achieved!                                                                               \n",
      "         Epoch: \u001b[1;36m3\u001b[0m Train Loss: \u001b[1;36m0.0228\u001b[0m; Train R2: \u001b[1;36m0.7737\u001b[0m Val Loss: \u001b[1;36m0.0223\u001b[0m; Val R2: \u001b[1;36m0.7588\u001b[0m                            \n",
      "         Saving checkpoint to \u001b[35m/Users/niklaskiermeyer/Desktop/Codespace/DruxAI/results/training/\u001b[0m\u001b[95mckpt.pt\u001b[0m             \n"
     ]
    },
    {
     "name": "stderr",
     "output_type": "stream",
     "text": [
      " 20%|██        | 628/3093 [01:40<06:11,  6.64it/s]   "
     ]
    },
    {
     "name": "stdout",
     "output_type": "stream",
     "text": [
      "\u001b[34mINFO    \u001b[0m New best val_loss achieved!                                                                               \n",
      "         Epoch: \u001b[1;36m4\u001b[0m Train Loss: \u001b[1;36m0.0204\u001b[0m; Train R2: \u001b[1;36m0.7814\u001b[0m Val Loss: \u001b[1;36m0.0212\u001b[0m; Val R2: \u001b[1;36m0.7655\u001b[0m                            \n",
      "         Saving checkpoint to \u001b[35m/Users/niklaskiermeyer/Desktop/Codespace/DruxAI/results/training/\u001b[0m\u001b[95mckpt.pt\u001b[0m             \n",
      "\u001b[34mINFO    \u001b[0m New best val_loss achieved!                                                                               \n",
      "         Epoch: \u001b[1;36m4\u001b[0m Train Loss: \u001b[1;36m0.0204\u001b[0m; Train R2: \u001b[1;36m0.7814\u001b[0m Val Loss: \u001b[1;36m0.0212\u001b[0m; Val R2: \u001b[1;36m0.7655\u001b[0m                            \n",
      "         Saving checkpoint to \u001b[35m/Users/niklaskiermeyer/Desktop/Codespace/DruxAI/results/training/\u001b[0m\u001b[95mckpt.pt\u001b[0m             \n"
     ]
    },
    {
     "name": "stderr",
     "output_type": "stream",
     "text": [
      " 53%|█████▎    | 1628/3093 [05:04<03:14,  7.54it/s] "
     ]
    },
    {
     "name": "stdout",
     "output_type": "stream",
     "text": [
      "\u001b[34mINFO    \u001b[0m New best val_loss achieved!                                                                               \n",
      "         Epoch: \u001b[1;36m4\u001b[0m Train Loss: \u001b[1;36m0.0195\u001b[0m; Train R2: \u001b[1;36m0.7902\u001b[0m Val Loss: \u001b[1;36m0.0206\u001b[0m; Val R2: \u001b[1;36m0.7702\u001b[0m                            \n",
      "         Saving checkpoint to \u001b[35m/Users/niklaskiermeyer/Desktop/Codespace/DruxAI/results/training/\u001b[0m\u001b[95mckpt.pt\u001b[0m             \n",
      "\u001b[34mINFO    \u001b[0m New best val_loss achieved!                                                                               \n",
      "         Epoch: \u001b[1;36m4\u001b[0m Train Loss: \u001b[1;36m0.0195\u001b[0m; Train R2: \u001b[1;36m0.7902\u001b[0m Val Loss: \u001b[1;36m0.0206\u001b[0m; Val R2: \u001b[1;36m0.7702\u001b[0m                            \n",
      "         Saving checkpoint to \u001b[35m/Users/niklaskiermeyer/Desktop/Codespace/DruxAI/results/training/\u001b[0m\u001b[95mckpt.pt\u001b[0m             \n"
     ]
    },
    {
     "name": "stderr",
     "output_type": "stream",
     "text": [
      " 85%|████████▍ | 2628/3093 [08:19<01:20,  5.74it/s]  "
     ]
    },
    {
     "name": "stdout",
     "output_type": "stream",
     "text": [
      "\u001b[34mINFO    \u001b[0m New best val_loss achieved!                                                                               \n",
      "         Epoch: \u001b[1;36m4\u001b[0m Train Loss: \u001b[1;36m0.0189\u001b[0m; Train R2: \u001b[1;36m0.7903\u001b[0m Val Loss: \u001b[1;36m0.0203\u001b[0m; Val R2: \u001b[1;36m0.7724\u001b[0m                            \n",
      "         Saving checkpoint to \u001b[35m/Users/niklaskiermeyer/Desktop/Codespace/DruxAI/results/training/\u001b[0m\u001b[95mckpt.pt\u001b[0m             \n",
      "\u001b[34mINFO    \u001b[0m New best val_loss achieved!                                                                               \n",
      "         Epoch: \u001b[1;36m4\u001b[0m Train Loss: \u001b[1;36m0.0189\u001b[0m; Train R2: \u001b[1;36m0.7903\u001b[0m Val Loss: \u001b[1;36m0.0203\u001b[0m; Val R2: \u001b[1;36m0.7724\u001b[0m                            \n",
      "         Saving checkpoint to \u001b[35m/Users/niklaskiermeyer/Desktop/Codespace/DruxAI/results/training/\u001b[0m\u001b[95mckpt.pt\u001b[0m             \n"
     ]
    },
    {
     "name": "stderr",
     "output_type": "stream",
     "text": [
      " 17%|█▋        | 535/3093 [01:24<06:18,  6.76it/s]   "
     ]
    },
    {
     "name": "stdout",
     "output_type": "stream",
     "text": [
      "\u001b[34mINFO    \u001b[0m New best val_loss achieved!                                                                               \n",
      "         Epoch: \u001b[1;36m5\u001b[0m Train Loss: \u001b[1;36m0.0185\u001b[0m; Train R2: \u001b[1;36m0.7916\u001b[0m Val Loss: \u001b[1;36m0.0202\u001b[0m; Val R2: \u001b[1;36m0.7728\u001b[0m                            \n",
      "         Saving checkpoint to \u001b[35m/Users/niklaskiermeyer/Desktop/Codespace/DruxAI/results/training/\u001b[0m\u001b[95mckpt.pt\u001b[0m             \n",
      "\u001b[34mINFO    \u001b[0m New best val_loss achieved!                                                                               \n",
      "         Epoch: \u001b[1;36m5\u001b[0m Train Loss: \u001b[1;36m0.0185\u001b[0m; Train R2: \u001b[1;36m0.7916\u001b[0m Val Loss: \u001b[1;36m0.0202\u001b[0m; Val R2: \u001b[1;36m0.7728\u001b[0m                            \n",
      "         Saving checkpoint to \u001b[35m/Users/niklaskiermeyer/Desktop/Codespace/DruxAI/results/training/\u001b[0m\u001b[95mckpt.pt\u001b[0m             \n"
     ]
    },
    {
     "name": "stderr",
     "output_type": "stream",
     "text": [
      " 50%|████▉     | 1535/3093 [05:10<04:43,  5.49it/s]  "
     ]
    },
    {
     "name": "stdout",
     "output_type": "stream",
     "text": [
      "\u001b[34mINFO    \u001b[0m New best val_loss achieved!                                                                               \n",
      "         Epoch: \u001b[1;36m5\u001b[0m Train Loss: \u001b[1;36m0.0182\u001b[0m; Train R2: \u001b[1;36m0.7949\u001b[0m Val Loss: \u001b[1;36m0.0201\u001b[0m; Val R2: \u001b[1;36m0.7734\u001b[0m                            \n",
      "         Saving checkpoint to \u001b[35m/Users/niklaskiermeyer/Desktop/Codespace/DruxAI/results/training/\u001b[0m\u001b[95mckpt.pt\u001b[0m             \n",
      "\u001b[34mINFO    \u001b[0m New best val_loss achieved!                                                                               \n",
      "         Epoch: \u001b[1;36m5\u001b[0m Train Loss: \u001b[1;36m0.0182\u001b[0m; Train R2: \u001b[1;36m0.7949\u001b[0m Val Loss: \u001b[1;36m0.0201\u001b[0m; Val R2: \u001b[1;36m0.7734\u001b[0m                            \n",
      "         Saving checkpoint to \u001b[35m/Users/niklaskiermeyer/Desktop/Codespace/DruxAI/results/training/\u001b[0m\u001b[95mckpt.pt\u001b[0m             \n"
     ]
    },
    {
     "name": "stderr",
     "output_type": "stream",
     "text": [
      " 79%|███████▉  | 2442/3093 [08:09<01:47,  6.08it/s]  "
     ]
    },
    {
     "name": "stdout",
     "output_type": "stream",
     "text": [
      "\u001b[34mINFO    \u001b[0m New best val_loss achieved!                                                                               \n",
      "         Epoch: \u001b[1;36m6\u001b[0m Train Loss: \u001b[1;36m0.0180\u001b[0m; Train R2: \u001b[1;36m0.7959\u001b[0m Val Loss: \u001b[1;36m0.0200\u001b[0m; Val R2: \u001b[1;36m0.7735\u001b[0m                            \n",
      "         Saving checkpoint to \u001b[35m/Users/niklaskiermeyer/Desktop/Codespace/DruxAI/results/training/\u001b[0m\u001b[95mckpt.pt\u001b[0m             \n",
      "\u001b[34mINFO    \u001b[0m New best val_loss achieved!                                                                               \n",
      "         Epoch: \u001b[1;36m6\u001b[0m Train Loss: \u001b[1;36m0.0180\u001b[0m; Train R2: \u001b[1;36m0.7959\u001b[0m Val Loss: \u001b[1;36m0.0200\u001b[0m; Val R2: \u001b[1;36m0.7735\u001b[0m                            \n",
      "         Saving checkpoint to \u001b[35m/Users/niklaskiermeyer/Desktop/Codespace/DruxAI/results/training/\u001b[0m\u001b[95mckpt.pt\u001b[0m             \n"
     ]
    },
    {
     "name": "stderr",
     "output_type": "stream",
     "text": [
      " 11%|█▏        | 349/3093 [00:55<07:07,  6.42it/s]   "
     ]
    },
    {
     "name": "stdout",
     "output_type": "stream",
     "text": [
      "\u001b[34mINFO    \u001b[0m New best val_loss achieved!                                                                               \n",
      "         Epoch: \u001b[1;36m7\u001b[0m Train Loss: \u001b[1;36m0.0180\u001b[0m; Train R2: \u001b[1;36m0.7964\u001b[0m Val Loss: \u001b[1;36m0.0200\u001b[0m; Val R2: \u001b[1;36m0.7740\u001b[0m                            \n",
      "         Saving checkpoint to \u001b[35m/Users/niklaskiermeyer/Desktop/Codespace/DruxAI/results/training/\u001b[0m\u001b[95mckpt.pt\u001b[0m             \n",
      "\u001b[34mINFO    \u001b[0m New best val_loss achieved!                                                                               \n",
      "         Epoch: \u001b[1;36m7\u001b[0m Train Loss: \u001b[1;36m0.0180\u001b[0m; Train R2: \u001b[1;36m0.7964\u001b[0m Val Loss: \u001b[1;36m0.0200\u001b[0m; Val R2: \u001b[1;36m0.7740\u001b[0m                            \n",
      "         Saving checkpoint to \u001b[35m/Users/niklaskiermeyer/Desktop/Codespace/DruxAI/results/training/\u001b[0m\u001b[95mckpt.pt\u001b[0m             \n"
     ]
    },
    {
     "name": "stderr",
     "output_type": "stream",
     "text": [
      "wandb: WARNING Source type is set to 'repo' but some required information is missing from the environment. A job will not be created from this run. See https://docs.wandb.ai/guides/launch/create-job\n"
     ]
    },
    {
     "data": {
      "application/vnd.jupyter.widget-view+json": {
       "model_id": "229b318f45624723b7b360985feb6ad8",
       "version_major": 2,
       "version_minor": 0
      },
      "text/plain": [
       "VBox(children=(Label(value='0.001 MB of 0.001 MB uploaded\\r'), FloatProgress(value=1.0, max=1.0)))"
      ]
     },
     "metadata": {},
     "output_type": "display_data"
    },
    {
     "data": {
      "text/html": [
       "<style>\n",
       "    table.wandb td:nth-child(1) { padding: 0 10px; text-align: left ; width: auto;} td:nth-child(2) {text-align: left ; width: 100%}\n",
       "    .wandb-row { display: flex; flex-direction: row; flex-wrap: wrap; justify-content: flex-start; width: 100% }\n",
       "    .wandb-col { display: flex; flex-direction: column; flex-basis: 100%; flex: 1; padding: 10px; }\n",
       "    </style>\n",
       "<div class=\"wandb-row\"><div class=\"wandb-col\"><h3>Run history:</h3><br/><table class=\"wandb\"><tr><td>epoch</td><td>▁▁▁▁▂▂▂▂▂▃▃▃▃▃▃▄▄▄▄▄▅▅▅▅▅▆▆▆▆▆▆▇▇▇▇▇████</td></tr><tr><td>iter</td><td>▁▁▁▂▂▂▂▂▂▃▃▃▃▃▃▄▄▄▄▄▅▅▅▅▅▅▆▆▆▆▆▇▇▇▇▇▇███</td></tr><tr><td>lr_opt1</td><td>██▇▇▆▆▅▅▅▄▄▄▃▃▃▃▃▃▃▂▂▂▂▂▂▂▂▂▁▁▁▁▁▁▁▁▁▁▁▁</td></tr><tr><td>lr_opt2</td><td>██▇▇▆▆▅▅▅▄▄▄▃▃▃▃▃▃▃▂▂▂▂▂▂▂▂▂▁▁▁▁▁▁▁▁▁▁▁▁</td></tr><tr><td>r2_train</td><td>▁▃▄▆▇███████████████████████████████████</td></tr><tr><td>r2_val</td><td>▁▂▃▆▇███████████████████████████████████</td></tr><tr><td>timestamp</td><td>▁▁▁▁▁▁▁▂▂▂▂▂▂▂▂▄▄▄▄▄▄▄▄▅▅▅▅▅▅▅▇▇▇▇▇▇▇▇██</td></tr><tr><td>train loss</td><td>██▇▇▄▂▁▁▁▁▁▁▁▁▁▁▁▁▁▁▁▁▁▁▁▁▁▁▁▁▁▁▁▁▁▁▁▁▁▁</td></tr><tr><td>val_loss</td><td>███▆▃▁▁▁▁▁▁▁▁▁▁▁▁▁▁▁▁▁▁▁▁▁▁▁▁▁▁▁▁▁▁▁▁▁▁▁</td></tr></table><br/></div><div class=\"wandb-col\"><h3>Run summary:</h3><br/><table class=\"wandb\"><tr><td>epoch</td><td>29</td></tr><tr><td>iter</td><td>92000</td></tr><tr><td>lr_opt1</td><td>0.00236</td></tr><tr><td>lr_opt2</td><td>0.00236</td></tr><tr><td>r2_train</td><td>0.80134</td></tr><tr><td>r2_val</td><td>0.77431</td></tr><tr><td>timestamp</td><td>5</td></tr><tr><td>train loss</td><td>0.01716</td></tr><tr><td>val_loss</td><td>0.02002</td></tr></table><br/></div></div>"
      ],
      "text/plain": [
       "<IPython.core.display.HTML object>"
      ]
     },
     "metadata": {},
     "output_type": "display_data"
    },
    {
     "data": {
      "text/html": [
       " View run <strong style=\"color:#cdcd00\">druxai-run-sgd</strong> at: <a href='https://wandb.ai/niklaskiermeyer/druxai/runs/jatq0i80' target=\"_blank\">https://wandb.ai/niklaskiermeyer/druxai/runs/jatq0i80</a><br/>Synced 6 W&B file(s), 0 media file(s), 0 artifact file(s) and 0 other file(s)"
      ],
      "text/plain": [
       "<IPython.core.display.HTML object>"
      ]
     },
     "metadata": {},
     "output_type": "display_data"
    },
    {
     "data": {
      "text/html": [
       "Find logs at: <code>/Users/niklaskiermeyer/Desktop/Codespace/DruxAI/results/training/wandb/run-20240326_175804-jatq0i80/logs</code>"
      ],
      "text/plain": [
       "<IPython.core.display.HTML object>"
      ]
     },
     "metadata": {},
     "output_type": "display_data"
    }
   ],
   "source": [
    "%run /Users/niklaskiermeyer/Desktop/Codespace/DruxAI/src/druxai/train.py"
   ]
  },
  {
   "cell_type": "code",
   "execution_count": null,
   "metadata": {},
   "outputs": [],
   "source": []
  }
 ],
 "metadata": {
  "kernelspec": {
   "display_name": "DruxAI",
   "language": "python",
   "name": "python3"
  },
  "language_info": {
   "codemirror_mode": {
    "name": "ipython",
    "version": 3
   },
   "file_extension": ".py",
   "mimetype": "text/x-python",
   "name": "python",
   "nbconvert_exporter": "python",
   "pygments_lexer": "ipython3",
   "version": "3.9.18"
  }
 },
 "nbformat": 4,
 "nbformat_minor": 2
}

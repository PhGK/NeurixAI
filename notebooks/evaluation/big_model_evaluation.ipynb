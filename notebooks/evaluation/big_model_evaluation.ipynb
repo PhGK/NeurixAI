{
 "cells": [
  {
   "cell_type": "code",
   "execution_count": null,
   "metadata": {},
   "outputs": [],
   "source": [
    "%load_ext autoreload\n",
    "%autoreload 2"
   ]
  },
  {
   "cell_type": "code",
   "execution_count": null,
   "metadata": {},
   "outputs": [],
   "source": [
    "import torch\n",
    "from types import SimpleNamespace"
   ]
  },
  {
   "cell_type": "code",
   "execution_count": null,
   "metadata": {},
   "outputs": [],
   "source": [
    "# Checkpoint path\n",
    "# Always safe specific config with a run! Important especially if seed is changed because then we have other splits!\n",
    "\n",
    "ckpt_path = \"/Users/niklaskiermeyer/Desktop/Codespace/DruxAI/results/training/ckpt_sgd_baseline.pt\"\n",
    "\n",
    "checkpoint = torch.load(ckpt_path)\n",
    "cfg = checkpoint[\"config\"]"
   ]
  },
  {
   "cell_type": "code",
   "execution_count": null,
   "metadata": {},
   "outputs": [],
   "source": [
    "config = {\n",
    "    \"metric\": {\"name\": \"r2_val\", \"goal\": \"maximize\"},\n",
    "    \"resume\": False,\n",
    "    \"patience\": 5,\n",
    "    \"epochs\": 10,\n",
    "    \"optimizer\": \"sgd\",\n",
    "    \"scheduler\": \"exponential\",\n",
    "    \"loss\": \"huber\",\n",
    "    \"batch_size\": 64,\n",
    "    \"learning_rate\": 0.1,\n",
    "    \"output_features\": 10,\n",
    "    \"hidden_dims_drug_nn\": [512],\n",
    "    \"hidden_dims_gene_expression_nn\": [512],\n",
    "    \"dropout_drug_nn\": 0.2,\n",
    "    \"dropout_gene_expression_nn\": 0.2,\n",
    "}\n",
    "\n",
    "config = SimpleNamespace(**config)"
   ]
  }
 ],
 "metadata": {
  "kernelspec": {
   "display_name": "DruxAI",
   "language": "python",
   "name": "python3"
  },
  "language_info": {
   "codemirror_mode": {
    "name": "ipython",
    "version": 3
   },
   "file_extension": ".py",
   "mimetype": "text/x-python",
   "name": "python",
   "nbconvert_exporter": "python",
   "pygments_lexer": "ipython3",
   "version": "3.9.18"
  }
 },
 "nbformat": 4,
 "nbformat_minor": 2
}

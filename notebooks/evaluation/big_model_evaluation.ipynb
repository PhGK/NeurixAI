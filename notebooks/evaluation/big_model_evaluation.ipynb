{
 "cells": [
  {
   "cell_type": "code",
   "execution_count": 1,
   "metadata": {},
   "outputs": [],
   "source": [
    "%load_ext autoreload\n",
    "%autoreload 2"
   ]
  },
  {
   "cell_type": "code",
   "execution_count": 2,
   "metadata": {},
   "outputs": [],
   "source": [
    "import pandas as pd\n",
    "from scipy.stats import spearmanr"
   ]
  },
  {
   "cell_type": "code",
   "execution_count": 3,
   "metadata": {},
   "outputs": [],
   "source": [
    "# Define the folder path where the CSV files are located\n",
    "file_path = \"/Users/niklaskiermeyer/Desktop/Codespace/DruxAI/results/slurm/big_model_results.csv\"\n",
    "\n",
    "results_val = pd.read_csv(file_path)"
   ]
  },
  {
   "cell_type": "code",
   "execution_count": 25,
   "metadata": {},
   "outputs": [
    {
     "data": {
      "text/html": [
       "<div>\n",
       "<style scoped>\n",
       "    .dataframe tbody tr th:only-of-type {\n",
       "        vertical-align: middle;\n",
       "    }\n",
       "\n",
       "    .dataframe tbody tr th {\n",
       "        vertical-align: top;\n",
       "    }\n",
       "\n",
       "    .dataframe thead th {\n",
       "        text-align: right;\n",
       "    }\n",
       "</style>\n",
       "<table border=\"1\" class=\"dataframe\">\n",
       "  <thead>\n",
       "    <tr style=\"text-align: right;\">\n",
       "      <th></th>\n",
       "      <th>ground_truth</th>\n",
       "      <th>prediction</th>\n",
       "      <th>cells</th>\n",
       "      <th>drugs</th>\n",
       "    </tr>\n",
       "  </thead>\n",
       "  <tbody>\n",
       "    <tr>\n",
       "      <th>0</th>\n",
       "      <td>[-0.14991311728954315]</td>\n",
       "      <td>[-0.12373024225234985]</td>\n",
       "      <td>ACH-000013</td>\n",
       "      <td>1-NAPHTHYL-PP1</td>\n",
       "    </tr>\n",
       "    <tr>\n",
       "      <th>1</th>\n",
       "      <td>[0.429168701171875]</td>\n",
       "      <td>[-0.08158686757087708]</td>\n",
       "      <td>ACH-000974</td>\n",
       "      <td>CP-724714</td>\n",
       "    </tr>\n",
       "    <tr>\n",
       "      <th>2</th>\n",
       "      <td>[-0.3943784832954407]</td>\n",
       "      <td>[-0.25059542059898376]</td>\n",
       "      <td>ACH-000915</td>\n",
       "      <td>OBATOCLAX</td>\n",
       "    </tr>\n",
       "    <tr>\n",
       "      <th>3</th>\n",
       "      <td>[0.2287609577178955]</td>\n",
       "      <td>[0.12117030471563339]</td>\n",
       "      <td>ACH-000312</td>\n",
       "      <td>RUCINOL</td>\n",
       "    </tr>\n",
       "    <tr>\n",
       "      <th>4</th>\n",
       "      <td>[0.32743167877197266]</td>\n",
       "      <td>[0.005660128779709339]</td>\n",
       "      <td>ACH-000351</td>\n",
       "      <td>VISMODEGIB</td>\n",
       "    </tr>\n",
       "  </tbody>\n",
       "</table>\n",
       "</div>"
      ],
      "text/plain": [
       "             ground_truth              prediction       cells           drugs\n",
       "0  [-0.14991311728954315]  [-0.12373024225234985]  ACH-000013  1-NAPHTHYL-PP1\n",
       "1     [0.429168701171875]  [-0.08158686757087708]  ACH-000974       CP-724714\n",
       "2   [-0.3943784832954407]  [-0.25059542059898376]  ACH-000915       OBATOCLAX\n",
       "3    [0.2287609577178955]   [0.12117030471563339]  ACH-000312         RUCINOL\n",
       "4   [0.32743167877197266]  [0.005660128779709339]  ACH-000351      VISMODEGIB"
      ]
     },
     "execution_count": 25,
     "metadata": {},
     "output_type": "execute_result"
    }
   ],
   "source": [
    "results_val.head()"
   ]
  },
  {
   "cell_type": "code",
   "execution_count": 6,
   "metadata": {},
   "outputs": [
    {
     "name": "stderr",
     "output_type": "stream",
     "text": [
      "/Users/niklaskiermeyer/anaconda3/envs/DruxAI/lib/python3.9/site-packages/torchmetrics/utilities/prints.py:43: UserWarning: Metric `SpearmanCorrcoef` will save all targets and predictions in the buffer. For large datasets, this may lead to large memory footprint.\n",
      "  warnings.warn(*args, **kwargs)  # noqa: B028\n"
     ]
    }
   ],
   "source": [
    "from torchmetrics import SpearmanCorrCoef  # Assuming you have implemented this metric\n",
    "import torch\n",
    "metric_train_rscore = SpearmanCorrCoef().to(\"cpu\")\n",
    "metric_train_rscore.reset()"
   ]
  },
  {
   "cell_type": "code",
   "execution_count": 7,
   "metadata": {},
   "outputs": [],
   "source": [
    "prediction = results_val[\"prediction\"].str.strip(\"[]\").astype(float).to_list()\n",
    "ground_truth = results_val[\"ground_truth\"].str.strip(\"[]\").astype(float).to_list()"
   ]
  },
  {
   "cell_type": "code",
   "execution_count": 8,
   "metadata": {},
   "outputs": [
    {
     "data": {
      "text/plain": [
       "tensor(0.7718)"
      ]
     },
     "execution_count": 8,
     "metadata": {},
     "output_type": "execute_result"
    }
   ],
   "source": [
    "metric_train_rscore(torch.tensor(prediction), torch.tensor(ground_truth))"
   ]
  },
  {
   "cell_type": "code",
   "execution_count": 9,
   "metadata": {},
   "outputs": [
    {
     "name": "stdout",
     "output_type": "stream",
     "text": [
      "Mean R Score: 0.7718161715097842\n"
     ]
    }
   ],
   "source": [
    "r_value_S, _ = spearmanr(prediction, ground_truth)\n",
    "print(f\"Mean R Score: {r_value_S}\")"
   ]
  },
  {
   "cell_type": "code",
   "execution_count": 10,
   "metadata": {},
   "outputs": [
    {
     "name": "stdout",
     "output_type": "stream",
     "text": [
      "Mean R Score: 0.39321731274370103\n"
     ]
    }
   ],
   "source": [
    "# Overall R-Score\n",
    "r_value_SS, _ = spearmanr(results_val[\"prediction\"], results_val[\"ground_truth\"])\n",
    "print(f\"Mean R Score: {r_value_SS}\")"
   ]
  },
  {
   "cell_type": "code",
   "execution_count": 24,
   "metadata": {},
   "outputs": [
    {
     "data": {
      "text/html": [
       "<div>\n",
       "<style scoped>\n",
       "    .dataframe tbody tr th:only-of-type {\n",
       "        vertical-align: middle;\n",
       "    }\n",
       "\n",
       "    .dataframe tbody tr th {\n",
       "        vertical-align: top;\n",
       "    }\n",
       "\n",
       "    .dataframe thead th {\n",
       "        text-align: right;\n",
       "    }\n",
       "</style>\n",
       "<table border=\"1\" class=\"dataframe\">\n",
       "  <thead>\n",
       "    <tr style=\"text-align: right;\">\n",
       "      <th></th>\n",
       "      <th>ground_truth</th>\n",
       "      <th>prediction</th>\n",
       "      <th>cells</th>\n",
       "      <th>drugs</th>\n",
       "    </tr>\n",
       "  </thead>\n",
       "  <tbody>\n",
       "    <tr>\n",
       "      <th>0</th>\n",
       "      <td>[-0.14991311728954315]</td>\n",
       "      <td>[-0.12373024225234985]</td>\n",
       "      <td>ACH-000013</td>\n",
       "      <td>1-NAPHTHYL-PP1</td>\n",
       "    </tr>\n",
       "    <tr>\n",
       "      <th>1</th>\n",
       "      <td>[0.429168701171875]</td>\n",
       "      <td>[-0.08158686757087708]</td>\n",
       "      <td>ACH-000974</td>\n",
       "      <td>CP-724714</td>\n",
       "    </tr>\n",
       "    <tr>\n",
       "      <th>2</th>\n",
       "      <td>[-0.3943784832954407]</td>\n",
       "      <td>[-0.25059542059898376]</td>\n",
       "      <td>ACH-000915</td>\n",
       "      <td>OBATOCLAX</td>\n",
       "    </tr>\n",
       "    <tr>\n",
       "      <th>3</th>\n",
       "      <td>[0.2287609577178955]</td>\n",
       "      <td>[0.12117030471563339]</td>\n",
       "      <td>ACH-000312</td>\n",
       "      <td>RUCINOL</td>\n",
       "    </tr>\n",
       "    <tr>\n",
       "      <th>4</th>\n",
       "      <td>[0.32743167877197266]</td>\n",
       "      <td>[0.005660128779709339]</td>\n",
       "      <td>ACH-000351</td>\n",
       "      <td>VISMODEGIB</td>\n",
       "    </tr>\n",
       "  </tbody>\n",
       "</table>\n",
       "</div>"
      ],
      "text/plain": [
       "             ground_truth              prediction       cells           drugs\n",
       "0  [-0.14991311728954315]  [-0.12373024225234985]  ACH-000013  1-NAPHTHYL-PP1\n",
       "1     [0.429168701171875]  [-0.08158686757087708]  ACH-000974       CP-724714\n",
       "2   [-0.3943784832954407]  [-0.25059542059898376]  ACH-000915       OBATOCLAX\n",
       "3    [0.2287609577178955]   [0.12117030471563339]  ACH-000312         RUCINOL\n",
       "4   [0.32743167877197266]  [0.005660128779709339]  ACH-000351      VISMODEGIB"
      ]
     },
     "execution_count": 24,
     "metadata": {},
     "output_type": "execute_result"
    }
   ],
   "source": [
    "results_val.head()"
   ]
  },
  {
   "cell_type": "code",
   "execution_count": 16,
   "metadata": {},
   "outputs": [
    {
     "name": "stdout",
     "output_type": "stream",
     "text": [
      "Spearman correlation coefficient for DataFrame with variables within brackets: 0.6\n",
      "Spearman correlation coefficient for DataFrame with variables not within brackets: 0.6\n"
     ]
    }
   ],
   "source": [
    "import pandas as pd\n",
    "from scipy.stats import spearmanr\n",
    "\n",
    "# Create DataFrame with variables within brackets\n",
    "data_brackets = {\n",
    "    \"ground_truth\": [[-0.1499], [0.4291], [-0.3944], [0.2288], [0.3274]],\n",
    "    \"prediction\": [[-0.1237], [-0.0816], [-0.2506], [0.1212], [0.0057]],\n",
    "    \"cells\": [\"ACH-000013\", \"ACH-000974\", \"ACH-000915\", \"ACH-000312\", \"ACH-000351\"],\n",
    "    \"drugs\": [\"1-NAPHTHYL-PP1\", \"CP-724714\", \"OBATOCLAX\", \"RUCINOL\", \"VISM\"]\n",
    "}\n",
    "\n",
    "df_brackets = pd.DataFrame(data_brackets)\n",
    "\n",
    "# Convert lists to single values\n",
    "df_brackets[\"ground_truth\"] = df_brackets[\"ground_truth\"].apply(lambda x: x[0])\n",
    "df_brackets[\"prediction\"] = df_brackets[\"prediction\"].apply(lambda x: x[0])\n",
    "\n",
    "# Calculate Spearman correlation coefficient for DataFrame with variables within brackets\n",
    "spearman_brackets, _ = spearmanr(df_brackets[\"ground_truth\"], df_brackets[\"prediction\"])\n",
    "\n",
    "# Create DataFrame with variables not within brackets\n",
    "data_no_brackets = {\n",
    "    \"ground_truth\": [-0.1499, 0.4291, -0.3944, 0.2288, 0.3274],\n",
    "    \"prediction\": [-0.1237, -0.0816, -0.2506, 0.1212, 0.0057],\n",
    "    \"cells\": [\"ACH-000013\", \"ACH-000974\", \"ACH-000915\", \"ACH-000312\", \"ACH-000351\"],\n",
    "    \"drugs\": [\"1-NAPHTHYL-PP1\", \"CP-724714\", \"OBATOCLAX\", \"RUCINOL\", \"VISM\"]\n",
    "}\n",
    "\n",
    "df_no_brackets = pd.DataFrame(data_no_brackets)\n",
    "\n",
    "# Calculate Spearman correlation coefficient for DataFrame with variables not within brackets\n",
    "spearman_no_brackets, _ = spearmanr(df_no_brackets[\"ground_truth\"], df_no_brackets[\"prediction\"])\n",
    "\n",
    "print(\"Spearman correlation coefficient for DataFrame with variables within brackets:\", spearman_brackets)\n",
    "print(\"Spearman correlation coefficient for DataFrame with variables not within brackets:\", spearman_no_brackets)\n"
   ]
  },
  {
   "cell_type": "code",
   "execution_count": null,
   "metadata": {},
   "outputs": [],
   "source": [
    "# Per Drug R score\n",
    "entire_dataset_rscores = []  # Initialize a DataFrame to store the R scores for the entire dataset\n",
    "\n",
    "r_scores = []  # Initialize a list to store R scores for the current fold\n",
    "for group_name, group_data in results_val.groupby(\"drugs\"):\n",
    "    r_value, _ = spearmanr(group_data[\"prediction\"], group_data[\"ground_truth\"])\n",
    "    r_scores.append({\"Group\": group_name, \"Mean Drug R Score\": r_value})\n",
    "entire_dataset_rscores.extend(r_scores)\n",
    "fold_mean_r_score = pd.DataFrame(r_scores)[\"Mean Drug R Score\"].mean()\n",
    "print(f\"Mean R Score per drug: {fold_mean_r_score}\")\n",
    "\n",
    "entire_dataset_rscores = pd.DataFrame(entire_dataset_rscores).groupby(\"Group\").mean().sort_values(\"Mean Drug R Score\"\n",
    "                                                                                                , ascending=False)\n",
    "print(\" \\n Overall per drug mean R Score:\", entire_dataset_rscores[\"Mean Drug R Score\"].mean())"
   ]
  },
  {
   "cell_type": "markdown",
   "metadata": {},
   "source": [
    "# Evaluation with Model Loaded weights"
   ]
  },
  {
   "cell_type": "code",
   "execution_count": null,
   "metadata": {},
   "outputs": [],
   "source": [
    "# Checkpoint path\n",
    "# Always safe specific config with a run! Important especially if seed is changed because then we have other splits!\n",
    "\n",
    "ckpt_path = \"/Users/niklaskiermeyer/Desktop/Codespace/DruxAI/results/training/ckpt_sgd_baseline.pt\"\n",
    "\n",
    "checkpoint = torch.load(ckpt_path)\n",
    "cfg = checkpoint[\"config\"]"
   ]
  }
 ],
 "metadata": {
  "kernelspec": {
   "display_name": "DruxAI",
   "language": "python",
   "name": "python3"
  },
  "language_info": {
   "codemirror_mode": {
    "name": "ipython",
    "version": 3
   },
   "file_extension": ".py",
   "mimetype": "text/x-python",
   "name": "python",
   "nbconvert_exporter": "python",
   "pygments_lexer": "ipython3",
   "version": "3.9.18"
  }
 },
 "nbformat": 4,
 "nbformat_minor": 2
}

{
 "cells": [
  {
   "cell_type": "code",
   "execution_count": 3,
   "metadata": {},
   "outputs": [
    {
     "name": "stdout",
     "output_type": "stream",
     "text": [
      "The autoreload extension is already loaded. To reload it, use:\n",
      "  %reload_ext autoreload\n"
     ]
    }
   ],
   "source": [
    "%load_ext autoreload\n",
    "%autoreload 2"
   ]
  },
  {
   "cell_type": "code",
   "execution_count": 4,
   "metadata": {},
   "outputs": [
    {
     "data": {
      "text/html": [
       "Finishing last run (ID:fna5fj6g) before initializing another..."
      ],
      "text/plain": [
       "<IPython.core.display.HTML object>"
      ]
     },
     "metadata": {},
     "output_type": "display_data"
    },
    {
     "name": "stderr",
     "output_type": "stream",
     "text": [
      "wandb: WARNING Source type is set to 'repo' but some required information is missing from the environment. A job will not be created from this run. See https://docs.wandb.ai/guides/launch/create-job\n"
     ]
    },
    {
     "data": {
      "application/vnd.jupyter.widget-view+json": {
       "model_id": "062772acead7412aba902f6546a1a37b",
       "version_major": 2,
       "version_minor": 0
      },
      "text/plain": [
       "VBox(children=(Label(value='0.001 MB of 0.001 MB uploaded\\r'), FloatProgress(value=1.0, max=1.0)))"
      ]
     },
     "metadata": {},
     "output_type": "display_data"
    },
    {
     "data": {
      "text/html": [
       "<style>\n",
       "    table.wandb td:nth-child(1) { padding: 0 10px; text-align: left ; width: auto;} td:nth-child(2) {text-align: left ; width: 100%}\n",
       "    .wandb-row { display: flex; flex-direction: row; flex-wrap: wrap; justify-content: flex-start; width: 100% }\n",
       "    .wandb-col { display: flex; flex-direction: column; flex-basis: 100%; flex: 1; padding: 10px; }\n",
       "    </style>\n",
       "<div class=\"wandb-row\"><div class=\"wandb-col\"><h3>Run history:</h3><br/><table class=\"wandb\"><tr><td>iter</td><td>▁▂▃▃▄▅▆▆▇█</td></tr><tr><td>lr_opt1</td><td>▁▂▃▃▄▅▆▆▇█</td></tr><tr><td>lr_opt2</td><td>▁▂▃▃▄▅▆▆▇█</td></tr><tr><td>r2_val</td><td>▆▆▇▅▆▅▁▅▄█</td></tr><tr><td>train loss</td><td>▁▁▁▁▁▂▂▃▄█</td></tr><tr><td>val_loss</td><td>▁▁▁▁▂▂▃▆██</td></tr></table><br/></div><div class=\"wandb-col\"><h3>Run summary:</h3><br/><table class=\"wandb\"><tr><td>iter</td><td>1000</td></tr><tr><td>lr_opt1</td><td>0.05</td></tr><tr><td>lr_opt2</td><td>0.05</td></tr><tr><td>r2_val</td><td>0.06848</td></tr><tr><td>train loss</td><td>52692.40745</td></tr><tr><td>val_loss</td><td>38410.60938</td></tr></table><br/></div></div>"
      ],
      "text/plain": [
       "<IPython.core.display.HTML object>"
      ]
     },
     "metadata": {},
     "output_type": "display_data"
    },
    {
     "data": {
      "text/html": [
       " View run <strong style=\"color:#cdcd00\">druxai-run-1</strong> at: <a href='https://wandb.ai/niklaskiermeyer/druxai/runs/fna5fj6g' target=\"_blank\">https://wandb.ai/niklaskiermeyer/druxai/runs/fna5fj6g</a><br/>Synced 6 W&B file(s), 0 media file(s), 0 artifact file(s) and 0 other file(s)"
      ],
      "text/plain": [
       "<IPython.core.display.HTML object>"
      ]
     },
     "metadata": {},
     "output_type": "display_data"
    },
    {
     "data": {
      "text/html": [
       "Find logs at: <code>./wandb/run-20240322_201224-fna5fj6g/logs</code>"
      ],
      "text/plain": [
       "<IPython.core.display.HTML object>"
      ]
     },
     "metadata": {},
     "output_type": "display_data"
    },
    {
     "data": {
      "text/html": [
       "Successfully finished last run (ID:fna5fj6g). Initializing new run:<br/>"
      ],
      "text/plain": [
       "<IPython.core.display.HTML object>"
      ]
     },
     "metadata": {},
     "output_type": "display_data"
    },
    {
     "data": {
      "application/vnd.jupyter.widget-view+json": {
       "model_id": "af6f4defedcf4606bfd54ab95e7ba396",
       "version_major": 2,
       "version_minor": 0
      },
      "text/plain": [
       "VBox(children=(Label(value='Waiting for wandb.init()...\\r'), FloatProgress(value=0.011140176388888296, max=1.0…"
      ]
     },
     "metadata": {},
     "output_type": "display_data"
    },
    {
     "data": {
      "text/html": [
       "Tracking run with wandb version 0.16.4"
      ],
      "text/plain": [
       "<IPython.core.display.HTML object>"
      ]
     },
     "metadata": {},
     "output_type": "display_data"
    },
    {
     "data": {
      "text/html": [
       "Run data is saved locally in <code>/Users/niklaskiermeyer/Desktop/codespace/DruxAI/notebooks/evaluation/wandb/run-20240322_204156-yqe788uq</code>"
      ],
      "text/plain": [
       "<IPython.core.display.HTML object>"
      ]
     },
     "metadata": {},
     "output_type": "display_data"
    },
    {
     "data": {
      "text/html": [
       "Syncing run <strong><a href='https://wandb.ai/niklaskiermeyer/druxai/runs/yqe788uq' target=\"_blank\">druxai-run-1</a></strong> to <a href='https://wandb.ai/niklaskiermeyer/druxai' target=\"_blank\">Weights & Biases</a> (<a href='https://wandb.me/run' target=\"_blank\">docs</a>)<br/>"
      ],
      "text/plain": [
       "<IPython.core.display.HTML object>"
      ]
     },
     "metadata": {},
     "output_type": "display_data"
    },
    {
     "data": {
      "text/html": [
       " View project at <a href='https://wandb.ai/niklaskiermeyer/druxai' target=\"_blank\">https://wandb.ai/niklaskiermeyer/druxai</a>"
      ],
      "text/plain": [
       "<IPython.core.display.HTML object>"
      ]
     },
     "metadata": {},
     "output_type": "display_data"
    },
    {
     "data": {
      "text/html": [
       " View run at <a href='https://wandb.ai/niklaskiermeyer/druxai/runs/yqe788uq' target=\"_blank\">https://wandb.ai/niklaskiermeyer/druxai/runs/yqe788uq</a>"
      ],
      "text/plain": [
       "<IPython.core.display.HTML object>"
      ]
     },
     "metadata": {},
     "output_type": "display_data"
    },
    {
     "name": "stderr",
     "output_type": "stream",
     "text": [
      "  0%|          | 0/3093 [00:00<?, ?it/s]wandb: Currently logged in as: niklaskiermeyer. Use `wandb login --relogin` to force relogin\n",
      "wandb: Tracking run with wandb version 0.16.4\n",
      "wandb: Run data is saved locally in /Users/niklaskiermeyer/Desktop/codespace/DruxAI/notebooks/evaluation/wandb/run-20240322_204239-ihzzwsr6\n",
      "wandb: Run `wandb offline` to turn off syncing.\n",
      "wandb: Syncing run druxai-run-1\n",
      "wandb: ⭐️ View project at https://wandb.ai/niklaskiermeyer/druxai\n",
      "wandb: 🚀 View run at https://wandb.ai/niklaskiermeyer/druxai/runs/ihzzwsr6\n",
      "wandb: Currently logged in as: niklaskiermeyer. Use `wandb login --relogin` to force relogin\n",
      "wandb: Tracking run with wandb version 0.16.4\n",
      "wandb: Run data is saved locally in /Users/niklaskiermeyer/Desktop/codespace/DruxAI/notebooks/evaluation/wandb/run-20240322_204246-j5p5y0rz\n",
      "wandb: Run `wandb offline` to turn off syncing.\n",
      "wandb: Syncing run druxai-run-1\n",
      "wandb: ⭐️ View project at https://wandb.ai/niklaskiermeyer/druxai\n",
      "wandb: 🚀 View run at https://wandb.ai/niklaskiermeyer/druxai/runs/j5p5y0rz\n",
      "wandb: Currently logged in as: niklaskiermeyer. Use `wandb login --relogin` to force relogin\n",
      "wandb: Tracking run with wandb version 0.16.4\n",
      "wandb: Run data is saved locally in /Users/niklaskiermeyer/Desktop/codespace/DruxAI/notebooks/evaluation/wandb/run-20240322_204254-zuxqlird\n",
      "wandb: Run `wandb offline` to turn off syncing.\n",
      "wandb: Syncing run druxai-run-1\n",
      "wandb: ⭐️ View project at https://wandb.ai/niklaskiermeyer/druxai\n",
      "wandb: 🚀 View run at https://wandb.ai/niklaskiermeyer/druxai/runs/zuxqlird\n",
      "wandb: Currently logged in as: niklaskiermeyer. Use `wandb login --relogin` to force relogin\n",
      "wandb: Tracking run with wandb version 0.16.4\n",
      "wandb: Run data is saved locally in /Users/niklaskiermeyer/Desktop/codespace/DruxAI/notebooks/evaluation/wandb/run-20240322_204301-t0ethu5d\n",
      "wandb: Run `wandb offline` to turn off syncing.\n",
      "wandb: Syncing run druxai-run-1\n",
      "wandb: ⭐️ View project at https://wandb.ai/niklaskiermeyer/druxai\n",
      "wandb: 🚀 View run at https://wandb.ai/niklaskiermeyer/druxai/runs/t0ethu5d\n",
      "wandb: Currently logged in as: niklaskiermeyer. Use `wandb login --relogin` to force relogin\n",
      "wandb: Tracking run with wandb version 0.16.4\n",
      "wandb: Run data is saved locally in /Users/niklaskiermeyer/Desktop/codespace/DruxAI/notebooks/evaluation/wandb/run-20240322_204310-a0yc3dbt\n",
      "wandb: Run `wandb offline` to turn off syncing.\n",
      "wandb: Syncing run druxai-run-1\n",
      "wandb: ⭐️ View project at https://wandb.ai/niklaskiermeyer/druxai\n",
      "wandb: 🚀 View run at https://wandb.ai/niklaskiermeyer/druxai/runs/a0yc3dbt\n",
      "wandb: Currently logged in as: niklaskiermeyer. Use `wandb login --relogin` to force relogin\n",
      "wandb: Tracking run with wandb version 0.16.4\n",
      "wandb: Run data is saved locally in /Users/niklaskiermeyer/Desktop/codespace/DruxAI/notebooks/evaluation/wandb/run-20240322_204318-2inn6lww\n",
      "wandb: Run `wandb offline` to turn off syncing.\n",
      "wandb: Syncing run druxai-run-1\n",
      "wandb: ⭐️ View project at https://wandb.ai/niklaskiermeyer/druxai\n",
      "wandb: 🚀 View run at https://wandb.ai/niklaskiermeyer/druxai/runs/2inn6lww\n",
      "  3%|▎         | 100/3093 [01:23<14:21,  3.47it/s] wandb: Currently logged in as: niklaskiermeyer. Use `wandb login --relogin` to force relogin\n",
      "wandb: Tracking run with wandb version 0.16.4\n",
      "wandb: Run data is saved locally in /Users/niklaskiermeyer/Desktop/codespace/DruxAI/notebooks/evaluation/wandb/run-20240322_204406-p5s35pzy\n",
      "wandb: Run `wandb offline` to turn off syncing.\n",
      "wandb: Syncing run druxai-run-1\n",
      "wandb: ⭐️ View project at https://wandb.ai/niklaskiermeyer/druxai\n",
      "wandb: 🚀 View run at https://wandb.ai/niklaskiermeyer/druxai/runs/p5s35pzy\n",
      "wandb: Currently logged in as: niklaskiermeyer. Use `wandb login --relogin` to force relogin\n",
      "wandb: Tracking run with wandb version 0.16.4\n",
      "wandb: Run data is saved locally in /Users/niklaskiermeyer/Desktop/codespace/DruxAI/notebooks/evaluation/wandb/run-20240322_204416-nbfcyg4o\n",
      "wandb: Run `wandb offline` to turn off syncing.\n",
      "wandb: Syncing run druxai-run-1\n",
      "wandb: ⭐️ View project at https://wandb.ai/niklaskiermeyer/druxai\n",
      "wandb: 🚀 View run at https://wandb.ai/niklaskiermeyer/druxai/runs/nbfcyg4o\n",
      "wandb: Currently logged in as: niklaskiermeyer. Use `wandb login --relogin` to force relogin\n",
      "wandb: Tracking run with wandb version 0.16.4\n",
      "wandb: Run data is saved locally in /Users/niklaskiermeyer/Desktop/codespace/DruxAI/notebooks/evaluation/wandb/run-20240322_204424-cunlhqvy\n",
      "wandb: Run `wandb offline` to turn off syncing.\n",
      "wandb: Syncing run druxai-run-1\n",
      "wandb: ⭐️ View project at https://wandb.ai/niklaskiermeyer/druxai\n",
      "wandb: 🚀 View run at https://wandb.ai/niklaskiermeyer/druxai/runs/cunlhqvy\n",
      "wandb: Currently logged in as: niklaskiermeyer. Use `wandb login --relogin` to force relogin\n",
      "wandb: Tracking run with wandb version 0.16.4\n",
      "wandb: Run data is saved locally in /Users/niklaskiermeyer/Desktop/codespace/DruxAI/notebooks/evaluation/wandb/run-20240322_204432-gxcl09yu\n",
      "wandb: Run `wandb offline` to turn off syncing.\n",
      "wandb: Syncing run druxai-run-1\n",
      "wandb: ⭐️ View project at https://wandb.ai/niklaskiermeyer/druxai\n",
      "wandb: 🚀 View run at https://wandb.ai/niklaskiermeyer/druxai/runs/gxcl09yu\n",
      "wandb: Currently logged in as: niklaskiermeyer. Use `wandb login --relogin` to force relogin\n",
      "wandb: Tracking run with wandb version 0.16.4\n",
      "wandb: Run data is saved locally in /Users/niklaskiermeyer/Desktop/codespace/DruxAI/notebooks/evaluation/wandb/run-20240322_204440-80tk01mx\n",
      "wandb: Run `wandb offline` to turn off syncing.\n",
      "wandb: Syncing run druxai-run-1\n",
      "wandb: ⭐️ View project at https://wandb.ai/niklaskiermeyer/druxai\n",
      "wandb: 🚀 View run at https://wandb.ai/niklaskiermeyer/druxai/runs/80tk01mx\n",
      "wandb: Currently logged in as: niklaskiermeyer. Use `wandb login --relogin` to force relogin\n",
      "wandb: Tracking run with wandb version 0.16.4\n",
      "wandb: Run data is saved locally in /Users/niklaskiermeyer/Desktop/codespace/DruxAI/notebooks/evaluation/wandb/run-20240322_204447-au9gf12u\n",
      "wandb: Run `wandb offline` to turn off syncing.\n",
      "wandb: Syncing run druxai-run-1\n",
      "wandb: ⭐️ View project at https://wandb.ai/niklaskiermeyer/druxai\n",
      "wandb: 🚀 View run at https://wandb.ai/niklaskiermeyer/druxai/runs/au9gf12u\n",
      "627it [00:36, 17.31it/s]\n",
      "  6%|▋         | 200/3093 [03:33<12:43,  3.79it/s]   wandb: Currently logged in as: niklaskiermeyer. Use `wandb login --relogin` to force relogin\n",
      "wandb: Tracking run with wandb version 0.16.4\n",
      "wandb: Run data is saved locally in /Users/niklaskiermeyer/Desktop/codespace/DruxAI/notebooks/evaluation/wandb/run-20240322_204615-3ioj70a4\n",
      "wandb: Run `wandb offline` to turn off syncing.\n",
      "wandb: Syncing run druxai-run-1\n",
      "wandb: ⭐️ View project at https://wandb.ai/niklaskiermeyer/druxai\n",
      "wandb: 🚀 View run at https://wandb.ai/niklaskiermeyer/druxai/runs/3ioj70a4\n",
      "wandb: Currently logged in as: niklaskiermeyer. Use `wandb login --relogin` to force relogin\n",
      "wandb: Tracking run with wandb version 0.16.4\n",
      "wandb: Run data is saved locally in /Users/niklaskiermeyer/Desktop/codespace/DruxAI/notebooks/evaluation/wandb/run-20240322_204629-soxwzsv1\n",
      "wandb: Run `wandb offline` to turn off syncing.\n",
      "wandb: Syncing run druxai-run-1\n",
      "wandb: ⭐️ View project at https://wandb.ai/niklaskiermeyer/druxai\n",
      "wandb: 🚀 View run at https://wandb.ai/niklaskiermeyer/druxai/runs/soxwzsv1\n",
      "wandb: Currently logged in as: niklaskiermeyer. Use `wandb login --relogin` to force relogin\n",
      "wandb: Tracking run with wandb version 0.16.4\n",
      "wandb: Run data is saved locally in /Users/niklaskiermeyer/Desktop/codespace/DruxAI/notebooks/evaluation/wandb/run-20240322_204637-e3qjpws4\n",
      "wandb: Run `wandb offline` to turn off syncing.\n",
      "wandb: Syncing run druxai-run-1\n",
      "wandb: ⭐️ View project at https://wandb.ai/niklaskiermeyer/druxai\n",
      "wandb: 🚀 View run at https://wandb.ai/niklaskiermeyer/druxai/runs/e3qjpws4\n",
      "wandb: Currently logged in as: niklaskiermeyer. Use `wandb login --relogin` to force relogin\n",
      "wandb: Tracking run with wandb version 0.16.4\n",
      "wandb: Run data is saved locally in /Users/niklaskiermeyer/Desktop/codespace/DruxAI/notebooks/evaluation/wandb/run-20240322_204650-ipak23ky\n",
      "wandb: Run `wandb offline` to turn off syncing.\n",
      "wandb: Syncing run druxai-run-1\n",
      "wandb: ⭐️ View project at https://wandb.ai/niklaskiermeyer/druxai\n",
      "wandb: 🚀 View run at https://wandb.ai/niklaskiermeyer/druxai/runs/ipak23ky\n",
      "wandb: Currently logged in as: niklaskiermeyer. Use `wandb login --relogin` to force relogin\n",
      "wandb: Tracking run with wandb version 0.16.4\n",
      "wandb: Run data is saved locally in /Users/niklaskiermeyer/Desktop/codespace/DruxAI/notebooks/evaluation/wandb/run-20240322_204659-6wl9v7x5\n",
      "wandb: Run `wandb offline` to turn off syncing.\n",
      "wandb: Syncing run druxai-run-1\n",
      "wandb: ⭐️ View project at https://wandb.ai/niklaskiermeyer/druxai\n",
      "wandb: 🚀 View run at https://wandb.ai/niklaskiermeyer/druxai/runs/6wl9v7x5\n",
      "wandb: Currently logged in as: niklaskiermeyer. Use `wandb login --relogin` to force relogin\n",
      "wandb: Tracking run with wandb version 0.16.4\n",
      "wandb: Run data is saved locally in /Users/niklaskiermeyer/Desktop/codespace/DruxAI/notebooks/evaluation/wandb/run-20240322_204708-g2pzrocl\n",
      "wandb: Run `wandb offline` to turn off syncing.\n",
      "wandb: Syncing run druxai-run-1\n",
      "wandb: ⭐️ View project at https://wandb.ai/niklaskiermeyer/druxai\n",
      "wandb: 🚀 View run at https://wandb.ai/niklaskiermeyer/druxai/runs/g2pzrocl\n",
      "627it [00:39, 15.78it/s]\n",
      " 10%|▉         | 300/3093 [05:58<10:58,  4.24it/s]   wandb: Currently logged in as: niklaskiermeyer. Use `wandb login --relogin` to force relogin\n",
      "wandb: Tracking run with wandb version 0.16.4\n",
      "wandb: Run data is saved locally in /Users/niklaskiermeyer/Desktop/codespace/DruxAI/notebooks/evaluation/wandb/run-20240322_204839-k6iddsgo\n",
      "wandb: Run `wandb offline` to turn off syncing.\n",
      "wandb: Syncing run druxai-run-1\n",
      "wandb: ⭐️ View project at https://wandb.ai/niklaskiermeyer/druxai\n",
      "wandb: 🚀 View run at https://wandb.ai/niklaskiermeyer/druxai/runs/k6iddsgo\n",
      "wandb: Currently logged in as: niklaskiermeyer. Use `wandb login --relogin` to force relogin\n",
      "wandb: Tracking run with wandb version 0.16.4\n",
      "wandb: Run data is saved locally in /Users/niklaskiermeyer/Desktop/codespace/DruxAI/notebooks/evaluation/wandb/run-20240322_204846-gf6rjs48\n",
      "wandb: Run `wandb offline` to turn off syncing.\n",
      "wandb: Syncing run druxai-run-1\n",
      "wandb: ⭐️ View project at https://wandb.ai/niklaskiermeyer/druxai\n",
      "wandb: 🚀 View run at https://wandb.ai/niklaskiermeyer/druxai/runs/gf6rjs48\n",
      "wandb: Currently logged in as: niklaskiermeyer. Use `wandb login --relogin` to force relogin\n",
      "wandb: Tracking run with wandb version 0.16.4\n",
      "wandb: Run data is saved locally in /Users/niklaskiermeyer/Desktop/codespace/DruxAI/notebooks/evaluation/wandb/run-20240322_204852-fh1453ee\n",
      "wandb: Run `wandb offline` to turn off syncing.\n",
      "wandb: Syncing run druxai-run-1\n",
      "wandb: ⭐️ View project at https://wandb.ai/niklaskiermeyer/druxai\n",
      "wandb: 🚀 View run at https://wandb.ai/niklaskiermeyer/druxai/runs/fh1453ee\n",
      "wandb: Currently logged in as: niklaskiermeyer. Use `wandb login --relogin` to force relogin\n",
      "wandb: Tracking run with wandb version 0.16.4\n",
      "wandb: Run data is saved locally in /Users/niklaskiermeyer/Desktop/codespace/DruxAI/notebooks/evaluation/wandb/run-20240322_204900-94toxnmj\n",
      "wandb: Run `wandb offline` to turn off syncing.\n",
      "wandb: Syncing run druxai-run-1\n",
      "wandb: ⭐️ View project at https://wandb.ai/niklaskiermeyer/druxai\n",
      "wandb: 🚀 View run at https://wandb.ai/niklaskiermeyer/druxai/runs/94toxnmj\n",
      "wandb: Currently logged in as: niklaskiermeyer. Use `wandb login --relogin` to force relogin\n",
      "wandb: Tracking run with wandb version 0.16.4\n",
      "wandb: Run data is saved locally in /Users/niklaskiermeyer/Desktop/codespace/DruxAI/notebooks/evaluation/wandb/run-20240322_204906-anzl6owv\n",
      "wandb: Run `wandb offline` to turn off syncing.\n",
      "wandb: Syncing run druxai-run-1\n",
      "wandb: ⭐️ View project at https://wandb.ai/niklaskiermeyer/druxai\n",
      "wandb: 🚀 View run at https://wandb.ai/niklaskiermeyer/druxai/runs/anzl6owv\n",
      "wandb: Currently logged in as: niklaskiermeyer. Use `wandb login --relogin` to force relogin\n",
      "wandb: Tracking run with wandb version 0.16.4\n",
      "wandb: Run data is saved locally in /Users/niklaskiermeyer/Desktop/codespace/DruxAI/notebooks/evaluation/wandb/run-20240322_204913-yt3nul84\n",
      "wandb: Run `wandb offline` to turn off syncing.\n",
      "wandb: Syncing run druxai-run-1\n",
      "wandb: ⭐️ View project at https://wandb.ai/niklaskiermeyer/druxai\n",
      "wandb: 🚀 View run at https://wandb.ai/niklaskiermeyer/druxai/runs/yt3nul84\n",
      "627it [00:31, 19.79it/s]\n",
      " 13%|█▎        | 400/3093 [07:39<11:45,  3.81it/s]   wandb: Currently logged in as: niklaskiermeyer. Use `wandb login --relogin` to force relogin\n",
      "wandb: Tracking run with wandb version 0.16.4\n",
      "wandb: Run data is saved locally in /Users/niklaskiermeyer/Desktop/codespace/DruxAI/notebooks/evaluation/wandb/run-20240322_205020-qesmn4qp\n",
      "wandb: Run `wandb offline` to turn off syncing.\n",
      "wandb: Syncing run druxai-run-1\n",
      "wandb: ⭐️ View project at https://wandb.ai/niklaskiermeyer/druxai\n",
      "wandb: 🚀 View run at https://wandb.ai/niklaskiermeyer/druxai/runs/qesmn4qp\n",
      "wandb: Currently logged in as: niklaskiermeyer. Use `wandb login --relogin` to force relogin\n",
      "wandb: Tracking run with wandb version 0.16.4\n",
      "wandb: Run data is saved locally in /Users/niklaskiermeyer/Desktop/codespace/DruxAI/notebooks/evaluation/wandb/run-20240322_205027-8zisy1s0\n",
      "wandb: Run `wandb offline` to turn off syncing.\n",
      "wandb: Syncing run druxai-run-1\n",
      "wandb: ⭐️ View project at https://wandb.ai/niklaskiermeyer/druxai\n",
      "wandb: 🚀 View run at https://wandb.ai/niklaskiermeyer/druxai/runs/8zisy1s0\n",
      "wandb: Currently logged in as: niklaskiermeyer. Use `wandb login --relogin` to force relogin\n",
      "wandb: Tracking run with wandb version 0.16.4\n",
      "wandb: Run data is saved locally in /Users/niklaskiermeyer/Desktop/codespace/DruxAI/notebooks/evaluation/wandb/run-20240322_205034-jqreqtq5\n",
      "wandb: Run `wandb offline` to turn off syncing.\n",
      "wandb: Syncing run druxai-run-1\n",
      "wandb: ⭐️ View project at https://wandb.ai/niklaskiermeyer/druxai\n",
      "wandb: 🚀 View run at https://wandb.ai/niklaskiermeyer/druxai/runs/jqreqtq5\n",
      "wandb: Currently logged in as: niklaskiermeyer. Use `wandb login --relogin` to force relogin\n",
      "wandb: Tracking run with wandb version 0.16.4\n",
      "wandb: Run data is saved locally in /Users/niklaskiermeyer/Desktop/codespace/DruxAI/notebooks/evaluation/wandb/run-20240322_205042-t483575k\n",
      "wandb: Run `wandb offline` to turn off syncing.\n",
      "wandb: Syncing run druxai-run-1\n",
      "wandb: ⭐️ View project at https://wandb.ai/niklaskiermeyer/druxai\n",
      "wandb: 🚀 View run at https://wandb.ai/niklaskiermeyer/druxai/runs/t483575k\n",
      "wandb: Currently logged in as: niklaskiermeyer. Use `wandb login --relogin` to force relogin\n",
      "wandb: Tracking run with wandb version 0.16.4\n",
      "wandb: Run data is saved locally in /Users/niklaskiermeyer/Desktop/codespace/DruxAI/notebooks/evaluation/wandb/run-20240322_205053-d8zudel6\n",
      "wandb: Run `wandb offline` to turn off syncing.\n",
      "wandb: Syncing run druxai-run-1\n",
      "wandb: ⭐️ View project at https://wandb.ai/niklaskiermeyer/druxai\n",
      "wandb: 🚀 View run at https://wandb.ai/niklaskiermeyer/druxai/runs/d8zudel6\n",
      "wandb: Currently logged in as: niklaskiermeyer. Use `wandb login --relogin` to force relogin\n",
      "wandb: Tracking run with wandb version 0.16.4\n",
      "wandb: Run data is saved locally in /Users/niklaskiermeyer/Desktop/codespace/DruxAI/notebooks/evaluation/wandb/run-20240322_205103-98gj2083\n",
      "wandb: Run `wandb offline` to turn off syncing.\n",
      "wandb: Syncing run druxai-run-1\n",
      "wandb: ⭐️ View project at https://wandb.ai/niklaskiermeyer/druxai\n",
      "wandb: 🚀 View run at https://wandb.ai/niklaskiermeyer/druxai/runs/98gj2083\n",
      "627it [00:37, 16.61it/s]\n",
      " 16%|█▌        | 500/3093 [09:49<14:45,  2.93it/s]   wandb: Currently logged in as: niklaskiermeyer. Use `wandb login --relogin` to force relogin\n",
      "wandb: Tracking run with wandb version 0.16.4\n",
      "wandb: Run data is saved locally in /Users/niklaskiermeyer/Desktop/codespace/DruxAI/notebooks/evaluation/wandb/run-20240322_205231-x8gv03mb\n",
      "wandb: Run `wandb offline` to turn off syncing.\n",
      "wandb: Syncing run druxai-run-1\n",
      "wandb: ⭐️ View project at https://wandb.ai/niklaskiermeyer/druxai\n",
      "wandb: 🚀 View run at https://wandb.ai/niklaskiermeyer/druxai/runs/x8gv03mb\n",
      "wandb: Currently logged in as: niklaskiermeyer. Use `wandb login --relogin` to force relogin\n",
      "wandb: Tracking run with wandb version 0.16.4\n",
      "wandb: Run data is saved locally in /Users/niklaskiermeyer/Desktop/codespace/DruxAI/notebooks/evaluation/wandb/run-20240322_205238-hrsvu8c8\n",
      "wandb: Run `wandb offline` to turn off syncing.\n",
      "wandb: Syncing run druxai-run-1\n",
      "wandb: ⭐️ View project at https://wandb.ai/niklaskiermeyer/druxai\n",
      "wandb: 🚀 View run at https://wandb.ai/niklaskiermeyer/druxai/runs/hrsvu8c8\n",
      "wandb: Currently logged in as: niklaskiermeyer. Use `wandb login --relogin` to force relogin\n",
      "wandb: Tracking run with wandb version 0.16.4\n",
      "wandb: Run data is saved locally in /Users/niklaskiermeyer/Desktop/codespace/DruxAI/notebooks/evaluation/wandb/run-20240322_205245-1gynmer8\n",
      "wandb: Run `wandb offline` to turn off syncing.\n",
      "wandb: Syncing run druxai-run-1\n",
      "wandb: ⭐️ View project at https://wandb.ai/niklaskiermeyer/druxai\n",
      "wandb: 🚀 View run at https://wandb.ai/niklaskiermeyer/druxai/runs/1gynmer8\n",
      "wandb: Currently logged in as: niklaskiermeyer. Use `wandb login --relogin` to force relogin\n",
      "wandb: Tracking run with wandb version 0.16.4\n",
      "wandb: Run data is saved locally in /Users/niklaskiermeyer/Desktop/codespace/DruxAI/notebooks/evaluation/wandb/run-20240322_205254-k21wiptd\n",
      "wandb: Run `wandb offline` to turn off syncing.\n",
      "wandb: Syncing run druxai-run-1\n",
      "wandb: ⭐️ View project at https://wandb.ai/niklaskiermeyer/druxai\n",
      "wandb: 🚀 View run at https://wandb.ai/niklaskiermeyer/druxai/runs/k21wiptd\n",
      "wandb: Currently logged in as: niklaskiermeyer. Use `wandb login --relogin` to force relogin\n",
      "wandb: Tracking run with wandb version 0.16.4\n",
      "wandb: Run data is saved locally in /Users/niklaskiermeyer/Desktop/codespace/DruxAI/notebooks/evaluation/wandb/run-20240322_205303-rwfjlto5\n",
      "wandb: Run `wandb offline` to turn off syncing.\n",
      "wandb: Syncing run druxai-run-1\n",
      "wandb: ⭐️ View project at https://wandb.ai/niklaskiermeyer/druxai\n",
      "wandb: 🚀 View run at https://wandb.ai/niklaskiermeyer/druxai/runs/rwfjlto5\n",
      "wandb: Currently logged in as: niklaskiermeyer. Use `wandb login --relogin` to force relogin\n",
      "wandb: Tracking run with wandb version 0.16.4\n",
      "wandb: Run data is saved locally in /Users/niklaskiermeyer/Desktop/codespace/DruxAI/notebooks/evaluation/wandb/run-20240322_205310-w722fj2w\n",
      "wandb: Run `wandb offline` to turn off syncing.\n",
      "wandb: Syncing run druxai-run-1\n",
      "wandb: ⭐️ View project at https://wandb.ai/niklaskiermeyer/druxai\n",
      "wandb: 🚀 View run at https://wandb.ai/niklaskiermeyer/druxai/runs/w722fj2w\n",
      "627it [00:52, 11.85it/s]\n",
      " 16%|█▌        | 500/3093 [11:36<1:00:14,  1.39s/it]\n",
      "Exception ignored in: <function _MultiProcessingDataLoaderIter.__del__ at 0x125025430>\n",
      "Traceback (most recent call last):\n",
      "  File \"/Users/niklaskiermeyer/anaconda3/envs/DruxAI/lib/python3.9/site-packages/torch/utils/data/dataloader.py\", line 1479, in __del__\n",
      "    self._shutdown_workers()\n",
      "  File \"/Users/niklaskiermeyer/anaconda3/envs/DruxAI/lib/python3.9/site-packages/torch/utils/data/dataloader.py\", line 1437, in _shutdown_workers\n",
      "    if self._persistent_workers or self._workers_status[worker_id]:\n",
      "AttributeError: '_MultiProcessingDataLoaderIter' object has no attribute '_workers_status'\n",
      "Traceback (most recent call last):\n",
      "  File \"<string>\", line 1, in <module>\n",
      "  File \"/Users/niklaskiermeyer/anaconda3/envs/DruxAI/lib/python3.9/multiprocessing/spawn.py\", line 116, in spawn_main\n",
      "    exitcode = _main(fd, parent_sentinel)\n",
      "  File \"/Users/niklaskiermeyer/anaconda3/envs/DruxAI/lib/python3.9/multiprocessing/spawn.py\", line 126, in _main\n",
      "    self = reduction.pickle.load(from_parent)\n",
      "_pickle.UnpicklingError: pickle data was truncated\n"
     ]
    },
    {
     "ename": "KeyboardInterrupt",
     "evalue": "",
     "output_type": "error",
     "traceback": [
      "\u001b[0;31m---------------------------------------------------------------------------\u001b[0m",
      "\u001b[0;31mKeyboardInterrupt\u001b[0m                         Traceback (most recent call last)",
      "File \u001b[0;32m~/Desktop/Codespace/DruxAI/src/druxai/train.py:319\u001b[0m\n\u001b[1;32m    309\u001b[0m         best_val_loss \u001b[38;5;241m=\u001b[39m avg_val_loss\n\u001b[1;32m    310\u001b[0m         checkpoint \u001b[38;5;241m=\u001b[39m {\n\u001b[1;32m    311\u001b[0m             \u001b[38;5;124m\"\u001b[39m\u001b[38;5;124mmodel\u001b[39m\u001b[38;5;124m\"\u001b[39m: model\u001b[38;5;241m.\u001b[39mstate_dict(),\n\u001b[1;32m    312\u001b[0m             \u001b[38;5;124m\"\u001b[39m\u001b[38;5;124moptimizer 1\u001b[39m\u001b[38;5;124m\"\u001b[39m: optimizer1\u001b[38;5;241m.\u001b[39mstate_dict(),\n\u001b[0;32m   (...)\u001b[0m\n\u001b[1;32m    317\u001b[0m             \u001b[38;5;124m\"\u001b[39m\u001b[38;5;124mconfig\u001b[39m\u001b[38;5;124m\"\u001b[39m: config,\n\u001b[1;32m    318\u001b[0m         }\n\u001b[0;32m--> 319\u001b[0m         logger\u001b[38;5;241m.\u001b[39minfo(\n\u001b[1;32m    320\u001b[0m             \u001b[38;5;124mf\u001b[39m\u001b[38;5;124m\"\u001b[39m\u001b[38;5;124mNew best val_loss achieved. Saving checkpoint to \u001b[39m\u001b[38;5;132;01m{\u001b[39;00mos\u001b[38;5;241m.\u001b[39mpath\u001b[38;5;241m.\u001b[39mjoin(RESULTS_PATH,\u001b[38;5;250m \u001b[39m\u001b[38;5;124m'\u001b[39m\u001b[38;5;124mckpt.pt\u001b[39m\u001b[38;5;124m'\u001b[39m)\u001b[38;5;132;01m}\u001b[39;00m\u001b[38;5;124m\"\u001b[39m\n\u001b[1;32m    321\u001b[0m         )\n\u001b[1;32m    322\u001b[0m         torch\u001b[38;5;241m.\u001b[39msave(checkpoint, os\u001b[38;5;241m.\u001b[39mpath\u001b[38;5;241m.\u001b[39mjoin(RESULTS_PATH, \u001b[38;5;124m\"\u001b[39m\u001b[38;5;124mckpt.pt\u001b[39m\u001b[38;5;124m\"\u001b[39m))\n\u001b[1;32m    323\u001b[0m iter_num \u001b[38;5;241m+\u001b[39m\u001b[38;5;241m=\u001b[39m \u001b[38;5;241m1\u001b[39m\n",
      "File \u001b[0;32m~/Desktop/Codespace/DruxAI/src/druxai/train.py:284\u001b[0m, in \u001b[0;36mtrain\u001b[0;34m()\u001b[0m\n\u001b[1;32m    282\u001b[0m prediction \u001b[38;5;241m=\u001b[39m model\u001b[38;5;241m.\u001b[39mforward(drug, molecular)\n\u001b[1;32m    283\u001b[0m loss \u001b[38;5;241m=\u001b[39m criterion(outcome, prediction)\n\u001b[0;32m--> 284\u001b[0m \u001b[38;5;28;01mif\u001b[39;00m decay_lr:\n\u001b[1;32m    285\u001b[0m     lr \u001b[38;5;241m=\u001b[39m get_lr(iter_num, warmup_iters, lr_decay_iters, learning_rate, min_lr)\n\u001b[1;32m    286\u001b[0m     \u001b[38;5;28;01mfor\u001b[39;00m param_group1, param_group2 \u001b[38;5;129;01min\u001b[39;00m \u001b[38;5;28mzip\u001b[39m(optimizer1\u001b[38;5;241m.\u001b[39mparam_groups, optimizer2\u001b[38;5;241m.\u001b[39mparam_groups):\n",
      "File \u001b[0;32m~/anaconda3/envs/DruxAI/lib/python3.9/site-packages/torch/utils/_contextlib.py:115\u001b[0m, in \u001b[0;36mcontext_decorator.<locals>.decorate_context\u001b[0;34m(*args, **kwargs)\u001b[0m\n\u001b[1;32m    112\u001b[0m \u001b[38;5;129m@functools\u001b[39m\u001b[38;5;241m.\u001b[39mwraps(func)\n\u001b[1;32m    113\u001b[0m \u001b[38;5;28;01mdef\u001b[39;00m \u001b[38;5;21mdecorate_context\u001b[39m(\u001b[38;5;241m*\u001b[39margs, \u001b[38;5;241m*\u001b[39m\u001b[38;5;241m*\u001b[39mkwargs):\n\u001b[1;32m    114\u001b[0m     \u001b[38;5;28;01mwith\u001b[39;00m ctx_factory():\n\u001b[0;32m--> 115\u001b[0m         \u001b[38;5;28;01mreturn\u001b[39;00m \u001b[43mfunc\u001b[49m\u001b[43m(\u001b[49m\u001b[38;5;241;43m*\u001b[39;49m\u001b[43margs\u001b[49m\u001b[43m,\u001b[49m\u001b[43m \u001b[49m\u001b[38;5;241;43m*\u001b[39;49m\u001b[38;5;241;43m*\u001b[39;49m\u001b[43mkwargs\u001b[49m\u001b[43m)\u001b[49m\n",
      "File \u001b[0;32m~/Desktop/Codespace/DruxAI/src/druxai/train.py:118\u001b[0m, in \u001b[0;36mevaluate_model\u001b[0;34m(model, dataloader_val, data, epoch, save_evaluation, eval_metric)\u001b[0m\n\u001b[1;32m    116\u001b[0m all_predictions \u001b[38;5;241m=\u001b[39m []\n\u001b[1;32m    117\u001b[0m losses \u001b[38;5;241m=\u001b[39m torch\u001b[38;5;241m.\u001b[39mzeros(\u001b[38;5;28mlen\u001b[39m(dataloader_val))\n\u001b[0;32m--> 118\u001b[0m \u001b[38;5;28;01mfor\u001b[39;00m iter_count, (X, y, idx) \u001b[38;5;129;01min\u001b[39;00m tqdm(\u001b[38;5;28menumerate\u001b[39m(dataloader_val)):\n\u001b[1;32m    119\u001b[0m     drug, molecular, outcome \u001b[38;5;241m=\u001b[39m (\n\u001b[1;32m    120\u001b[0m         X[\u001b[38;5;124m\"\u001b[39m\u001b[38;5;124mdrug_encoding\u001b[39m\u001b[38;5;124m\"\u001b[39m]\u001b[38;5;241m.\u001b[39mto(device),\n\u001b[1;32m    121\u001b[0m         X[\u001b[38;5;124m\"\u001b[39m\u001b[38;5;124mgene_expression\u001b[39m\u001b[38;5;124m\"\u001b[39m]\u001b[38;5;241m.\u001b[39mto(device),\n\u001b[1;32m    122\u001b[0m         y\u001b[38;5;241m.\u001b[39mto(device),\n\u001b[1;32m    123\u001b[0m     )\n\u001b[1;32m    125\u001b[0m     prediction \u001b[38;5;241m=\u001b[39m model(drug, molecular)\n",
      "File \u001b[0;32m~/anaconda3/envs/DruxAI/lib/python3.9/site-packages/tqdm/std.py:1178\u001b[0m, in \u001b[0;36mtqdm.__iter__\u001b[0;34m(self)\u001b[0m\n\u001b[1;32m   1175\u001b[0m time \u001b[38;5;241m=\u001b[39m \u001b[38;5;28mself\u001b[39m\u001b[38;5;241m.\u001b[39m_time\n\u001b[1;32m   1177\u001b[0m \u001b[38;5;28;01mtry\u001b[39;00m:\n\u001b[0;32m-> 1178\u001b[0m     \u001b[38;5;28;01mfor\u001b[39;00m obj \u001b[38;5;129;01min\u001b[39;00m iterable:\n\u001b[1;32m   1179\u001b[0m         \u001b[38;5;28;01myield\u001b[39;00m obj\n\u001b[1;32m   1180\u001b[0m         \u001b[38;5;66;03m# Update and possibly print the progressbar.\u001b[39;00m\n\u001b[1;32m   1181\u001b[0m         \u001b[38;5;66;03m# Note: does not call self.update(1) for speed optimisation.\u001b[39;00m\n",
      "File \u001b[0;32m~/anaconda3/envs/DruxAI/lib/python3.9/site-packages/torch/utils/data/dataloader.py:631\u001b[0m, in \u001b[0;36m_BaseDataLoaderIter.__next__\u001b[0;34m(self)\u001b[0m\n\u001b[1;32m    628\u001b[0m \u001b[38;5;28;01mif\u001b[39;00m \u001b[38;5;28mself\u001b[39m\u001b[38;5;241m.\u001b[39m_sampler_iter \u001b[38;5;129;01mis\u001b[39;00m \u001b[38;5;28;01mNone\u001b[39;00m:\n\u001b[1;32m    629\u001b[0m     \u001b[38;5;66;03m# TODO(https://github.com/pytorch/pytorch/issues/76750)\u001b[39;00m\n\u001b[1;32m    630\u001b[0m     \u001b[38;5;28mself\u001b[39m\u001b[38;5;241m.\u001b[39m_reset()  \u001b[38;5;66;03m# type: ignore[call-arg]\u001b[39;00m\n\u001b[0;32m--> 631\u001b[0m data \u001b[38;5;241m=\u001b[39m \u001b[38;5;28;43mself\u001b[39;49m\u001b[38;5;241;43m.\u001b[39;49m\u001b[43m_next_data\u001b[49m\u001b[43m(\u001b[49m\u001b[43m)\u001b[49m\n\u001b[1;32m    632\u001b[0m \u001b[38;5;28mself\u001b[39m\u001b[38;5;241m.\u001b[39m_num_yielded \u001b[38;5;241m+\u001b[39m\u001b[38;5;241m=\u001b[39m \u001b[38;5;241m1\u001b[39m\n\u001b[1;32m    633\u001b[0m \u001b[38;5;28;01mif\u001b[39;00m \u001b[38;5;28mself\u001b[39m\u001b[38;5;241m.\u001b[39m_dataset_kind \u001b[38;5;241m==\u001b[39m _DatasetKind\u001b[38;5;241m.\u001b[39mIterable \u001b[38;5;129;01mand\u001b[39;00m \\\n\u001b[1;32m    634\u001b[0m         \u001b[38;5;28mself\u001b[39m\u001b[38;5;241m.\u001b[39m_IterableDataset_len_called \u001b[38;5;129;01mis\u001b[39;00m \u001b[38;5;129;01mnot\u001b[39;00m \u001b[38;5;28;01mNone\u001b[39;00m \u001b[38;5;129;01mand\u001b[39;00m \\\n\u001b[1;32m    635\u001b[0m         \u001b[38;5;28mself\u001b[39m\u001b[38;5;241m.\u001b[39m_num_yielded \u001b[38;5;241m>\u001b[39m \u001b[38;5;28mself\u001b[39m\u001b[38;5;241m.\u001b[39m_IterableDataset_len_called:\n",
      "File \u001b[0;32m~/anaconda3/envs/DruxAI/lib/python3.9/site-packages/torch/utils/data/dataloader.py:1318\u001b[0m, in \u001b[0;36m_MultiProcessingDataLoaderIter._next_data\u001b[0;34m(self)\u001b[0m\n\u001b[1;32m   1315\u001b[0m \u001b[38;5;28;01melse\u001b[39;00m:\n\u001b[1;32m   1316\u001b[0m     \u001b[38;5;66;03m# no valid `self._rcvd_idx` is found (i.e., didn't break)\u001b[39;00m\n\u001b[1;32m   1317\u001b[0m     \u001b[38;5;28;01mif\u001b[39;00m \u001b[38;5;129;01mnot\u001b[39;00m \u001b[38;5;28mself\u001b[39m\u001b[38;5;241m.\u001b[39m_persistent_workers:\n\u001b[0;32m-> 1318\u001b[0m         \u001b[38;5;28;43mself\u001b[39;49m\u001b[38;5;241;43m.\u001b[39;49m\u001b[43m_shutdown_workers\u001b[49m\u001b[43m(\u001b[49m\u001b[43m)\u001b[49m\n\u001b[1;32m   1319\u001b[0m     \u001b[38;5;28;01mraise\u001b[39;00m \u001b[38;5;167;01mStopIteration\u001b[39;00m\n\u001b[1;32m   1321\u001b[0m \u001b[38;5;66;03m# Now `self._rcvd_idx` is the batch index we want to fetch\u001b[39;00m\n\u001b[1;32m   1322\u001b[0m \n\u001b[1;32m   1323\u001b[0m \u001b[38;5;66;03m# Check if the next sample has already been generated\u001b[39;00m\n",
      "File \u001b[0;32m~/anaconda3/envs/DruxAI/lib/python3.9/site-packages/torch/utils/data/dataloader.py:1443\u001b[0m, in \u001b[0;36m_MultiProcessingDataLoaderIter._shutdown_workers\u001b[0;34m(self)\u001b[0m\n\u001b[1;32m   1438\u001b[0m         \u001b[38;5;28mself\u001b[39m\u001b[38;5;241m.\u001b[39m_mark_worker_as_unavailable(worker_id, shutdown\u001b[38;5;241m=\u001b[39m\u001b[38;5;28;01mTrue\u001b[39;00m)\n\u001b[1;32m   1439\u001b[0m \u001b[38;5;28;01mfor\u001b[39;00m w \u001b[38;5;129;01min\u001b[39;00m \u001b[38;5;28mself\u001b[39m\u001b[38;5;241m.\u001b[39m_workers:\n\u001b[1;32m   1440\u001b[0m     \u001b[38;5;66;03m# We should be able to join here, but in case anything went\u001b[39;00m\n\u001b[1;32m   1441\u001b[0m     \u001b[38;5;66;03m# wrong, we set a timeout and if the workers fail to join,\u001b[39;00m\n\u001b[1;32m   1442\u001b[0m     \u001b[38;5;66;03m# they are killed in the `finally` block.\u001b[39;00m\n\u001b[0;32m-> 1443\u001b[0m     \u001b[43mw\u001b[49m\u001b[38;5;241;43m.\u001b[39;49m\u001b[43mjoin\u001b[49m\u001b[43m(\u001b[49m\u001b[43mtimeout\u001b[49m\u001b[38;5;241;43m=\u001b[39;49m\u001b[43m_utils\u001b[49m\u001b[38;5;241;43m.\u001b[39;49m\u001b[43mMP_STATUS_CHECK_INTERVAL\u001b[49m\u001b[43m)\u001b[49m\n\u001b[1;32m   1444\u001b[0m \u001b[38;5;28;01mfor\u001b[39;00m q \u001b[38;5;129;01min\u001b[39;00m \u001b[38;5;28mself\u001b[39m\u001b[38;5;241m.\u001b[39m_index_queues:\n\u001b[1;32m   1445\u001b[0m     q\u001b[38;5;241m.\u001b[39mcancel_join_thread()\n",
      "File \u001b[0;32m~/anaconda3/envs/DruxAI/lib/python3.9/multiprocessing/process.py:149\u001b[0m, in \u001b[0;36mBaseProcess.join\u001b[0;34m(self, timeout)\u001b[0m\n\u001b[1;32m    147\u001b[0m \u001b[38;5;28;01massert\u001b[39;00m \u001b[38;5;28mself\u001b[39m\u001b[38;5;241m.\u001b[39m_parent_pid \u001b[38;5;241m==\u001b[39m os\u001b[38;5;241m.\u001b[39mgetpid(), \u001b[38;5;124m'\u001b[39m\u001b[38;5;124mcan only join a child process\u001b[39m\u001b[38;5;124m'\u001b[39m\n\u001b[1;32m    148\u001b[0m \u001b[38;5;28;01massert\u001b[39;00m \u001b[38;5;28mself\u001b[39m\u001b[38;5;241m.\u001b[39m_popen \u001b[38;5;129;01mis\u001b[39;00m \u001b[38;5;129;01mnot\u001b[39;00m \u001b[38;5;28;01mNone\u001b[39;00m, \u001b[38;5;124m'\u001b[39m\u001b[38;5;124mcan only join a started process\u001b[39m\u001b[38;5;124m'\u001b[39m\n\u001b[0;32m--> 149\u001b[0m res \u001b[38;5;241m=\u001b[39m \u001b[38;5;28;43mself\u001b[39;49m\u001b[38;5;241;43m.\u001b[39;49m\u001b[43m_popen\u001b[49m\u001b[38;5;241;43m.\u001b[39;49m\u001b[43mwait\u001b[49m\u001b[43m(\u001b[49m\u001b[43mtimeout\u001b[49m\u001b[43m)\u001b[49m\n\u001b[1;32m    150\u001b[0m \u001b[38;5;28;01mif\u001b[39;00m res \u001b[38;5;129;01mis\u001b[39;00m \u001b[38;5;129;01mnot\u001b[39;00m \u001b[38;5;28;01mNone\u001b[39;00m:\n\u001b[1;32m    151\u001b[0m     _children\u001b[38;5;241m.\u001b[39mdiscard(\u001b[38;5;28mself\u001b[39m)\n",
      "File \u001b[0;32m~/anaconda3/envs/DruxAI/lib/python3.9/multiprocessing/popen_fork.py:40\u001b[0m, in \u001b[0;36mPopen.wait\u001b[0;34m(self, timeout)\u001b[0m\n\u001b[1;32m     38\u001b[0m \u001b[38;5;28;01mif\u001b[39;00m timeout \u001b[38;5;129;01mis\u001b[39;00m \u001b[38;5;129;01mnot\u001b[39;00m \u001b[38;5;28;01mNone\u001b[39;00m:\n\u001b[1;32m     39\u001b[0m     \u001b[38;5;28;01mfrom\u001b[39;00m \u001b[38;5;21;01mmultiprocessing\u001b[39;00m\u001b[38;5;21;01m.\u001b[39;00m\u001b[38;5;21;01mconnection\u001b[39;00m \u001b[38;5;28;01mimport\u001b[39;00m wait\n\u001b[0;32m---> 40\u001b[0m     \u001b[38;5;28;01mif\u001b[39;00m \u001b[38;5;129;01mnot\u001b[39;00m \u001b[43mwait\u001b[49m\u001b[43m(\u001b[49m\u001b[43m[\u001b[49m\u001b[38;5;28;43mself\u001b[39;49m\u001b[38;5;241;43m.\u001b[39;49m\u001b[43msentinel\u001b[49m\u001b[43m]\u001b[49m\u001b[43m,\u001b[49m\u001b[43m \u001b[49m\u001b[43mtimeout\u001b[49m\u001b[43m)\u001b[49m:\n\u001b[1;32m     41\u001b[0m         \u001b[38;5;28;01mreturn\u001b[39;00m \u001b[38;5;28;01mNone\u001b[39;00m\n\u001b[1;32m     42\u001b[0m \u001b[38;5;66;03m# This shouldn't block if wait() returned successfully.\u001b[39;00m\n",
      "File \u001b[0;32m~/anaconda3/envs/DruxAI/lib/python3.9/multiprocessing/connection.py:931\u001b[0m, in \u001b[0;36mwait\u001b[0;34m(object_list, timeout)\u001b[0m\n\u001b[1;32m    928\u001b[0m     deadline \u001b[38;5;241m=\u001b[39m time\u001b[38;5;241m.\u001b[39mmonotonic() \u001b[38;5;241m+\u001b[39m timeout\n\u001b[1;32m    930\u001b[0m \u001b[38;5;28;01mwhile\u001b[39;00m \u001b[38;5;28;01mTrue\u001b[39;00m:\n\u001b[0;32m--> 931\u001b[0m     ready \u001b[38;5;241m=\u001b[39m \u001b[43mselector\u001b[49m\u001b[38;5;241;43m.\u001b[39;49m\u001b[43mselect\u001b[49m\u001b[43m(\u001b[49m\u001b[43mtimeout\u001b[49m\u001b[43m)\u001b[49m\n\u001b[1;32m    932\u001b[0m     \u001b[38;5;28;01mif\u001b[39;00m ready:\n\u001b[1;32m    933\u001b[0m         \u001b[38;5;28;01mreturn\u001b[39;00m [key\u001b[38;5;241m.\u001b[39mfileobj \u001b[38;5;28;01mfor\u001b[39;00m (key, events) \u001b[38;5;129;01min\u001b[39;00m ready]\n",
      "File \u001b[0;32m~/anaconda3/envs/DruxAI/lib/python3.9/selectors.py:416\u001b[0m, in \u001b[0;36m_PollLikeSelector.select\u001b[0;34m(self, timeout)\u001b[0m\n\u001b[1;32m    414\u001b[0m ready \u001b[38;5;241m=\u001b[39m []\n\u001b[1;32m    415\u001b[0m \u001b[38;5;28;01mtry\u001b[39;00m:\n\u001b[0;32m--> 416\u001b[0m     fd_event_list \u001b[38;5;241m=\u001b[39m \u001b[38;5;28;43mself\u001b[39;49m\u001b[38;5;241;43m.\u001b[39;49m\u001b[43m_selector\u001b[49m\u001b[38;5;241;43m.\u001b[39;49m\u001b[43mpoll\u001b[49m\u001b[43m(\u001b[49m\u001b[43mtimeout\u001b[49m\u001b[43m)\u001b[49m\n\u001b[1;32m    417\u001b[0m \u001b[38;5;28;01mexcept\u001b[39;00m \u001b[38;5;167;01mInterruptedError\u001b[39;00m:\n\u001b[1;32m    418\u001b[0m     \u001b[38;5;28;01mreturn\u001b[39;00m ready\n",
      "\u001b[0;31mKeyboardInterrupt\u001b[0m: "
     ]
    }
   ],
   "source": [
    "%run /Users/niklaskiermeyer/Desktop/Codespace/DruxAI/src/druxai/train.py --wandb_log=True --init_from=\"scratch\""
   ]
  },
  {
   "cell_type": "code",
   "execution_count": null,
   "metadata": {},
   "outputs": [],
   "source": []
  }
 ],
 "metadata": {
  "kernelspec": {
   "display_name": "DruxAI",
   "language": "python",
   "name": "python3"
  },
  "language_info": {
   "codemirror_mode": {
    "name": "ipython",
    "version": 3
   },
   "file_extension": ".py",
   "mimetype": "text/x-python",
   "name": "python",
   "nbconvert_exporter": "python",
   "pygments_lexer": "ipython3",
   "version": "3.9.18"
  }
 },
 "nbformat": 4,
 "nbformat_minor": 2
}

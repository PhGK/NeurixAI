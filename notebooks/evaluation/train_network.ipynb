{
 "cells": [
  {
   "cell_type": "code",
   "execution_count": 1,
   "metadata": {},
   "outputs": [],
   "source": [
    "from druxai.utils.data import MyDataSet\n",
    "import torch\n",
    "\n",
    "%load_ext autoreload\n",
    "%autoreload 2"
   ]
  },
  {
   "cell_type": "code",
   "execution_count": 2,
   "metadata": {},
   "outputs": [
    {
     "name": "stdout",
     "output_type": "stream",
     "text": [
      "\u001b[34mINFO    \u001b[0m \u001b[1;36m19193\u001b[0m molecular features, \u001b[1;36m476\u001b[0m celltypes, \u001b[1;36m1149\u001b[0m drug_features                                               \n",
      "\u001b[34mINFO    \u001b[0m \u001b[1;36m1149\u001b[0m drugs and \u001b[1;36m476\u001b[0m cell lines                                                                             \n"
     ]
    }
   ],
   "source": [
    "ds = MyDataSet(file_path=\"../../data/preprocessed\", results_dir=\"../../results\", n_splits=5)"
   ]
  },
  {
   "cell_type": "code",
   "execution_count": 3,
   "metadata": {},
   "outputs": [],
   "source": [
    "from druxai.models.NN import Interaction_Model\n",
    "\n",
    "model_interaction = Interaction_Model(ds)"
   ]
  },
  {
   "cell_type": "code",
   "execution_count": 24,
   "metadata": {},
   "outputs": [
    {
     "name": "stderr",
     "output_type": "stream",
     "text": [
      "100%|██████████| 40/40 [00:25<00:00,  1.57it/s]\n",
      "100%|██████████| 108/108 [00:42<00:00,  2.55it/s]\n"
     ]
    },
    {
     "name": "stdout",
     "output_type": "stream",
     "text": [
      "Finished 1/2, Train Loss: 0.0044, Test Loss: 0.3921\n"
     ]
    },
    {
     "name": "stderr",
     "output_type": "stream",
     "text": [
      "100%|██████████| 40/40 [00:22<00:00,  1.77it/s]\n",
      "100%|██████████| 108/108 [00:52<00:00,  2.04it/s]\n"
     ]
    },
    {
     "name": "stdout",
     "output_type": "stream",
     "text": [
      "Finished 2/2, Train Loss: 0.0043, Test Loss: 0.3922\n"
     ]
    },
    {
     "data": {
      "text/plain": [
       "Interaction_Model(\n",
       "  (nn1): Model(\n",
       "    (layers): Sequential(\n",
       "      (0): LRP_DropOut(\n",
       "        (dropout): Dropout(p=0.0, inplace=False)\n",
       "      )\n",
       "      (1): LRP_Linear(\n",
       "        (linear): Linear(in_features=1149, out_features=5000, bias=True)\n",
       "      )\n",
       "      (2): LRP_ReLU(\n",
       "        (relu): ReLU()\n",
       "      )\n",
       "      (dropout): LRP_DropOut(\n",
       "        (dropout): Dropout(p=0.05, inplace=False)\n",
       "      )\n",
       "      (LRP_Linear_last): LRP_Linear(\n",
       "        (linear): Linear(in_features=5000, out_features=1000, bias=True)\n",
       "      )\n",
       "    )\n",
       "  )\n",
       "  (nn2): Model(\n",
       "    (layers): Sequential(\n",
       "      (0): LRP_DropOut(\n",
       "        (dropout): Dropout(p=0.0, inplace=False)\n",
       "      )\n",
       "      (1): LRP_Linear(\n",
       "        (linear): Linear(in_features=19193, out_features=10000, bias=True)\n",
       "      )\n",
       "      (2): LRP_ReLU(\n",
       "        (relu): ReLU()\n",
       "      )\n",
       "      (dropout): LRP_DropOut(\n",
       "        (dropout): Dropout(p=0.05, inplace=False)\n",
       "      )\n",
       "      (LRP_Linear_last): LRP_Linear(\n",
       "        (linear): Linear(in_features=10000, out_features=1000, bias=True)\n",
       "      )\n",
       "    )\n",
       "  )\n",
       "  (product): LRP_product()\n",
       "  (dropout): LRP_DropOut(\n",
       "    (dropout): Dropout(p=0.05, inplace=False)\n",
       "  )\n",
       ")"
      ]
     },
     "execution_count": 24,
     "metadata": {},
     "output_type": "execute_result"
    }
   ],
   "source": [
    "from druxai.train import train_model\n",
    "\n",
    "mps_device = torch.device(\"mps\")\n",
    "\n",
    "# from druxai.train2 import train_test\n",
    "train_model(model_interaction, ds, lr=0.1, nepochs=2, fold=1, device=mps_device, PATH=\"../../results/training\",\n",
    "            wandb_log=False, on_subset=True)"
   ]
  },
  {
   "cell_type": "code",
   "execution_count": null,
   "metadata": {},
   "outputs": [],
   "source": []
  }
 ],
 "metadata": {
  "kernelspec": {
   "display_name": "DruxAI",
   "language": "python",
   "name": "python3"
  },
  "language_info": {
   "codemirror_mode": {
    "name": "ipython",
    "version": 3
   },
   "file_extension": ".py",
   "mimetype": "text/x-python",
   "name": "python",
   "nbconvert_exporter": "python",
   "pygments_lexer": "ipython3",
   "version": "3.9.18"
  }
 },
 "nbformat": 4,
 "nbformat_minor": 2
}

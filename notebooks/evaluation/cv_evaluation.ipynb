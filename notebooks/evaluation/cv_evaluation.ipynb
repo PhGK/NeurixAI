{
 "cells": [
  {
   "cell_type": "code",
   "execution_count": 1,
   "metadata": {},
   "outputs": [],
   "source": [
    "import pandas as pd\n",
    "from druxai.utils.evaluation import check_shared_cells\n",
    "from scipy.stats import spearmanr\n",
    "import os"
   ]
  },
  {
   "cell_type": "code",
   "execution_count": 2,
   "metadata": {},
   "outputs": [],
   "source": [
    "%load_ext autoreload\n",
    "%autoreload 2"
   ]
  },
  {
   "cell_type": "code",
   "execution_count": 3,
   "metadata": {},
   "outputs": [],
   "source": [
    "# Define the folder path where the CSV files are located\n",
    "folder_path = \"/Users/niklaskiermeyer/Desktop/Codespace/DruxAI/results/slurm/cv_results_new/predictions/\"\n",
    "fold_results = {}\n",
    "\n",
    "# Loop through each fold\n",
    "for file in os.listdir(folder_path):\n",
    "    file_path = os.path.join(folder_path, file)\n",
    "    df = pd.read_csv(file_path)\n",
    "    fold_results[file] = df"
   ]
  },
  {
   "cell_type": "code",
   "execution_count": 4,
   "metadata": {},
   "outputs": [
    {
     "data": {
      "text/plain": [
       "'No shared cells found across folds.'"
      ]
     },
     "execution_count": 4,
     "metadata": {},
     "output_type": "execute_result"
    }
   ],
   "source": [
    "# Check if cell-lines exist in different folds\n",
    "check_shared_cells(fold_results)"
   ]
  },
  {
   "cell_type": "code",
   "execution_count": 5,
   "metadata": {},
   "outputs": [
    {
     "name": "stdout",
     "output_type": "stream",
     "text": [
      "Fold prediction_fold_5_epoch_39.csv - Mean R Score: 0.4209302191481973\n",
      "Fold prediction_fold_3_epoch_49.csv - Mean R Score: 0.4292651462005418\n",
      "Fold prediction_fold_4_epoch_49.csv - Mean R Score: 0.43464250733919735\n",
      "Fold prediction_fold_1_epoch_46.csv - Mean R Score: 0.4226696369172598\n",
      "Fold prediction_fold_2_epoch_35.csv - Mean R Score: 0.4311486069533207\n",
      "Cross Fold Mean R Score:  0.4277312233117033\n"
     ]
    }
   ],
   "source": [
    "# Overall R Score per Fold\n",
    "overall_mean_rscore = []\n",
    "for key in fold_results:\n",
    "    fold_r_scores = []  # Initialize a list to store R scores for the current fold\n",
    "    r_value, _ = spearmanr(fold_results[key][\"prediction\"], fold_results[key][\"ground_truth\"])\n",
    "    overall_mean_rscore.append(r_value)\n",
    "    print(f\"Fold {key} - Mean R Score: {r_value}\")\n",
    "\n",
    "print(\"Cross Fold Mean R Score: \", sum(overall_mean_rscore) / len(overall_mean_rscore))"
   ]
  },
  {
   "cell_type": "code",
   "execution_count": 7,
   "metadata": {},
   "outputs": [
    {
     "name": "stdout",
     "output_type": "stream",
     "text": [
      "Fold prediction_fold_5_epoch_39.csv - Mean R Score per drug: 0.08309847547808467\n",
      "Fold prediction_fold_3_epoch_49.csv - Mean R Score per drug: 0.06756986594414148\n",
      "Fold prediction_fold_4_epoch_49.csv - Mean R Score per drug: 0.06756579042480379\n",
      "Fold prediction_fold_1_epoch_46.csv - Mean R Score per drug: 0.0842371612316657\n",
      "Fold prediction_fold_2_epoch_35.csv - Mean R Score per drug: 0.07882246561255968\n",
      " \n",
      " Overall per drug mean R Score: 0.07625875173825107\n"
     ]
    }
   ],
   "source": [
    "entire_dataset_rscores = []  # Initialize a DataFrame to store the R scores for the entire dataset\n",
    "\n",
    "for key in fold_results:\n",
    "    fold_r_scores = []  # Initialize a list to store R scores for the current fold\n",
    "    for group_name, group_data in fold_results[key].groupby(\"drugs\"):\n",
    "        r_value, _ = spearmanr(group_data[\"prediction\"], group_data[\"ground_truth\"])\n",
    "        fold_r_scores.append({\"Group\": group_name, \"Mean Drug R Score\": r_value})\n",
    "    entire_dataset_rscores.extend(fold_r_scores)\n",
    "    fold_mean_r_score = pd.DataFrame(fold_r_scores)[\"Mean Drug R Score\"].mean()\n",
    "    print(f\"Fold {key} - Mean R Score per drug: {fold_mean_r_score}\")\n",
    "\n",
    "entire_dataset_rscores = pd.DataFrame(entire_dataset_rscores).groupby(\"Group\").mean().sort_values(\"Mean Drug R Score\"\n",
    "                                                                                                  , ascending=False)\n",
    "print(\" \\n Overall per drug mean R Score:\", entire_dataset_rscores[\"Mean Drug R Score\"].mean())"
   ]
  },
  {
   "cell_type": "code",
   "execution_count": 8,
   "metadata": {},
   "outputs": [
    {
     "data": {
      "text/plain": [
       "0.07625875173825107"
      ]
     },
     "execution_count": 8,
     "metadata": {},
     "output_type": "execute_result"
    }
   ],
   "source": [
    "entire_dataset_rscores[\"Mean Drug R Score\"].mean()"
   ]
  },
  {
   "cell_type": "code",
   "execution_count": 9,
   "metadata": {},
   "outputs": [
    {
     "name": "stdout",
     "output_type": "stream",
     "text": [
      "Number of groups with mean drug R score over 0.2: 65\n"
     ]
    }
   ],
   "source": [
    "num_groups = len(entire_dataset_rscores[entire_dataset_rscores[\"Mean Drug R Score\"] > 0.2])\n",
    "print(\"Number of groups with mean drug R score over 0.2:\", num_groups)\n"
   ]
  },
  {
   "cell_type": "code",
   "execution_count": 10,
   "metadata": {},
   "outputs": [
    {
     "data": {
      "text/html": [
       "<div>\n",
       "<style scoped>\n",
       "    .dataframe tbody tr th:only-of-type {\n",
       "        vertical-align: middle;\n",
       "    }\n",
       "\n",
       "    .dataframe tbody tr th {\n",
       "        vertical-align: top;\n",
       "    }\n",
       "\n",
       "    .dataframe thead th {\n",
       "        text-align: right;\n",
       "    }\n",
       "</style>\n",
       "<table border=\"1\" class=\"dataframe\">\n",
       "  <thead>\n",
       "    <tr style=\"text-align: right;\">\n",
       "      <th></th>\n",
       "      <th>Mean Drug R Score</th>\n",
       "    </tr>\n",
       "    <tr>\n",
       "      <th>Group</th>\n",
       "      <th></th>\n",
       "    </tr>\n",
       "  </thead>\n",
       "  <tbody>\n",
       "    <tr>\n",
       "      <th>AZD8330</th>\n",
       "      <td>0.488186</td>\n",
       "    </tr>\n",
       "    <tr>\n",
       "      <th>DACOMITINIB</th>\n",
       "      <td>0.370811</td>\n",
       "    </tr>\n",
       "    <tr>\n",
       "      <th>TAK-733</th>\n",
       "      <td>0.364630</td>\n",
       "    </tr>\n",
       "    <tr>\n",
       "      <th>RO-4987655</th>\n",
       "      <td>0.363987</td>\n",
       "    </tr>\n",
       "    <tr>\n",
       "      <th>MEK162</th>\n",
       "      <td>0.321173</td>\n",
       "    </tr>\n",
       "    <tr>\n",
       "      <th>...</th>\n",
       "      <td>...</td>\n",
       "    </tr>\n",
       "    <tr>\n",
       "      <th>AST-1306</th>\n",
       "      <td>0.201655</td>\n",
       "    </tr>\n",
       "    <tr>\n",
       "      <th>GZD824</th>\n",
       "      <td>0.201572</td>\n",
       "    </tr>\n",
       "    <tr>\n",
       "      <th>GSK2126458</th>\n",
       "      <td>0.200916</td>\n",
       "    </tr>\n",
       "    <tr>\n",
       "      <th>MK-3207</th>\n",
       "      <td>0.200229</td>\n",
       "    </tr>\n",
       "    <tr>\n",
       "      <th>BMS-690514</th>\n",
       "      <td>0.200174</td>\n",
       "    </tr>\n",
       "  </tbody>\n",
       "</table>\n",
       "<p>65 rows × 1 columns</p>\n",
       "</div>"
      ],
      "text/plain": [
       "             Mean Drug R Score\n",
       "Group                         \n",
       "AZD8330               0.488186\n",
       "DACOMITINIB           0.370811\n",
       "TAK-733               0.364630\n",
       "RO-4987655            0.363987\n",
       "MEK162                0.321173\n",
       "...                        ...\n",
       "AST-1306              0.201655\n",
       "GZD824                0.201572\n",
       "GSK2126458            0.200916\n",
       "MK-3207               0.200229\n",
       "BMS-690514            0.200174\n",
       "\n",
       "[65 rows x 1 columns]"
      ]
     },
     "execution_count": 10,
     "metadata": {},
     "output_type": "execute_result"
    }
   ],
   "source": [
    "entire_dataset_rscores[entire_dataset_rscores[\"Mean Drug R Score\"] > 0.2]"
   ]
  },
  {
   "cell_type": "code",
   "execution_count": 11,
   "metadata": {},
   "outputs": [
    {
     "data": {
      "text/html": [
       "<div>\n",
       "<style scoped>\n",
       "    .dataframe tbody tr th:only-of-type {\n",
       "        vertical-align: middle;\n",
       "    }\n",
       "\n",
       "    .dataframe tbody tr th {\n",
       "        vertical-align: top;\n",
       "    }\n",
       "\n",
       "    .dataframe thead th {\n",
       "        text-align: right;\n",
       "    }\n",
       "</style>\n",
       "<table border=\"1\" class=\"dataframe\">\n",
       "  <thead>\n",
       "    <tr style=\"text-align: right;\">\n",
       "      <th></th>\n",
       "      <th>Mean Drug R Score</th>\n",
       "    </tr>\n",
       "    <tr>\n",
       "      <th>Group</th>\n",
       "      <th></th>\n",
       "    </tr>\n",
       "  </thead>\n",
       "  <tbody>\n",
       "    <tr>\n",
       "      <th>BVT-948</th>\n",
       "      <td>-0.070793</td>\n",
       "    </tr>\n",
       "    <tr>\n",
       "      <th>HEXACHLOROPHENE</th>\n",
       "      <td>-0.070916</td>\n",
       "    </tr>\n",
       "    <tr>\n",
       "      <th>EBASTINE</th>\n",
       "      <td>-0.071080</td>\n",
       "    </tr>\n",
       "    <tr>\n",
       "      <th>TANSHINONE-I</th>\n",
       "      <td>-0.071319</td>\n",
       "    </tr>\n",
       "    <tr>\n",
       "      <th>PHENAZONE</th>\n",
       "      <td>-0.073362</td>\n",
       "    </tr>\n",
       "    <tr>\n",
       "      <th>LENALIDOMIDE</th>\n",
       "      <td>-0.074156</td>\n",
       "    </tr>\n",
       "    <tr>\n",
       "      <th>BUCLADESINE</th>\n",
       "      <td>-0.074225</td>\n",
       "    </tr>\n",
       "    <tr>\n",
       "      <th>FLUDARABINE-PHOSPHATE</th>\n",
       "      <td>-0.074655</td>\n",
       "    </tr>\n",
       "    <tr>\n",
       "      <th>LONAFARNIB</th>\n",
       "      <td>-0.075254</td>\n",
       "    </tr>\n",
       "    <tr>\n",
       "      <th>DPI-201106</th>\n",
       "      <td>-0.076851</td>\n",
       "    </tr>\n",
       "    <tr>\n",
       "      <th>AM-580</th>\n",
       "      <td>-0.078692</td>\n",
       "    </tr>\n",
       "    <tr>\n",
       "      <th>SORAFENIB</th>\n",
       "      <td>-0.080684</td>\n",
       "    </tr>\n",
       "    <tr>\n",
       "      <th>CEP-33779</th>\n",
       "      <td>-0.081298</td>\n",
       "    </tr>\n",
       "    <tr>\n",
       "      <th>CHIR-124</th>\n",
       "      <td>-0.083256</td>\n",
       "    </tr>\n",
       "    <tr>\n",
       "      <th>ERLOTINIB</th>\n",
       "      <td>-0.087272</td>\n",
       "    </tr>\n",
       "    <tr>\n",
       "      <th>DEFLAZACORT</th>\n",
       "      <td>-0.092872</td>\n",
       "    </tr>\n",
       "    <tr>\n",
       "      <th>8-HYDROXY-PIPAT</th>\n",
       "      <td>-0.096622</td>\n",
       "    </tr>\n",
       "    <tr>\n",
       "      <th>MOCETINOSTAT</th>\n",
       "      <td>-0.105074</td>\n",
       "    </tr>\n",
       "    <tr>\n",
       "      <th>Y-27632</th>\n",
       "      <td>-0.107260</td>\n",
       "    </tr>\n",
       "    <tr>\n",
       "      <th>TROVAFLOXACIN</th>\n",
       "      <td>-0.132147</td>\n",
       "    </tr>\n",
       "  </tbody>\n",
       "</table>\n",
       "</div>"
      ],
      "text/plain": [
       "                       Mean Drug R Score\n",
       "Group                                   \n",
       "BVT-948                        -0.070793\n",
       "HEXACHLOROPHENE                -0.070916\n",
       "EBASTINE                       -0.071080\n",
       "TANSHINONE-I                   -0.071319\n",
       "PHENAZONE                      -0.073362\n",
       "LENALIDOMIDE                   -0.074156\n",
       "BUCLADESINE                    -0.074225\n",
       "FLUDARABINE-PHOSPHATE          -0.074655\n",
       "LONAFARNIB                     -0.075254\n",
       "DPI-201106                     -0.076851\n",
       "AM-580                         -0.078692\n",
       "SORAFENIB                      -0.080684\n",
       "CEP-33779                      -0.081298\n",
       "CHIR-124                       -0.083256\n",
       "ERLOTINIB                      -0.087272\n",
       "DEFLAZACORT                    -0.092872\n",
       "8-HYDROXY-PIPAT                -0.096622\n",
       "MOCETINOSTAT                   -0.105074\n",
       "Y-27632                        -0.107260\n",
       "TROVAFLOXACIN                  -0.132147"
      ]
     },
     "execution_count": 11,
     "metadata": {},
     "output_type": "execute_result"
    }
   ],
   "source": [
    "entire_dataset_rscores.tail(20)"
   ]
  },
  {
   "cell_type": "code",
   "execution_count": null,
   "metadata": {},
   "outputs": [],
   "source": []
  }
 ],
 "metadata": {
  "kernelspec": {
   "display_name": "DruxAI",
   "language": "python",
   "name": "python3"
  },
  "language_info": {
   "codemirror_mode": {
    "name": "ipython",
    "version": 3
   },
   "file_extension": ".py",
   "mimetype": "text/x-python",
   "name": "python",
   "nbconvert_exporter": "python",
   "pygments_lexer": "ipython3",
   "version": "3.9.18"
  }
 },
 "nbformat": 4,
 "nbformat_minor": 2
}

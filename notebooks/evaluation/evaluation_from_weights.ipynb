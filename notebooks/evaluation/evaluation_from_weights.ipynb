{
 "cells": [
  {
   "cell_type": "code",
   "execution_count": null,
   "metadata": {},
   "outputs": [],
   "source": [
    "%load_ext autoreload\n",
    "%autoreload 2"
   ]
  },
  {
   "cell_type": "code",
   "execution_count": null,
   "metadata": {},
   "outputs": [],
   "source": [
    "import torch\n",
    "from druxai.models.NN_flexible import Interaction_Model\n",
    "from druxai.utils.data import DrugResponseDataset\n",
    "from druxai.utils.dataframe_utils import split_data_by_cell_line_ids, standardize_molecular_data_inplace\n",
    "from torch.utils.data import DataLoader\n",
    "import pandas as pd\n",
    "from scipy.stats import spearmanr\n",
    "from druxai.utils.plotting import plot_ordered_r_scores\n",
    "from types import SimpleNamespace"
   ]
  },
  {
   "cell_type": "code",
   "execution_count": null,
   "metadata": {},
   "outputs": [],
   "source": [
    "# Checkpoint path\n",
    "# Always safe specific config with a run! Important especially if seed is changed because then we have other splits!\n",
    "\n",
    "ckpt_path = \"/Users/niklaskiermeyer/Desktop/Codespace/DruxAI/results/training/ckpt_sgd_baseline.pt\"\n",
    "\n",
    "checkpoint = torch.load(ckpt_path)\n",
    "cfg = checkpoint[\"config\"]"
   ]
  },
  {
   "cell_type": "code",
   "execution_count": null,
   "metadata": {},
   "outputs": [],
   "source": [
    "# Load data\n",
    "data = DrugResponseDataset(cfg[\"DATA_PATH\"])\n",
    "train_id, val_id, test_id = split_data_by_cell_line_ids(data.targets)\n",
    "standardize_molecular_data_inplace(data, train_id=train_id, val_id=val_id, test_id=test_id)\n",
    "\n",
    "val_loader = DataLoader(\n",
    "    data,\n",
    "    sampler=val_id,\n",
    "    batch_size=128,\n",
    "    shuffle=False,\n",
    "    pin_memory=True,\n",
    "    num_workers=6,\n",
    "    persistent_workers=True\n",
    ")\n",
    "\n",
    "train_loader = DataLoader(\n",
    "    data,\n",
    "    sampler=train_id,\n",
    "    batch_size=128,\n",
    "    shuffle=False,\n",
    "    pin_memory=True,\n",
    "    num_workers=6,\n",
    "    persistent_workers=True\n",
    ")"
   ]
  },
  {
   "cell_type": "code",
   "execution_count": null,
   "metadata": {},
   "outputs": [],
   "source": [
    "config = {\n",
    "    \"metric\": {\"name\": \"r2_val\", \"goal\": \"maximize\"},\n",
    "    \"resume\": False,\n",
    "    \"patience\": 5,\n",
    "    \"epochs\": 10,\n",
    "    \"optimizer\": \"sgd\",\n",
    "    \"scheduler\": \"exponential\",\n",
    "    \"loss\": \"huber\",\n",
    "    \"batch_size\": 64,\n",
    "    \"learning_rate\": 0.1,\n",
    "    \"output_features\": 10,\n",
    "    \"hidden_dims_drug_nn\": [512],\n",
    "    \"hidden_dims_gene_expression_nn\": [512],\n",
    "    \"dropout_drug_nn\": 0.2,\n",
    "    \"dropout_gene_expression_nn\": 0.2,\n",
    "}\n",
    "\n",
    "config = SimpleNamespace(**config)"
   ]
  },
  {
   "cell_type": "code",
   "execution_count": null,
   "metadata": {},
   "outputs": [],
   "source": [
    "model = Interaction_Model(\n",
    "            data,\n",
    "            config.output_features,\n",
    "            config.hidden_dims_drug_nn,\n",
    "            config.hidden_dims_gene_expression_nn,\n",
    "            config.dropout_drug_nn,\n",
    "            config.dropout_gene_expression_nn,\n",
    "        )\n",
    "\n",
    "model.load_state_dict(checkpoint[\"model\"])\n",
    "model.to(\"mps\")\n",
    "# Setup optimizers\n",
    "\n",
    "predictions = []\n",
    "targets = []\n",
    "cell_lines = []\n",
    "drugs = []\n",
    "keys = []\n",
    "with torch.no_grad():\n",
    "    model.eval()\n",
    "    for X, y, idx in val_loader:\n",
    "        drug, molecular, outcome = (\n",
    "            X[\"drug_encoding\"].to(\"mps\"),\n",
    "            X[\"gene_expression\"].to(\"mps\"),\n",
    "            y.to(\"mps\")\n",
    "        )\n",
    "\n",
    "        # Assuming model.predict returns the predicted values\n",
    "        prediction = model.forward(drug, molecular).reshape(-1).tolist()\n",
    "        predictions.append(prediction)\n",
    "\n",
    "        targets.append(y.reshape(-1).tolist())\n",
    "\n",
    "        # Fetch cell line and drug from data.targets DataFrame\n",
    "        cell_line = data.targets.iloc[idx][\"cell_line\"].to_list()\n",
    "        compound = data.targets.iloc[idx][\"DRUG\"].to_list()\n",
    "\n",
    "        cell_lines.append(cell_line)\n",
    "        drugs.append(compound)\n",
    "        keys.append([id.item() for id in idx])"
   ]
  },
  {
   "cell_type": "code",
   "execution_count": null,
   "metadata": {},
   "outputs": [],
   "source": [
    "data_dict = {\n",
    "    \"ID\": keys,\n",
    "    \"Prediction\": predictions,\n",
    "    \"Target\": targets,\n",
    "    \"cell_line\": cell_lines,\n",
    "    \"Drug\": drugs\n",
    "}\n",
    "\n",
    "# Create a DataFrame from the dictionary\n",
    "results_df_val = pd.DataFrame(data_dict).apply(pd.Series.explode)\n",
    "\n",
    "print(f\"Overall R-Score: {spearmanr(results_df_val['Prediction'], results_df_val['Target'])[0]} \\n\")\n",
    "print(results_df_val.head())"
   ]
  },
  {
   "cell_type": "code",
   "execution_count": null,
   "metadata": {},
   "outputs": [],
   "source": [
    "# Calculate R score for each cell line\n",
    "group_by_features = [\"cell_line\", \"Drug\"]\n",
    "grouped_dfs_val = {}\n",
    "for group_by_feature in group_by_features:\n",
    "    grouped_dfs_val[group_by_feature] = plot_ordered_r_scores(results_df_val, group_by_feature)"
   ]
  },
  {
   "cell_type": "code",
   "execution_count": null,
   "metadata": {},
   "outputs": [],
   "source": [
    "mean_r_score = {}\n",
    "for key in grouped_dfs_val:\n",
    "    mean_r_score[key] = grouped_dfs_val[key][\"R Score\"].mean()\n",
    "\n",
    "print(\"Mean R Score stratified by Cell Line and Drug\")\n",
    "mean_r_score"
   ]
  },
  {
   "cell_type": "code",
   "execution_count": null,
   "metadata": {},
   "outputs": [],
   "source": [
    "grouped_dfs_val[\"cell_line\"]"
   ]
  },
  {
   "cell_type": "code",
   "execution_count": null,
   "metadata": {},
   "outputs": [],
   "source": [
    "frame = grouped_dfs_val[\"Drug\"]\n",
    "frame[frame[\"Group\"]==\"POZIOTINIB\"]"
   ]
  },
  {
   "cell_type": "code",
   "execution_count": null,
   "metadata": {},
   "outputs": [],
   "source": [
    "grouped_dfs_val"
   ]
  },
  {
   "cell_type": "markdown",
   "metadata": {},
   "source": [
    "## Prediction on Train set"
   ]
  },
  {
   "cell_type": "code",
   "execution_count": null,
   "metadata": {},
   "outputs": [],
   "source": [
    "model = Interaction_Model(data, config[\"hidden_dim\"], config[\"output_features\"], config[\"dropout_nn1\"],\n",
    "                          config[\"dropout_nn2\"])\n",
    "\n",
    "model.load_state_dict(checkpoint[\"model\"])\n",
    "model.to(\"mps\")\n",
    "# Setup optimizers\n",
    "\n",
    "predictions = []\n",
    "targets = []\n",
    "cell_lines = []\n",
    "drugs = []\n",
    "keys = []\n",
    "with torch.no_grad():\n",
    "    model.eval()\n",
    "    for X, y, idx in train_loader:\n",
    "        drug, molecular, outcome = (\n",
    "            X[\"drug_encoding\"].to(\"mps\"),\n",
    "            X[\"gene_expression\"].to(\"mps\"),\n",
    "            y.to(\"mps\")\n",
    "        )\n",
    "\n",
    "        # Assuming model.predict returns the predicted values\n",
    "        prediction = model.forward(drug, molecular).reshape(-1).tolist()\n",
    "        predictions.append(prediction)\n",
    "\n",
    "        targets.append(y.reshape(-1).tolist())\n",
    "\n",
    "        # Fetch cell line and drug from data.targets DataFrame\n",
    "        cell_line = data.targets.iloc[idx][\"cell_line\"].to_list()\n",
    "        compound = data.targets.iloc[idx][\"DRUG\"].to_list()\n",
    "\n",
    "        cell_lines.append(cell_line)\n",
    "        drugs.append(compound)\n",
    "        keys.append([id.item() for id in idx])"
   ]
  },
  {
   "cell_type": "code",
   "execution_count": null,
   "metadata": {},
   "outputs": [],
   "source": [
    "data_dict = {\n",
    "    \"ID\": keys,\n",
    "    \"Prediction\": predictions,\n",
    "    \"Target\": targets,\n",
    "    \"cell_line\": cell_lines,\n",
    "    \"Drug\": drugs\n",
    "}\n",
    "\n",
    "# Create a DataFrame from the dictionary\n",
    "results_df_train = pd.DataFrame(data_dict).apply(pd.Series.explode)\n",
    "\n",
    "print(f\"Overall R-Score: {spearmanr(results_df_train['Prediction'], results_df_train['Target'])[0]} \\n\")\n",
    "print(results_df_train.head())\n",
    "\n",
    "# Calculate R score for each cell line\n",
    "group_by_features = [\"cell_line\", \"Drug\"]\n",
    "grouped_dfs_train = {}\n",
    "for group_by_feature in group_by_features:\n",
    "    grouped_dfs_train[group_by_feature] = plot_ordered_r_scores(results_df_train, group_by_feature)"
   ]
  },
  {
   "cell_type": "code",
   "execution_count": null,
   "metadata": {},
   "outputs": [],
   "source": [
    "mean_r_score = {}\n",
    "for key in grouped_dfs_train:\n",
    "    mean_r_score[key] = grouped_dfs_train[key][\"R Score\"].mean()\n",
    "\n",
    "mean_r_score"
   ]
  },
  {
   "cell_type": "code",
   "execution_count": null,
   "metadata": {},
   "outputs": [],
   "source": [
    "grouped_dfs_train[\"cell_line\"]"
   ]
  },
  {
   "cell_type": "code",
   "execution_count": null,
   "metadata": {},
   "outputs": [],
   "source": [
    "grouped_dfs_train[\"Drug\"]"
   ]
  },
  {
   "cell_type": "markdown",
   "metadata": {},
   "source": [
    "## Check Correlation between cell_lines type count vs predicted values\n",
    "\n",
    "Is there a correlation between a cell_line which does not have many observation in terms of prediction vs highly presented ones\n",
    "Same for drugs. \n",
    "\n"
   ]
  },
  {
   "cell_type": "code",
   "execution_count": null,
   "metadata": {},
   "outputs": [],
   "source": [
    "val_cell_line_ranks = data.targets.iloc[val_id].groupby(\"cell_line\")[\"DRUG\"].nunique().sort_values().rank()\n",
    "val_cell_line_ranks = pd.DataFrame(val_cell_line_ranks)\n",
    "\n",
    "df1 = grouped_dfs_val[\"cell_line\"].set_index(\"Group\")\n",
    "df2 = val_cell_line_ranks\n",
    "\n",
    "merged_df = df1.join(df2)\n",
    "correlation = merged_df[\"R Score\"].corr(merged_df[\"DRUG\"])\n",
    "\n",
    "print(\"Val Correlation between R Score and rank:\", correlation)"
   ]
  },
  {
   "cell_type": "code",
   "execution_count": null,
   "metadata": {},
   "outputs": [],
   "source": [
    "train_cell_line_ranks = data.targets.iloc[train_id].groupby(\"cell_line\")[\"DRUG\"].nunique().sort_values().rank()\n",
    "train_cell_line_ranks = pd.DataFrame(train_cell_line_ranks)\n",
    "\n",
    "df1 = grouped_dfs_train[\"cell_line\"].set_index(\"Group\")\n",
    "df2 = train_cell_line_ranks\n",
    "\n",
    "merged_df = df1.join(df2)\n",
    "correlation = merged_df[\"R Score\"].corr(merged_df[\"DRUG\"])\n",
    "\n",
    "print(\"Train Correlation between R Score and rank:\", correlation)"
   ]
  },
  {
   "cell_type": "code",
   "execution_count": null,
   "metadata": {},
   "outputs": [],
   "source": []
  }
 ],
 "metadata": {
  "kernelspec": {
   "display_name": "DruxAI",
   "language": "python",
   "name": "python3"
  },
  "language_info": {
   "codemirror_mode": {
    "name": "ipython",
    "version": 3
   },
   "file_extension": ".py",
   "mimetype": "text/x-python",
   "name": "python",
   "nbconvert_exporter": "python",
   "pygments_lexer": "ipython3",
   "version": "3.9.18"
  }
 },
 "nbformat": 4,
 "nbformat_minor": 2
}

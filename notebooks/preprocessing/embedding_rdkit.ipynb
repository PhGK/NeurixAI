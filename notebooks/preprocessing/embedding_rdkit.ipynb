{
 "cells": [
  {
   "cell_type": "markdown",
   "id": "45d54f76-45c5-46c1-aeb2-dde40c63e8fc",
   "metadata": {},
   "source": [
    "**Requirements** \n",
    "* According to this [paper](https://arxiv.org/pdf/1904.01561.pdf), features are computed with [descriptastorus](https://github.com/bp-kelley/descriptastorus) package\n",
    "* Install via: `pip install git+https://github.com/bp-kelley/descriptastorus`\n",
    "* Taken from this paper: https://github.com/theislab/chemCPA/blob/main/embeddings/rdkit/embedding_rdkit.ipynb"
   ]
  },
  {
   "cell_type": "markdown",
   "id": "fa137ded",
   "metadata": {},
   "source": [
    "## General imports"
   ]
  },
  {
   "cell_type": "code",
   "execution_count": null,
   "id": "4643260d",
   "metadata": {},
   "outputs": [],
   "source": [
    "import numpy as np\n",
    "from tqdm.notebook import tqdm\n",
    "from joblib import Parallel, delayed\n",
    "import pandas as pd\n",
    "from descriptastorus.descriptors.DescriptorGenerator import MakeGenerator\n",
    "import torch\n",
    "import os"
   ]
  },
  {
   "cell_type": "markdown",
   "id": "db8608d6",
   "metadata": {},
   "source": [
    "## Load Smiles list"
   ]
  },
  {
   "cell_type": "code",
   "execution_count": null,
   "id": "db1601d1",
   "metadata": {},
   "outputs": [],
   "source": [
    "dataset_path = \"/Users/niklaskiermeyer/Desktop/Codespace/DruxAI/data/preprocessed/\"\n",
    "dataset_name = \"auc_secondary_screen_prediction_targets.csv\""
   ]
  },
  {
   "cell_type": "code",
   "execution_count": null,
   "id": "734a3db6",
   "metadata": {},
   "outputs": [],
   "source": [
    "smiles_df = pd.read_csv(dataset_path + dataset_name, index_col=0)\n",
    "smiles_list = smiles_df[\"smiles\"].drop_duplicates().values"
   ]
  },
  {
   "cell_type": "code",
   "execution_count": null,
   "id": "59c153f8",
   "metadata": {},
   "outputs": [],
   "source": [
    "smiles_df.head()"
   ]
  },
  {
   "cell_type": "code",
   "execution_count": null,
   "id": "653d99cf",
   "metadata": {},
   "outputs": [],
   "source": [
    "print(f\"Number of smiles strings: {len(smiles_list)}\")"
   ]
  },
  {
   "cell_type": "code",
   "execution_count": null,
   "id": "a5dc19a2-d321-49e6-a62d-e6024073146e",
   "metadata": {},
   "outputs": [],
   "source": [
    "generator = MakeGenerator((\"RDKit2D\",))\n",
    "for name, numpy_type in generator.GetColumns():\n",
    "    print(f\"{name}({numpy_type.__name__})\")"
   ]
  },
  {
   "cell_type": "code",
   "execution_count": null,
   "id": "003cc588-e4dd-4dcc-98ec-4d3fcdd5432b",
   "metadata": {},
   "outputs": [],
   "source": [
    "n_jobs = 16\n",
    "data = Parallel(n_jobs=n_jobs)(delayed(generator.process)(smiles) for smiles in tqdm(smiles_list, position=0,\n",
    "                                                                                     leave=True) )"
   ]
  },
  {
   "cell_type": "code",
   "execution_count": null,
   "id": "ba76cf35-7e75-4b53-8e82-9ea09a90f01a",
   "metadata": {},
   "outputs": [],
   "source": [
    "embedding = np.array(data)\n",
    "embedding.shape"
   ]
  },
  {
   "cell_type": "markdown",
   "id": "f784e11a-82e8-4b63-90c0-5b835bd1f1a5",
   "metadata": {},
   "source": [
    "## Check `nans` and `infs`"
   ]
  },
  {
   "cell_type": "markdown",
   "id": "9296ab55-04e8-47c7-8624-bf68330c5553",
   "metadata": {},
   "source": [
    "Check for `nans`"
   ]
  },
  {
   "cell_type": "code",
   "execution_count": null,
   "id": "71e23bf2-e2dc-4cf7-a2f2-253a3a35ff99",
   "metadata": {},
   "outputs": [],
   "source": [
    "drug_idx, feature_idx = np.where(np.isnan(embedding))\n",
    "print(f\"drug_idx:\\n {drug_idx}\")\n",
    "print(f\"feature_idx:\\n {feature_idx}\")"
   ]
  },
  {
   "cell_type": "markdown",
   "id": "ac8119cb-4f13-4498-a21d-3c100727ec71",
   "metadata": {},
   "source": [
    "Check for `infs` and add to idx lists"
   ]
  },
  {
   "cell_type": "code",
   "execution_count": null,
   "id": "5ed78575-5351-433a-934d-fb969f33a9a6",
   "metadata": {},
   "outputs": [],
   "source": [
    "drug_idx_infs, feature_idx_infs = np.where(np.isinf(embedding))\n",
    "\n",
    "drug_idx = np.concatenate((drug_idx, drug_idx_infs))\n",
    "feature_idx = np.concatenate((feature_idx, feature_idx_infs))"
   ]
  },
  {
   "cell_type": "markdown",
   "id": "ed64de53-ff22-4f86-839e-9fb70c0558db",
   "metadata": {},
   "source": [
    "Features that have these invalid values:"
   ]
  },
  {
   "cell_type": "code",
   "execution_count": null,
   "id": "eba4e112-e676-4816-9fe4-d2ba9b464b1d",
   "metadata": {
    "tags": []
   },
   "outputs": [],
   "source": [
    "np.array(generator.GetColumns())[np.unique(feature_idx)]"
   ]
  },
  {
   "cell_type": "markdown",
   "id": "a851a96f-27d3-42b6-a74c-db5c6fa6a257",
   "metadata": {},
   "source": [
    "Set values to `0`"
   ]
  },
  {
   "cell_type": "code",
   "execution_count": null,
   "id": "0a7fb00f-468b-4957-96cc-ae0974c54780",
   "metadata": {},
   "outputs": [],
   "source": [
    "embedding[drug_idx, feature_idx]"
   ]
  },
  {
   "cell_type": "code",
   "execution_count": null,
   "id": "1ee85449-5515-4d93-94ae-b3a4845e088b",
   "metadata": {},
   "outputs": [],
   "source": [
    "embedding[drug_idx, feature_idx] = 0"
   ]
  },
  {
   "cell_type": "markdown",
   "id": "cf768d83",
   "metadata": {},
   "source": [
    "## Save"
   ]
  },
  {
   "cell_type": "code",
   "execution_count": null,
   "id": "a6291a01",
   "metadata": {},
   "outputs": [],
   "source": [
    "df = pd.DataFrame(data=embedding,index=smiles_list,columns=[f\"latent_{i}\" for i in range(embedding.shape[1])])\n",
    "\n",
    "# Drop first feature from generator (RDKit2D_calculated)\n",
    "df.drop(columns=[\"latent_0\"], inplace=True)\n",
    "\n",
    "# Drop columns with 0 standard deviation\n",
    "threshold = 0.01\n",
    "columns=[f\"latent_{idx+1}\" for idx in np.where(df.std() <= threshold)[0]]\n",
    "print(f\"Deleting columns with std<={threshold}: {columns}\")\n",
    "df.drop(columns=[f\"latent_{idx+1}\" for idx in np.where(df.std() <= 0.01)[0]], inplace=True)"
   ]
  },
  {
   "cell_type": "markdown",
   "id": "0f14068e-51b8-40a9-b9c6-043c12b082ee",
   "metadata": {},
   "source": [
    "Check that correct columns were deleted: "
   ]
  },
  {
   "cell_type": "code",
   "execution_count": null,
   "id": "c92f8a87-ce38-4309-a6c4-4e5b828b59c7",
   "metadata": {},
   "outputs": [],
   "source": [
    "np.where(df.std() <= threshold)"
   ]
  },
  {
   "cell_type": "markdown",
   "id": "2d0d8c60-79ae-4451-ae5c-321f533bed48",
   "metadata": {},
   "source": [
    "### Normalise dataframe"
   ]
  },
  {
   "cell_type": "code",
   "execution_count": null,
   "id": "721590cd-67bb-4c70-bef4-268fbfa9a7cc",
   "metadata": {},
   "outputs": [],
   "source": [
    "normalized_df=(df-df.mean())/df.std()"
   ]
  },
  {
   "cell_type": "code",
   "execution_count": null,
   "id": "f4b63954-a11e-4384-945d-c94e2b629026",
   "metadata": {},
   "outputs": [],
   "source": [
    "normalized_df.reset_index(inplace=True)\n",
    "normalized_df.rename(columns={\"index\": \"smiles\"}, inplace=True)\n",
    "normalized_df.head()"
   ]
  },
  {
   "cell_type": "code",
   "execution_count": null,
   "id": "983cea40",
   "metadata": {},
   "outputs": [],
   "source": [
    "normalized_df = normalized_df.merge(smiles_df[[\"DRUG\", \"smiles\"]].drop_duplicates(), on=\"smiles\", how=\"inner\")"
   ]
  },
  {
   "cell_type": "code",
   "execution_count": null,
   "id": "d6c8af17",
   "metadata": {},
   "outputs": [],
   "source": [
    "normalized_df.drop(columns=[\"smiles\"], inplace=True)\n",
    "normalized_df"
   ]
  },
  {
   "cell_type": "code",
   "execution_count": null,
   "id": "a57500ed",
   "metadata": {},
   "outputs": [],
   "source": [
    "normalized_df.set_index(\"DRUG\", inplace=True)"
   ]
  },
  {
   "cell_type": "code",
   "execution_count": null,
   "id": "a04a47e3",
   "metadata": {},
   "outputs": [],
   "source": [
    "normalized_df"
   ]
  },
  {
   "cell_type": "markdown",
   "id": "7c216a71-a174-4f0b-8fea-0fe4a1f47fcb",
   "metadata": {},
   "source": [
    "Check destination folder"
   ]
  },
  {
   "cell_type": "code",
   "execution_count": null,
   "id": "339cab05",
   "metadata": {},
   "outputs": [],
   "source": [
    "# Initialize an empty dictionary to store the drug-latent pairs\n",
    "drug_fingerprint_dict = {}\n",
    "\n",
    "# Iterate over the rows of the dataframe\n",
    "for drug, row in normalized_df.iterrows():\n",
    "    # Convert the latent vector to a NumPy array\n",
    "    latent_vector = np.array(row)\n",
    "    # Add the drug-latent pair to the dictionary\n",
    "    drug_fingerprint_dict[drug] = latent_vector"
   ]
  },
  {
   "cell_type": "code",
   "execution_count": null,
   "id": "201edd5b-832b-4350-b82d-8e6a4da099ac",
   "metadata": {},
   "outputs": [],
   "source": [
    "drug_fingerprint_dict"
   ]
  },
  {
   "cell_type": "code",
   "execution_count": null,
   "id": "11dd524e",
   "metadata": {},
   "outputs": [],
   "source": [
    "torch.save(drug_fingerprint_dict, os.path.join(dataset_path, \"drug_fingerprint_dict.pt\"))"
   ]
  },
  {
   "cell_type": "code",
   "execution_count": null,
   "id": "18a53f60",
   "metadata": {},
   "outputs": [],
   "source": [
    "torch.load(os.path.join(dataset_path, \"drug_fingerprint_dict.pt\"))"
   ]
  },
  {
   "cell_type": "code",
   "execution_count": null,
   "id": "281c9800",
   "metadata": {},
   "outputs": [],
   "source": []
  }
 ],
 "metadata": {
  "interpreter": {
   "hash": "ad25c9354f8cefdf5a943c25e67813a21d2807e3af4d6d0915e47390a83b57ce"
  },
  "kernelspec": {
   "display_name": "Python 3",
   "language": "python",
   "name": "python3"
  },
  "language_info": {
   "codemirror_mode": {
    "name": "ipython",
    "version": 3
   },
   "file_extension": ".py",
   "mimetype": "text/x-python",
   "name": "python",
   "nbconvert_exporter": "python",
   "pygments_lexer": "ipython3",
   "version": "3.9.18"
  }
 },
 "nbformat": 4,
 "nbformat_minor": 5
}

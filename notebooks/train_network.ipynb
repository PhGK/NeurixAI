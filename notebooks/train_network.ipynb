{
 "cells": [
  {
   "cell_type": "code",
   "execution_count": 1,
   "metadata": {},
   "outputs": [],
   "source": [
    "%load_ext autoreload\n",
    "%autoreload 2"
   ]
  },
  {
   "cell_type": "code",
   "execution_count": 2,
   "metadata": {},
   "outputs": [
    {
     "name": "stdout",
     "output_type": "stream",
     "text": [
      "\u001b[34mINFO    \u001b[0m --------------------------------------------------                                                        \n",
      "\u001b[34mINFO    \u001b[0m --------------------------------------------------                                                        \n",
      "\u001b[34mINFO    \u001b[0m WARNING! NO GPU DETECTED!                                                                                 \n",
      "\u001b[34mINFO    \u001b[0m WARNING! NO GPU DETECTED!                                                                                 \n",
      "\u001b[34mINFO    \u001b[0m --------------------------------------------------                                                        \n",
      "\u001b[34mINFO    \u001b[0m --------------------------------------------------                                                        \n"
     ]
    },
    {
     "name": "stderr",
     "output_type": "stream",
     "text": [
      "Failed to detect the name of this notebook, you can set it manually with the WANDB_NOTEBOOK_NAME environment variable to enable code saving.\n",
      "\u001b[34m\u001b[1mwandb\u001b[0m: Currently logged in as: \u001b[33mniklaskiermeyer\u001b[0m. Use \u001b[1m`wandb login --relogin`\u001b[0m to force relogin\n"
     ]
    },
    {
     "data": {
      "text/html": [
       "wandb version 0.16.5 is available!  To upgrade, please run:\n",
       " $ pip install wandb --upgrade"
      ],
      "text/plain": [
       "<IPython.core.display.HTML object>"
      ]
     },
     "metadata": {},
     "output_type": "display_data"
    },
    {
     "data": {
      "text/html": [
       "Tracking run with wandb version 0.16.4"
      ],
      "text/plain": [
       "<IPython.core.display.HTML object>"
      ]
     },
     "metadata": {},
     "output_type": "display_data"
    },
    {
     "data": {
      "text/html": [
       "Run data is saved locally in <code>/Users/niklaskiermeyer/Desktop/Codespace/DruxAI/results/training/wandb/run-20240326_095414-swx85vr6</code>"
      ],
      "text/plain": [
       "<IPython.core.display.HTML object>"
      ]
     },
     "metadata": {},
     "output_type": "display_data"
    },
    {
     "data": {
      "text/html": [
       "Syncing run <strong><a href='https://wandb.ai/niklaskiermeyer/druxai/runs/swx85vr6' target=\"_blank\">druxai-run-2</a></strong> to <a href='https://wandb.ai/niklaskiermeyer/druxai' target=\"_blank\">Weights & Biases</a> (<a href='https://wandb.me/run' target=\"_blank\">docs</a>)<br/>"
      ],
      "text/plain": [
       "<IPython.core.display.HTML object>"
      ]
     },
     "metadata": {},
     "output_type": "display_data"
    },
    {
     "data": {
      "text/html": [
       " View project at <a href='https://wandb.ai/niklaskiermeyer/druxai' target=\"_blank\">https://wandb.ai/niklaskiermeyer/druxai</a>"
      ],
      "text/plain": [
       "<IPython.core.display.HTML object>"
      ]
     },
     "metadata": {},
     "output_type": "display_data"
    },
    {
     "data": {
      "text/html": [
       " View run at <a href='https://wandb.ai/niklaskiermeyer/druxai/runs/swx85vr6' target=\"_blank\">https://wandb.ai/niklaskiermeyer/druxai/runs/swx85vr6</a>"
      ],
      "text/plain": [
       "<IPython.core.display.HTML object>"
      ]
     },
     "metadata": {},
     "output_type": "display_data"
    },
    {
     "name": "stdout",
     "output_type": "stream",
     "text": [
      "\u001b[34mINFO    \u001b[0m Loaded targets with shape: \u001b[1m(\u001b[0m\u001b[1;36m556840\u001b[0m, \u001b[1;36m8\u001b[0m\u001b[1m)\u001b[0m                                                                    \n",
      "\u001b[34mINFO    \u001b[0m Loaded targets with shape: \u001b[1m(\u001b[0m\u001b[1;36m556840\u001b[0m, \u001b[1;36m8\u001b[0m\u001b[1m)\u001b[0m                                                                    \n",
      "\u001b[34mINFO    \u001b[0m Loaded molecular data with shape: \u001b[1m(\u001b[0m\u001b[1;36m1479\u001b[0m, \u001b[1;36m19193\u001b[0m\u001b[1m)\u001b[0m                                                           \n",
      "\u001b[34mINFO    \u001b[0m Loaded molecular data with shape: \u001b[1m(\u001b[0m\u001b[1;36m1479\u001b[0m, \u001b[1;36m19193\u001b[0m\u001b[1m)\u001b[0m                                                           \n",
      "\u001b[34mINFO    \u001b[0m Training model from scratch.                                                                              \n",
      "\u001b[34mINFO    \u001b[0m Training model from scratch.                                                                              \n"
     ]
    },
    {
     "name": "stderr",
     "output_type": "stream",
     "text": [
      "/Users/niklaskiermeyer/anaconda3/envs/DruxAI/lib/python3.9/site-packages/torchmetrics/utilities/prints.py:43: UserWarning: Metric `SpearmanCorrcoef` will save all targets and predictions in the buffer. For large datasets, this may lead to large memory footprint.\n",
      "  warnings.warn(*args, **kwargs)  # noqa: B028\n",
      " 32%|███▏      | 1000/3093 [04:03<09:21,  3.72it/s]"
     ]
    },
    {
     "name": "stdout",
     "output_type": "stream",
     "text": [
      "\u001b[34mINFO    \u001b[0m New best val_loss achieved!                                                                               \n",
      "         Epoch: 0Train Loss: \u001b[1;36m142110.65625\u001b[0m; Train R2: \u001b[1;36m0.\u001b[0m0026316146831959486Val Loss: \u001b[1;36m213522.75\u001b[0m; Val R2:             \n",
      "         \u001b[1;36m0.\u001b[0m04735567420721054Saving checkpoint to                                                                   \n",
      "         \u001b[35m/Users/niklaskiermeyer/Desktop/Codespace/DruxAI/results/training/\u001b[0m\u001b[95mckpt.pt\u001b[0m                                  \n",
      "\u001b[34mINFO    \u001b[0m New best val_loss achieved!                                                                               \n",
      "         Epoch: 0Train Loss: \u001b[1;36m142110.65625\u001b[0m; Train R2: \u001b[1;36m0.\u001b[0m0026316146831959486Val Loss: \u001b[1;36m213522.75\u001b[0m; Val R2:             \n",
      "         \u001b[1;36m0.\u001b[0m04735567420721054Saving checkpoint to                                                                   \n",
      "         \u001b[35m/Users/niklaskiermeyer/Desktop/Codespace/DruxAI/results/training/\u001b[0m\u001b[95mckpt.pt\u001b[0m                                  \n"
     ]
    },
    {
     "name": "stderr",
     "output_type": "stream",
     "text": [
      "                                                      \r"
     ]
    },
    {
     "ename": "KeyboardInterrupt",
     "evalue": "",
     "output_type": "error",
     "traceback": [
      "\u001b[0;31m---------------------------------------------------------------------------\u001b[0m",
      "\u001b[0;31mKeyboardInterrupt\u001b[0m                         Traceback (most recent call last)",
      "File \u001b[0;32m~/Desktop/Codespace/DruxAI/src/druxai/train.py:315\u001b[0m\n\u001b[1;32m    311\u001b[0m     \u001b[38;5;66;03m# Start training with chosen configuration.\u001b[39;00m\n\u001b[1;32m    312\u001b[0m     run(cfg, logger)\n\u001b[0;32m--> 315\u001b[0m \u001b[38;5;28;01mif\u001b[39;00m \u001b[38;5;18m__name__\u001b[39m \u001b[38;5;241m==\u001b[39m \u001b[38;5;124m\"\u001b[39m\u001b[38;5;124m__main__\u001b[39m\u001b[38;5;124m\"\u001b[39m:\n\u001b[1;32m    316\u001b[0m     main()\n",
      "File \u001b[0;32m~/Desktop/Codespace/DruxAI/src/druxai/train.py:311\u001b[0m, in \u001b[0;36mmain\u001b[0;34m()\u001b[0m\n\u001b[1;32m    308\u001b[0m     # Get information about allocated GPUs\n\u001b[1;32m    309\u001b[0m     check_cuda_devices(logger)\n\u001b[0;32m--> 311\u001b[0m     # Start training with chosen configuration.\n\u001b[1;32m    312\u001b[0m     run(cfg, logger)\n\u001b[1;32m    315\u001b[0m if __name__ == \"__main__\":\n",
      "File \u001b[0;32m~/Desktop/Codespace/DruxAI/src/druxai/train.py:127\u001b[0m, in \u001b[0;36mrun\u001b[0;34m(cfg, logger)\u001b[0m\n\u001b[1;32m    124\u001b[0m scheduler1 \u001b[38;5;241m=\u001b[39m ExponentialLR(optimizer1, gamma\u001b[38;5;241m=\u001b[39m\u001b[38;5;241m0.9\u001b[39m)\n\u001b[1;32m    125\u001b[0m scheduler2 \u001b[38;5;241m=\u001b[39m ExponentialLR(optimizer2, gamma\u001b[38;5;241m=\u001b[39m\u001b[38;5;241m0.9\u001b[39m)\n\u001b[0;32m--> 127\u001b[0m \u001b[43mtrain\u001b[49m\u001b[43m(\u001b[49m\n\u001b[1;32m    128\u001b[0m \u001b[43m    \u001b[49m\u001b[43mmodel\u001b[49m\u001b[38;5;241;43m=\u001b[39;49m\u001b[43mmodel\u001b[49m\u001b[43m,\u001b[49m\n\u001b[1;32m    129\u001b[0m \u001b[43m    \u001b[49m\u001b[43mloss_func\u001b[49m\u001b[38;5;241;43m=\u001b[39;49m\u001b[43mloss_func\u001b[49m\u001b[43m,\u001b[49m\n\u001b[1;32m    130\u001b[0m \u001b[43m    \u001b[49m\u001b[43moptimizers\u001b[49m\u001b[38;5;241;43m=\u001b[39;49m\u001b[43m(\u001b[49m\u001b[43moptimizer1\u001b[49m\u001b[43m,\u001b[49m\u001b[43m \u001b[49m\u001b[43moptimizer2\u001b[49m\u001b[43m)\u001b[49m\u001b[43m,\u001b[49m\n\u001b[1;32m    131\u001b[0m \u001b[43m    \u001b[49m\u001b[43mschedulers\u001b[49m\u001b[38;5;241;43m=\u001b[39;49m\u001b[43m(\u001b[49m\u001b[43mscheduler1\u001b[49m\u001b[43m,\u001b[49m\u001b[43m \u001b[49m\u001b[43mscheduler2\u001b[49m\u001b[43m)\u001b[49m\u001b[43m,\u001b[49m\n\u001b[1;32m    132\u001b[0m \u001b[43m    \u001b[49m\u001b[43mtrain_loader\u001b[49m\u001b[38;5;241;43m=\u001b[39;49m\u001b[43mtrain_loader\u001b[49m\u001b[43m,\u001b[49m\n\u001b[1;32m    133\u001b[0m \u001b[43m    \u001b[49m\u001b[43mval_loader\u001b[49m\u001b[38;5;241;43m=\u001b[39;49m\u001b[43mval_loader\u001b[49m\u001b[43m,\u001b[49m\n\u001b[1;32m    134\u001b[0m \u001b[43m    \u001b[49m\u001b[43mcfg\u001b[49m\u001b[38;5;241;43m=\u001b[39;49m\u001b[43mcfg\u001b[49m\u001b[43m,\u001b[49m\n\u001b[1;32m    135\u001b[0m \u001b[43m    \u001b[49m\u001b[43miter_num\u001b[49m\u001b[38;5;241;43m=\u001b[39;49m\u001b[43miter_num\u001b[49m\u001b[43m,\u001b[49m\n\u001b[1;32m    136\u001b[0m \u001b[43m    \u001b[49m\u001b[43mbest_val_loss\u001b[49m\u001b[38;5;241;43m=\u001b[39;49m\u001b[43mbest_val_loss\u001b[49m\u001b[43m,\u001b[49m\n\u001b[1;32m    137\u001b[0m \u001b[43m\u001b[49m\u001b[43m)\u001b[49m\n\u001b[1;32m    139\u001b[0m \u001b[38;5;66;03m# Finish the wandb run\u001b[39;00m\n\u001b[1;32m    140\u001b[0m \u001b[38;5;28;01mif\u001b[39;00m cfg[\u001b[38;5;124m\"\u001b[39m\u001b[38;5;124mWANDB_LOG\u001b[39m\u001b[38;5;124m\"\u001b[39m]:\n",
      "File \u001b[0;32m~/Desktop/Codespace/DruxAI/src/druxai/train.py:179\u001b[0m, in \u001b[0;36mtrain\u001b[0;34m(model, loss_func, optimizers, schedulers, train_loader, val_loader, cfg, iter_num, best_val_loss)\u001b[0m\n\u001b[1;32m    176\u001b[0m model\u001b[38;5;241m.\u001b[39mtrain()\n\u001b[1;32m    177\u001b[0m \u001b[38;5;28;01mfor\u001b[39;00m X, y, _ \u001b[38;5;129;01min\u001b[39;00m tqdm(train_loader, leave\u001b[38;5;241m=\u001b[39m\u001b[38;5;28;01mFalse\u001b[39;00m):\n\u001b[1;32m    178\u001b[0m     drug, molecular, outcome \u001b[38;5;241m=\u001b[39m (\n\u001b[0;32m--> 179\u001b[0m         X[\u001b[38;5;124m\"\u001b[39m\u001b[38;5;124mdrug_encoding\u001b[39m\u001b[38;5;124m\"\u001b[39m]\u001b[38;5;241m.\u001b[39mto(cfg[\u001b[38;5;124m\"\u001b[39m\u001b[38;5;124mDEVICE\u001b[39m\u001b[38;5;124m\"\u001b[39m]),\n\u001b[1;32m    180\u001b[0m         X[\u001b[38;5;124m\"\u001b[39m\u001b[38;5;124mgene_expression\u001b[39m\u001b[38;5;124m\"\u001b[39m]\u001b[38;5;241m.\u001b[39mto(cfg[\u001b[38;5;124m\"\u001b[39m\u001b[38;5;124mDEVICE\u001b[39m\u001b[38;5;124m\"\u001b[39m]),\n\u001b[1;32m    181\u001b[0m         y\u001b[38;5;241m.\u001b[39mto(cfg[\u001b[38;5;124m\"\u001b[39m\u001b[38;5;124mDEVICE\u001b[39m\u001b[38;5;124m\"\u001b[39m]),\n\u001b[1;32m    182\u001b[0m     )\n\u001b[1;32m    184\u001b[0m     optimizer1\u001b[38;5;241m.\u001b[39mzero_grad()\n\u001b[1;32m    185\u001b[0m     optimizer2\u001b[38;5;241m.\u001b[39mzero_grad()\n",
      "\u001b[0;31mKeyboardInterrupt\u001b[0m: "
     ]
    }
   ],
   "source": [
    "%run /Users/niklaskiermeyer/Desktop/Codespace/DruxAI/src/druxai/train.py"
   ]
  },
  {
   "cell_type": "code",
   "execution_count": null,
   "metadata": {},
   "outputs": [],
   "source": []
  }
 ],
 "metadata": {
  "kernelspec": {
   "display_name": "DruxAI",
   "language": "python",
   "name": "python3"
  },
  "language_info": {
   "codemirror_mode": {
    "name": "ipython",
    "version": 3
   },
   "file_extension": ".py",
   "mimetype": "text/x-python",
   "name": "python",
   "nbconvert_exporter": "python",
   "pygments_lexer": "ipython3",
   "version": "3.9.18"
  }
 },
 "nbformat": 4,
 "nbformat_minor": 2
}

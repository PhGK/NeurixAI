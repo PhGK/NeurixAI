{
 "cells": [
  {
   "cell_type": "code",
   "execution_count": 1,
   "id": "ace4726f",
   "metadata": {},
   "outputs": [
    {
     "name": "stderr",
     "output_type": "stream",
     "text": [
      "/usr/lib/python3/dist-packages/scipy/__init__.py:146: UserWarning: A NumPy version >=1.17.3 and <1.25.0 is required for this version of SciPy (detected version 1.25.1\n",
      "  warnings.warn(f\"A NumPy version >={np_minversion} and <{np_maxversion}\"\n"
     ]
    }
   ],
   "source": [
    "import pandas as pd\n",
    "import numpy as np\n",
    "import seaborn as sn\n",
    "import matplotlib.pyplot as plt\n",
    "import networkx as nx\n",
    "from node2vec import Node2Vec"
   ]
  },
  {
   "cell_type": "code",
   "execution_count": 126,
   "id": "f0063352",
   "metadata": {},
   "outputs": [
    {
     "data": {
      "text/plain": [
       "Index(['8-BROMO-CGMP', 'NORETYNODREL', 'PREDNISOLONE-ACETATE', 'BETAMETHASONE',\n",
       "       'MEPIVACAINE', 'XL888', 'METOPROLOL', 'METHSCOPOLAMINE', 'LAPPACONITE',\n",
       "       'TERFENADINE',\n",
       "       ...\n",
       "       'LORLATINIB', 'HEXYLRESORCINOL', 'BOSUTINIB', 'AMMONIUM-LACTATE',\n",
       "       'NEMONAPRIDE', 'CROMAKALIM', 'EFONIDIPINE-MONOETHANOLATE',\n",
       "       'DICHLOROACETATE', 'TYLOXAPOL', 'SEVELAMER'],\n",
       "      dtype='object', length=1442)"
      ]
     },
     "execution_count": 126,
     "metadata": {},
     "output_type": "execute_result"
    }
   ],
   "source": [
    "drugs_used = pd.read_csv('../data/Drug_sensitivity_dose-level_(PRISM_Repurposing_Secondary_Screen).csv', index_col=0)\n",
    "drugs_used = drugs_used.columns.str.split(' ').str[0].drop_duplicates()\n",
    "drugs_used"
   ]
  },
  {
   "cell_type": "code",
   "execution_count": 127,
   "id": "75f050f2",
   "metadata": {},
   "outputs": [
    {
     "data": {
      "text/plain": [
       "(1442,)"
      ]
     },
     "execution_count": 127,
     "metadata": {},
     "output_type": "execute_result"
    }
   ],
   "source": []
  },
  {
   "cell_type": "code",
   "execution_count": null,
   "id": "b535248a",
   "metadata": {},
   "outputs": [],
   "source": []
  },
  {
   "cell_type": "code",
   "execution_count": 141,
   "id": "3933c7ff",
   "metadata": {},
   "outputs": [
    {
     "data": {
      "text/html": [
       "<div>\n",
       "<style scoped>\n",
       "    .dataframe tbody tr th:only-of-type {\n",
       "        vertical-align: middle;\n",
       "    }\n",
       "\n",
       "    .dataframe tbody tr th {\n",
       "        vertical-align: top;\n",
       "    }\n",
       "\n",
       "    .dataframe thead th {\n",
       "        text-align: right;\n",
       "    }\n",
       "</style>\n",
       "<table border=\"1\" class=\"dataframe\">\n",
       "  <thead>\n",
       "    <tr style=\"text-align: right;\">\n",
       "      <th></th>\n",
       "      <th>DRUG_NAME</th>\n",
       "      <th>TARGET</th>\n",
       "      <th>TARGET_PATHWAY</th>\n",
       "    </tr>\n",
       "  </thead>\n",
       "  <tbody>\n",
       "    <tr>\n",
       "      <th>111</th>\n",
       "      <td>CARVEDILOL</td>\n",
       "      <td>ADRA1A, ADRA1B, ADRA1D, ADRA2A, ADRA2B, ADRA2C...</td>\n",
       "      <td>ADRENERGIC RECEPTOR ANTAGONIST</td>\n",
       "    </tr>\n",
       "    <tr>\n",
       "      <th>113</th>\n",
       "      <td>NADIDE</td>\n",
       "      <td>AHCY, AKR1A1, ALDH2, BLVRA, DHPS, DLD, GALE, H...</td>\n",
       "      <td>ELECTRON ACCEPTOR</td>\n",
       "    </tr>\n",
       "    <tr>\n",
       "      <th>120</th>\n",
       "      <td>LORAZEPAM</td>\n",
       "      <td>GABRA1, GABRA2, GABRA3, GABRA4, GABRA5, GABRA6...</td>\n",
       "      <td>BENZODIAZEPINE RECEPTOR AGONIST</td>\n",
       "    </tr>\n",
       "    <tr>\n",
       "      <th>122</th>\n",
       "      <td>NUTLIN-3</td>\n",
       "      <td>MDM2, TP53</td>\n",
       "      <td>MDM INHIBITOR</td>\n",
       "    </tr>\n",
       "    <tr>\n",
       "      <th>124</th>\n",
       "      <td>USNIACIN-(+)</td>\n",
       "      <td>PTPN1</td>\n",
       "      <td>MAP KINASE ACTIVATOR</td>\n",
       "    </tr>\n",
       "    <tr>\n",
       "      <th>127</th>\n",
       "      <td>POMALIDOMIDE</td>\n",
       "      <td>CRBN, PTGS2, TNF</td>\n",
       "      <td>ANGIOGENESIS INHIBITOR, TUMOR NECROSIS FACTOR ...</td>\n",
       "    </tr>\n",
       "    <tr>\n",
       "      <th>129</th>\n",
       "      <td>FLUOROMETHOLONE</td>\n",
       "      <td>NR3C1</td>\n",
       "      <td>GLUCOCORTICOID RECEPTOR AGONIST</td>\n",
       "    </tr>\n",
       "    <tr>\n",
       "      <th>132</th>\n",
       "      <td>ORNITHINE</td>\n",
       "      <td>ARG1, ARG2, GATM, GPRC6A, OAT, OAZ1, OAZ2, OAZ...</td>\n",
       "      <td>NFKB PATHWAY MODULATOR</td>\n",
       "    </tr>\n",
       "    <tr>\n",
       "      <th>135</th>\n",
       "      <td>TC1</td>\n",
       "      <td>BACE1</td>\n",
       "      <td>BETA-SECRETASE INHIBITOR</td>\n",
       "    </tr>\n",
       "    <tr>\n",
       "      <th>137</th>\n",
       "      <td>OCTOPAMINE</td>\n",
       "      <td>F10, TAAR1</td>\n",
       "      <td>TRACE AMINE ASSOCIATED RECEPTOR AGONIST</td>\n",
       "    </tr>\n",
       "  </tbody>\n",
       "</table>\n",
       "</div>"
      ],
      "text/plain": [
       "           DRUG_NAME                                             TARGET   \n",
       "111       CARVEDILOL  ADRA1A, ADRA1B, ADRA1D, ADRA2A, ADRA2B, ADRA2C...  \\\n",
       "113           NADIDE  AHCY, AKR1A1, ALDH2, BLVRA, DHPS, DLD, GALE, H...   \n",
       "120        LORAZEPAM  GABRA1, GABRA2, GABRA3, GABRA4, GABRA5, GABRA6...   \n",
       "122         NUTLIN-3                                         MDM2, TP53   \n",
       "124     USNIACIN-(+)                                              PTPN1   \n",
       "127     POMALIDOMIDE                                   CRBN, PTGS2, TNF   \n",
       "129  FLUOROMETHOLONE                                              NR3C1   \n",
       "132        ORNITHINE  ARG1, ARG2, GATM, GPRC6A, OAT, OAZ1, OAZ2, OAZ...   \n",
       "135              TC1                                              BACE1   \n",
       "137       OCTOPAMINE                                         F10, TAAR1   \n",
       "\n",
       "                                        TARGET_PATHWAY  \n",
       "111                     ADRENERGIC RECEPTOR ANTAGONIST  \n",
       "113                                  ELECTRON ACCEPTOR  \n",
       "120                    BENZODIAZEPINE RECEPTOR AGONIST  \n",
       "122                                      MDM INHIBITOR  \n",
       "124                               MAP KINASE ACTIVATOR  \n",
       "127  ANGIOGENESIS INHIBITOR, TUMOR NECROSIS FACTOR ...  \n",
       "129                    GLUCOCORTICOID RECEPTOR AGONIST  \n",
       "132                             NFKB PATHWAY MODULATOR  \n",
       "135                           BETA-SECRETASE INHIBITOR  \n",
       "137            TRACE AMINE ASSOCIATED RECEPTOR AGONIST  "
      ]
     },
     "execution_count": 141,
     "metadata": {},
     "output_type": "execute_result"
    }
   ],
   "source": [
    "df = pd.read_csv('../data/Repurposing_Public_23Q2_Extended_Primary_Compound_List.csv')[['Drug.Name', 'repurposing_target', 'MOA']]\n",
    "df = df.rename(columns = {'Drug.Name': 'DRUG_NAME', 'repurposing_target': 'TARGET', 'MOA': 'TARGET_PATHWAY'})\n",
    "df = df.dropna() #df[(df['TARGET']!= 'NaN') & (df['TARGET_PATHWAY']!= 'NaN')]\n",
    "df = df[np.isin(df['DRUG_NAME'], drugs_used)]\n",
    "df.iloc[20:30,:]"
   ]
  },
  {
   "cell_type": "code",
   "execution_count": 142,
   "id": "0476c161",
   "metadata": {},
   "outputs": [],
   "source": [
    "df  = df.set_index(['DRUG_NAME', 'TARGET_PATHWAY']).apply(lambda x: x.str.split(',').explode()).reset_index()"
   ]
  },
  {
   "cell_type": "code",
   "execution_count": 143,
   "id": "fa08655d",
   "metadata": {},
   "outputs": [
    {
     "data": {
      "text/html": [
       "<div>\n",
       "<style scoped>\n",
       "    .dataframe tbody tr th:only-of-type {\n",
       "        vertical-align: middle;\n",
       "    }\n",
       "\n",
       "    .dataframe tbody tr th {\n",
       "        vertical-align: top;\n",
       "    }\n",
       "\n",
       "    .dataframe thead th {\n",
       "        text-align: right;\n",
       "    }\n",
       "</style>\n",
       "<table border=\"1\" class=\"dataframe\">\n",
       "  <thead>\n",
       "    <tr style=\"text-align: right;\">\n",
       "      <th></th>\n",
       "      <th>DRUG_NAME</th>\n",
       "      <th>TARGET</th>\n",
       "    </tr>\n",
       "  </thead>\n",
       "  <tbody>\n",
       "    <tr>\n",
       "      <th>0</th>\n",
       "      <td>8-BROMO-CGMP</td>\n",
       "      <td>PRKG1</td>\n",
       "    </tr>\n",
       "    <tr>\n",
       "      <th>1</th>\n",
       "      <td>NORETYNODREL</td>\n",
       "      <td>PGR</td>\n",
       "    </tr>\n",
       "    <tr>\n",
       "      <th>2</th>\n",
       "      <td>PREDNISOLONE-ACETATE</td>\n",
       "      <td>NR3C1</td>\n",
       "    </tr>\n",
       "    <tr>\n",
       "      <th>3</th>\n",
       "      <td>BETAMETHASONE</td>\n",
       "      <td>NR3C1</td>\n",
       "    </tr>\n",
       "    <tr>\n",
       "      <th>4</th>\n",
       "      <td>MEPIVACAINE</td>\n",
       "      <td>SCN10A</td>\n",
       "    </tr>\n",
       "    <tr>\n",
       "      <th>...</th>\n",
       "      <td>...</td>\n",
       "      <td>...</td>\n",
       "    </tr>\n",
       "    <tr>\n",
       "      <th>3870</th>\n",
       "      <td>IMATINIB</td>\n",
       "      <td>NTRK1</td>\n",
       "    </tr>\n",
       "    <tr>\n",
       "      <th>3871</th>\n",
       "      <td>IMATINIB</td>\n",
       "      <td>PDGFRA</td>\n",
       "    </tr>\n",
       "    <tr>\n",
       "      <th>3872</th>\n",
       "      <td>IMATINIB</td>\n",
       "      <td>PDGFRB</td>\n",
       "    </tr>\n",
       "    <tr>\n",
       "      <th>3873</th>\n",
       "      <td>IMATINIB</td>\n",
       "      <td>RET</td>\n",
       "    </tr>\n",
       "    <tr>\n",
       "      <th>3874</th>\n",
       "      <td>DEFERASIROX</td>\n",
       "      <td>CYP3A4</td>\n",
       "    </tr>\n",
       "  </tbody>\n",
       "</table>\n",
       "<p>3875 rows × 2 columns</p>\n",
       "</div>"
      ],
      "text/plain": [
       "                 DRUG_NAME   TARGET\n",
       "0             8-BROMO-CGMP    PRKG1\n",
       "1             NORETYNODREL      PGR\n",
       "2     PREDNISOLONE-ACETATE    NR3C1\n",
       "3            BETAMETHASONE    NR3C1\n",
       "4              MEPIVACAINE   SCN10A\n",
       "...                    ...      ...\n",
       "3870              IMATINIB    NTRK1\n",
       "3871              IMATINIB   PDGFRA\n",
       "3872              IMATINIB   PDGFRB\n",
       "3873              IMATINIB      RET\n",
       "3874           DEFERASIROX   CYP3A4\n",
       "\n",
       "[3875 rows x 2 columns]"
      ]
     },
     "execution_count": 143,
     "metadata": {},
     "output_type": "execute_result"
    }
   ],
   "source": [
    "PATHWAY_network = df[['DRUG_NAME', 'TARGET_PATHWAY']].rename(columns={'TARGET_PATHWAY': 'TARGET'})\n",
    "DRUG_NAME_network = pd.concat([df['DRUG_NAME'], df[['DRUG_NAME']].rename(columns= {'DRUG_NAME': 'TARGET'})], axis=1)\n",
    "DRUG_NAME_network['TARGET'] = DRUG_NAME_network['TARGET'] + '_tar'\n",
    "\n",
    "small_network = df[['DRUG_NAME', 'TARGET']]\n",
    "#small_network.to_csv('../use_data/small_compund_network.csv')\n",
    "small_network"
   ]
  },
  {
   "cell_type": "code",
   "execution_count": 144,
   "id": "91b5ac0b",
   "metadata": {},
   "outputs": [],
   "source": [
    "g = nx.from_pandas_edgelist(small_network, 'DRUG_NAME', 'TARGET')\n",
    "plt.rcParams['figure.figsize'] = [15, 15]"
   ]
  },
  {
   "cell_type": "code",
   "execution_count": 145,
   "id": "cda15dab",
   "metadata": {},
   "outputs": [],
   "source": [
    "#nx.draw(g, node_size=5)"
   ]
  },
  {
   "cell_type": "code",
   "execution_count": null,
   "id": "f1e4002b",
   "metadata": {},
   "outputs": [],
   "source": []
  },
  {
   "cell_type": "code",
   "execution_count": 146,
   "id": "1a7fbaad",
   "metadata": {},
   "outputs": [],
   "source": [
    "large_network = pd.concat([small_network, PATHWAY_network, DRUG_NAME_network], axis=0).drop_duplicates()\n",
    "g_large = nx.from_pandas_edgelist(large_network, 'DRUG_NAME', 'TARGET')\n",
    "g_large\n",
    "large_network.to_csv('../use_data/compound_edge_list.csv')"
   ]
  },
  {
   "cell_type": "code",
   "execution_count": 147,
   "id": "daa9f9fe",
   "metadata": {},
   "outputs": [],
   "source": [
    "#nx.draw(g_large, node_size=10)"
   ]
  },
  {
   "cell_type": "code",
   "execution_count": 148,
   "id": "2a7f8313",
   "metadata": {},
   "outputs": [
    {
     "data": {
      "application/vnd.jupyter.widget-view+json": {
       "model_id": "ce9ef59016834030ae96a7ddf0150f17",
       "version_major": 2,
       "version_minor": 0
      },
      "text/plain": [
       "Computing transition probabilities:   0%|          | 0/3981 [00:00<?, ?it/s]"
      ]
     },
     "metadata": {},
     "output_type": "display_data"
    },
    {
     "name": "stderr",
     "output_type": "stream",
     "text": [
      "/usr/lib/python3/dist-packages/scipy/__init__.py:146: UserWarning: A NumPy version >=1.17.3 and <1.25.0 is required for this version of SciPy (detected version 1.25.1\n",
      "  warnings.warn(f\"A NumPy version >={np_minversion} and <{np_maxversion}\"\n",
      "/usr/lib/python3/dist-packages/scipy/__init__.py:146: UserWarning: A NumPy version >=1.17.3 and <1.25.0 is required for this version of SciPy (detected version 1.25.1\n",
      "  warnings.warn(f\"A NumPy version >={np_minversion} and <{np_maxversion}\"\n",
      "/usr/lib/python3/dist-packages/scipy/__init__.py:146: UserWarning: A NumPy version >=1.17.3 and <1.25.0 is required for this version of SciPy (detected version 1.25.1\n",
      "  warnings.warn(f\"A NumPy version >={np_minversion} and <{np_maxversion}\"\n",
      "Generating walks (CPU: 1):   0%|          | 0/29 [00:00<?, ?it/s]/usr/lib/python3/dist-packages/scipy/__init__.py:146: UserWarning: A NumPy version >=1.17.3 and <1.25.0 is required for this version of SciPy (detected version 1.25.1\n",
      "  warnings.warn(f\"A NumPy version >={np_minversion} and <{np_maxversion}\"\n",
      "Generating walks (CPU: 1):   7%|▋         | 2/29 [00:00<00:03,  7.82it/s]/usr/lib/python3/dist-packages/scipy/__init__.py:146: UserWarning: A NumPy version >=1.17.3 and <1.25.0 is required for this version of SciPy (detected version 1.25.1\n",
      "  warnings.warn(f\"A NumPy version >={np_minversion} and <{np_maxversion}\"\n",
      "Generating walks (CPU: 3):   0%|          | 0/29 [00:00<?, ?it/s]/usr/lib/python3/dist-packages/scipy/__init__.py:146: UserWarning: A NumPy version >=1.17.3 and <1.25.0 is required for this version of SciPy (detected version 1.25.1\n",
      "  warnings.warn(f\"A NumPy version >={np_minversion} and <{np_maxversion}\"\n",
      "Generating walks (CPU: 4):   0%|          | 0/29 [00:00<?, ?it/s].41it/s]/usr/lib/python3/dist-packages/scipy/__init__.py:146: UserWarning: A NumPy version >=1.17.3 and <1.25.0 is required for this version of SciPy (detected version 1.25.1\n",
      "  warnings.warn(f\"A NumPy version >={np_minversion} and <{np_maxversion}\"\n",
      "Generating walks (CPU: 1): 100%|██████████| 29/29 [00:07<00:00,  3.71it/s]\n",
      "Generating walks (CPU: 2): 100%|██████████| 29/29 [00:07<00:00,  3.74it/s]\n",
      "Generating walks (CPU: 5): 100%|██████████| 28/28 [00:07<00:00,  3.72it/s]\n",
      "Generating walks (CPU: 6): 100%|██████████| 28/28 [00:07<00:00,  3.80it/s]\n",
      "Generating walks (CPU: 3): 100%|██████████| 29/29 [00:07<00:00,  3.63it/s]\n",
      "Generating walks (CPU: 7): 100%|██████████| 28/28 [00:07<00:00,  3.85it/s]\n",
      "Generating walks (CPU: 4): 100%|██████████| 29/29 [00:08<00:00,  3.57it/s]\n"
     ]
    }
   ],
   "source": [
    "node2vec = Node2Vec(g_large, dimensions=500, walk_length=20, num_walks=200, workers=7) #4 walk_length:30"
   ]
  },
  {
   "cell_type": "code",
   "execution_count": 149,
   "id": "d94458cc",
   "metadata": {},
   "outputs": [],
   "source": [
    "model = node2vec.fit(window=10, min_count=1, batch_words=4) #batch_words=4"
   ]
  },
  {
   "cell_type": "code",
   "execution_count": 150,
   "id": "7e80ac6d",
   "metadata": {},
   "outputs": [],
   "source": [
    "embeddings = pd.DataFrame({drugname: model.wv[drugname] for drugname in df['DRUG_NAME']})"
   ]
  },
  {
   "cell_type": "code",
   "execution_count": 151,
   "id": "3e2b4c94",
   "metadata": {},
   "outputs": [],
   "source": [
    "embeddings.to_csv('../use_data/embeddings.csv')"
   ]
  },
  {
   "cell_type": "code",
   "execution_count": 160,
   "id": "226bdd99",
   "metadata": {},
   "outputs": [
    {
     "name": "stdout",
     "output_type": "stream",
     "text": [
      "0.8476811\n",
      "0.312396\n",
      "0.8235181\n",
      "0.33285716\n",
      "0.34151053\n"
     ]
    }
   ],
   "source": [
    "\n",
    "from numpy import dot\n",
    "from numpy.linalg import norm\n",
    "\n",
    "def cos(a,b):\n",
    "    return dot(a, b)/(norm(a)*norm(b))\n",
    "print(cos(embeddings['POZIOTINIB'], embeddings['DACOMITINIB']))\n",
    "print(cos(embeddings['POZIOTINIB'], embeddings['CISPLATIN']))\n",
    "print(cos(embeddings['VEMURAFENIB'], embeddings['DABRAFENIB']))\n",
    "print(cos(embeddings['VEMURAFENIB'], embeddings['CISPLATIN']))\n",
    "print(cos(embeddings['VEMURAFENIB'], embeddings['DACOMITINIB']))\n"
   ]
  },
  {
   "cell_type": "code",
   "execution_count": 161,
   "id": "cab88bf0",
   "metadata": {},
   "outputs": [
    {
     "name": "stdout",
     "output_type": "stream",
     "text": [
      "0\n",
      "200\n",
      "400\n",
      "600\n",
      "800\n",
      "1000\n"
     ]
    }
   ],
   "source": [
    "res = []\n",
    "filt = np.isin(embeddings.columns, drugs_used)\n",
    "\n",
    "filtered_embeddings  = embeddings.iloc[:, filt]\n",
    "\n",
    "dat = np.array(filtered_embeddings)\n",
    "\n",
    "for row in range(dat.shape[1]):\n",
    "#for row in range(50):\n",
    "    if row%200==0:\n",
    "        print(row)\n",
    "        \n",
    "    cols = []\n",
    "    for col in range(dat.shape[1]):\n",
    "        cols.append(cos(dat[:,row], dat[:,col]))\n",
    "    res.append(np.array(cols))"
   ]
  },
  {
   "cell_type": "code",
   "execution_count": 162,
   "id": "7a35e3a1",
   "metadata": {},
   "outputs": [],
   "source": [
    "results = np.stack(res, axis=0)\n",
    "results.shape\n",
    "np.fill_diagonal(results,0)"
   ]
  },
  {
   "cell_type": "code",
   "execution_count": 163,
   "id": "bc60bf62",
   "metadata": {},
   "outputs": [
    {
     "data": {
      "text/plain": [
       "38766"
      ]
     },
     "execution_count": 163,
     "metadata": {},
     "output_type": "execute_result"
    }
   ],
   "source": [
    "results.argmax()"
   ]
  },
  {
   "cell_type": "code",
   "execution_count": 164,
   "id": "fd56dbbe",
   "metadata": {},
   "outputs": [],
   "source": [
    "#results.sort()"
   ]
  },
  {
   "cell_type": "code",
   "execution_count": 165,
   "id": "debf79f2",
   "metadata": {},
   "outputs": [],
   "source": [
    "results_frame = pd.DataFrame(results, index = filtered_embeddings.columns, columns = filtered_embeddings.columns)"
   ]
  },
  {
   "cell_type": "code",
   "execution_count": 166,
   "id": "9e3234ae",
   "metadata": {},
   "outputs": [],
   "source": [
    "results_frame_long = results_frame.melt(ignore_index=False)"
   ]
  },
  {
   "cell_type": "code",
   "execution_count": 167,
   "id": "efe78e76",
   "metadata": {},
   "outputs": [
    {
     "data": {
      "text/html": [
       "<div>\n",
       "<style scoped>\n",
       "    .dataframe tbody tr th:only-of-type {\n",
       "        vertical-align: middle;\n",
       "    }\n",
       "\n",
       "    .dataframe tbody tr th {\n",
       "        vertical-align: top;\n",
       "    }\n",
       "\n",
       "    .dataframe thead th {\n",
       "        text-align: right;\n",
       "    }\n",
       "</style>\n",
       "<table border=\"1\" class=\"dataframe\">\n",
       "  <thead>\n",
       "    <tr style=\"text-align: right;\">\n",
       "      <th></th>\n",
       "      <th>variable</th>\n",
       "      <th>value</th>\n",
       "    </tr>\n",
       "  </thead>\n",
       "  <tbody>\n",
       "    <tr>\n",
       "      <th>TALTIRELIN</th>\n",
       "      <td>PROTIRELIN</td>\n",
       "      <td>0.995579</td>\n",
       "    </tr>\n",
       "    <tr>\n",
       "      <th>PROTIRELIN</th>\n",
       "      <td>TALTIRELIN</td>\n",
       "      <td>0.995579</td>\n",
       "    </tr>\n",
       "    <tr>\n",
       "      <th>IMIDAPRIL</th>\n",
       "      <td>TEMOCAPRIL</td>\n",
       "      <td>0.994493</td>\n",
       "    </tr>\n",
       "    <tr>\n",
       "      <th>TEMOCAPRIL</th>\n",
       "      <td>IMIDAPRIL</td>\n",
       "      <td>0.994493</td>\n",
       "    </tr>\n",
       "    <tr>\n",
       "      <th>CHICAGO-SKY-BLUE-6B</th>\n",
       "      <td>4-IODO-6-PHENYLPYRIMIDINE</td>\n",
       "      <td>0.991556</td>\n",
       "    </tr>\n",
       "    <tr>\n",
       "      <th>...</th>\n",
       "      <td>...</td>\n",
       "      <td>...</td>\n",
       "    </tr>\n",
       "    <tr>\n",
       "      <th>TRAPIDIL</th>\n",
       "      <td>TRAPIDIL</td>\n",
       "      <td>0.000000</td>\n",
       "    </tr>\n",
       "    <tr>\n",
       "      <th>SB-366791</th>\n",
       "      <td>SB-366791</td>\n",
       "      <td>0.000000</td>\n",
       "    </tr>\n",
       "    <tr>\n",
       "      <th>SB-205384</th>\n",
       "      <td>SB-205384</td>\n",
       "      <td>0.000000</td>\n",
       "    </tr>\n",
       "    <tr>\n",
       "      <th>CLOMIFENE</th>\n",
       "      <td>CLOMIFENE</td>\n",
       "      <td>0.000000</td>\n",
       "    </tr>\n",
       "    <tr>\n",
       "      <th>QUINIDINE</th>\n",
       "      <td>QUINIDINE</td>\n",
       "      <td>0.000000</td>\n",
       "    </tr>\n",
       "  </tbody>\n",
       "</table>\n",
       "<p>1306449 rows × 2 columns</p>\n",
       "</div>"
      ],
      "text/plain": [
       "                                      variable     value\n",
       "TALTIRELIN                          PROTIRELIN  0.995579\n",
       "PROTIRELIN                          TALTIRELIN  0.995579\n",
       "IMIDAPRIL                           TEMOCAPRIL  0.994493\n",
       "TEMOCAPRIL                           IMIDAPRIL  0.994493\n",
       "CHICAGO-SKY-BLUE-6B  4-IODO-6-PHENYLPYRIMIDINE  0.991556\n",
       "...                                        ...       ...\n",
       "TRAPIDIL                              TRAPIDIL  0.000000\n",
       "SB-366791                            SB-366791  0.000000\n",
       "SB-205384                            SB-205384  0.000000\n",
       "CLOMIFENE                            CLOMIFENE  0.000000\n",
       "QUINIDINE                            QUINIDINE  0.000000\n",
       "\n",
       "[1306449 rows x 2 columns]"
      ]
     },
     "execution_count": 167,
     "metadata": {},
     "output_type": "execute_result"
    }
   ],
   "source": [
    "sorted_values = results_frame_long.sort_values('value', ascending=False)\n",
    "sorted_values"
   ]
  },
  {
   "cell_type": "code",
   "execution_count": 170,
   "id": "f44a7d92",
   "metadata": {},
   "outputs": [
    {
     "data": {
      "text/plain": [
       "array([['PROTIRELIN', 0.9955785274505615],\n",
       "       ['TALTIRELIN', 0.9955785274505615],\n",
       "       ['TEMOCAPRIL', 0.9944934844970703],\n",
       "       ['IMIDAPRIL', 0.9944934844970703],\n",
       "       ['4-IODO-6-PHENYLPYRIMIDINE', 0.9915556907653809],\n",
       "       ['CHICAGO-SKY-BLUE-6B', 0.9915556907653809],\n",
       "       ['BI-78D3', 0.9890983700752258],\n",
       "       ['SU3327', 0.9890983700752258],\n",
       "       ['FK-866', 0.9885023832321167],\n",
       "       ['STF-118804', 0.9885023832321167],\n",
       "       ['DOXYCYCLINE', 0.986400842666626],\n",
       "       ['WAY-170523', 0.986400842666626],\n",
       "       ['SAXAGLIPTIN', 0.9843536019325256],\n",
       "       ['ALOGLIPTIN', 0.9843536019325256],\n",
       "       ['EMBELIN', 0.9692172408103943],\n",
       "       ['CISPLATIN', 0.9692172408103943],\n",
       "       ['TERIFLUNOMIDE', 0.965831995010376],\n",
       "       ['BREQUINAR', 0.965831995010376],\n",
       "       ['PF-3845', 0.9635732173919678],\n",
       "       ['PF-04457845', 0.9635732173919678],\n",
       "       ['PUROMYCIN', 0.9634006023406982],\n",
       "       ['ANISOMYCIN', 0.9634006023406982],\n",
       "       ['NAPABUCASIN', 0.9615297317504883],\n",
       "       ['WP1066', 0.9615297317504883],\n",
       "       ['LCL-161', 0.9602095484733582],\n",
       "       ['BIRINAPANT', 0.9602095484733582],\n",
       "       ['EPROSARTAN', 0.9593602418899536],\n",
       "       ['AZILSARTAN', 0.9593602418899536],\n",
       "       ['I-BET151', 0.9591408371925354],\n",
       "       ['OTX015', 0.9591408371925354],\n",
       "       ['K-858', 0.9585527181625366],\n",
       "       ['LITRONESIB', 0.9585527181625366],\n",
       "       ['DALCETRAPIB', 0.9581209421157837],\n",
       "       ['EVACETRAPIB', 0.9581209421157837],\n",
       "       ['CARFILZOMIB', 0.957589328289032],\n",
       "       ['BORTEZOMIB', 0.957589328289032],\n",
       "       ['KPT-276', 0.9572001099586487],\n",
       "       ['SELINEXOR', 0.9572001099586487],\n",
       "       ['KPT-276', 0.9568026661872864],\n",
       "       ['KPT-185', 0.9568026661872864],\n",
       "       ['I-BET-762', 0.9557093977928162],\n",
       "       ['I-BET151', 0.9557093977928162],\n",
       "       ['P5091', 0.9556090235710144],\n",
       "       ['P22077', 0.9556090235710144],\n",
       "       ['CANDESARTAN', 0.9549447298049927],\n",
       "       ['EPROSARTAN', 0.9549447298049927],\n",
       "       ['DALCETRAPIB', 0.9543104767799377],\n",
       "       ['TORCETRAPIB', 0.9543104767799377],\n",
       "       ['LITRONESIB', 0.9523481726646423],\n",
       "       ['SB-743921', 0.9523481726646423]], dtype=object)"
      ]
     },
     "execution_count": 170,
     "metadata": {},
     "output_type": "execute_result"
    }
   ],
   "source": [
    "sorted_values.to_numpy()[:50]"
   ]
  },
  {
   "cell_type": "code",
   "execution_count": null,
   "id": "24e1f74b",
   "metadata": {},
   "outputs": [],
   "source": []
  },
  {
   "cell_type": "code",
   "execution_count": null,
   "id": "0baf2375",
   "metadata": {},
   "outputs": [],
   "source": []
  },
  {
   "cell_type": "code",
   "execution_count": null,
   "id": "031129bd",
   "metadata": {},
   "outputs": [],
   "source": []
  }
 ],
 "metadata": {
  "kernelspec": {
   "display_name": "Python 3 (ipykernel)",
   "language": "python",
   "name": "python3"
  },
  "language_info": {
   "codemirror_mode": {
    "name": "ipython",
    "version": 3
   },
   "file_extension": ".py",
   "mimetype": "text/x-python",
   "name": "python",
   "nbconvert_exporter": "python",
   "pygments_lexer": "ipython3",
   "version": "3.10.12"
  }
 },
 "nbformat": 4,
 "nbformat_minor": 5
}
